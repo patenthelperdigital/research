{
 "cells": [
  {
   "cell_type": "code",
   "execution_count": 4,
   "id": "e46a7fd3",
   "metadata": {},
   "outputs": [],
   "source": [
    "import pathlib\n",
    "\n",
    "import numpy as np\n",
    "import pandas as pd\n",
    "import tqdm"
   ]
  },
  {
   "cell_type": "code",
   "execution_count": 5,
   "id": "3dad245c",
   "metadata": {},
   "outputs": [],
   "source": [
    "CHUNKSIZE = 1e5"
   ]
  },
  {
   "cell_type": "code",
   "execution_count": 7,
   "id": "ed6be57b",
   "metadata": {},
   "outputs": [],
   "source": [
    "base_df = pd.read_csv(\n",
    "    \"../data/База по всем организациям и ИП.zip\",\n",
    "    sep=\";\", \n",
    "    chunksize=CHUNKSIZE, \n",
    "    dtype=str\n",
    ")"
   ]
  },
  {
   "cell_type": "code",
   "execution_count": null,
   "id": "5cf80892",
   "metadata": {},
   "outputs": [
    {
     "name": "stderr",
     "output_type": "stream",
     "text": [
      "73it [04:31,  2.98s/it]"
     ]
    }
   ],
   "source": [
    "out_file = pathlib.Path(\"/home/pavel/search_base.csv\")\n",
    "\n",
    "for chunk in tqdm.tqdm(base_df):\n",
    "    try:\n",
    "        chunk[\"name\"] = chunk[\"Наименование полное\"]\n",
    "        chunk[\"tax_number\"] = chunk[\"ИНН\"]\n",
    "        chunk[\"individual\"] = chunk[\"ОКОПФ (расшифровка)\"] == \"Индивидуальный предприниматель\"\n",
    "        chunk[\"creation_date\"] = pd.to_datetime(chunk[\"Дата создания\"], errors=\"coerce\").dt.date\n",
    "        chunk[\"active\"] = chunk[\"Компания действующая (1) или нет (0)\"].fillna(0).astype(bool)\n",
    "        chunk[\"activity_code\"] = chunk[\"ОКВЭД2\"]\n",
    "        chunk[\"address\"] = chunk[\"Юр адрес\"]\n",
    "        \n",
    "        chunk.dropna(subset=\"tax_number\", inplace=True)\n",
    "        chunk.dropna(subset=\"tax_number\", inplace=True)\n",
    "        \n",
    "        chunk = chunk[[\n",
    "            \"name\", \"tax_number\", \"individual\", \"creation_date\",\n",
    "            \"active\", \"activity_code\", \"address\"\n",
    "        ]]\n",
    "\n",
    "        if out_file.exists():\n",
    "            chunk.to_csv(out_file, header=False, index=False, mode=\"a\")\n",
    "        else:\n",
    "            chunk.to_csv(out_file, header=True, index=False, mode=\"w\")\n",
    "    except Exception as e:\n",
    "        pass"
   ]
  },
  {
   "cell_type": "code",
   "execution_count": null,
   "id": "4292a7f8",
   "metadata": {},
   "outputs": [],
   "source": []
  }
 ],
 "metadata": {
  "kernelspec": {
   "display_name": "Python 3 (ipykernel)",
   "language": "python",
   "name": "python3"
  },
  "language_info": {
   "codemirror_mode": {
    "name": "ipython",
    "version": 3
   },
   "file_extension": ".py",
   "mimetype": "text/x-python",
   "name": "python",
   "nbconvert_exporter": "python",
   "pygments_lexer": "ipython3",
   "version": "3.10.6"
  }
 },
 "nbformat": 4,
 "nbformat_minor": 5
}
