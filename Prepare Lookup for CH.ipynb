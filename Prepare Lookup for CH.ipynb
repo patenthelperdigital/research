{
 "cells": [
  {
   "cell_type": "code",
   "execution_count": 7,
   "id": "8ed52d83",
   "metadata": {},
   "outputs": [],
   "source": [
    "import pathlib\n",
    "\n",
    "import numpy as np\n",
    "import pandas as pd\n",
    "import tqdm"
   ]
  },
  {
   "cell_type": "code",
   "execution_count": 8,
   "id": "538c87f6",
   "metadata": {},
   "outputs": [],
   "source": [
    "CHUNKSIZE = 1e4"
   ]
  },
  {
   "cell_type": "code",
   "execution_count": 9,
   "id": "23acd8b4",
   "metadata": {},
   "outputs": [],
   "source": [
    "base_df = pd.read_csv(\n",
    "    \"../data/База по всем организациям и ИП.zip\",\n",
    "    sep=\";\", \n",
    "    chunksize=CHUNKSIZE, \n",
    "    dtype=str\n",
    ")"
   ]
  },
  {
   "cell_type": "code",
   "execution_count": 10,
   "id": "875db482",
   "metadata": {},
   "outputs": [
    {
     "name": "stderr",
     "output_type": "stream",
     "text": [
      "3184it [16:28,  3.22it/s]\n"
     ]
    }
   ],
   "source": [
    "out_file = pathlib.Path(\"/home/pavel/search_base.csv\")\n",
    "\n",
    "for chunk in tqdm.tqdm(base_df):\n",
    "    try:\n",
    "        chunk.dropna(subset=[\"Наименование полное\", \"ИНН\"], how=\"any\", inplace=True)\n",
    "        chunk = chunk.loc[chunk[\"Головная компания (1) или филиал (0)\"] == '1', :].copy()\n",
    "        \n",
    "        chunk[\"name\"] = chunk[\"Наименование полное\"].str.upper()\n",
    "        chunk[\"tax_number\"] = chunk[\"ИНН\"]\n",
    "        chunk[\"individual\"] = chunk[\"ОКОПФ (расшифровка)\"] == \"Индивидуальные предприниматели\"\n",
    "        chunk[\"creation_date\"] = pd.to_datetime(chunk[\"Дата создания\"], errors=\"coerce\").dt.date\n",
    "        chunk[\"active\"] = chunk[\"Компания действующая (1) или нет (0)\"].fillna(0).astype(bool)\n",
    "        chunk[\"activity_code\"] = chunk[\"ОКВЭД2\"]\n",
    "        chunk[\"legal_address\"] = chunk[\"Юр адрес\"]\n",
    "        chunk[\"fact_address\"] = chunk[\"Факт адрес\"]\n",
    "        \n",
    "        chunk = chunk[[\n",
    "            \"name\", \"tax_number\", \"individual\", \"creation_date\",\n",
    "            \"active\", \"activity_code\", \"legal_address\", \"fact_address\"\n",
    "        ]]\n",
    "\n",
    "        if out_file.exists():\n",
    "            chunk.to_csv(out_file, header=False, index=False, mode=\"a\")\n",
    "        else:\n",
    "            chunk.to_csv(out_file, header=True, index=False, mode=\"w\")\n",
    "    except Exception as e:\n",
    "        print(e)\n",
    "        pass"
   ]
  },
  {
   "cell_type": "code",
   "execution_count": null,
   "id": "eed738a2",
   "metadata": {},
   "outputs": [],
   "source": []
  }
 ],
 "metadata": {
  "kernelspec": {
   "display_name": "Python 3 (ipykernel)",
   "language": "python",
   "name": "python3"
  },
  "language_info": {
   "codemirror_mode": {
    "name": "ipython",
    "version": 3
   },
   "file_extension": ".py",
   "mimetype": "text/x-python",
   "name": "python",
   "nbconvert_exporter": "python",
   "pygments_lexer": "ipython3",
   "version": "3.10.6"
  }
 },
 "nbformat": 4,
 "nbformat_minor": 5
}
