{
 "cells": [
  {
   "cell_type": "code",
   "execution_count": 1,
   "id": "e78a71bc",
   "metadata": {},
   "outputs": [],
   "source": [
    "import pathlib\n",
    "\n",
    "import numpy as np\n",
    "import pandas as pd\n",
    "import tqdm"
   ]
  },
  {
   "cell_type": "code",
   "execution_count": 2,
   "id": "42380b3b",
   "metadata": {},
   "outputs": [],
   "source": [
    "CHUNKSIZE = 1e5"
   ]
  },
  {
   "cell_type": "code",
   "execution_count": 3,
   "id": "cb56f7db",
   "metadata": {},
   "outputs": [],
   "source": [
    "def format_tax_number(tax_number: str) -> str:\n",
    "    tn_len = len(tax_number)\n",
    "\n",
    "    if tn_len < 9 or tn_len > 12:\n",
    "        return np.nan\n",
    "\n",
    "    if tn_len in (9, 11):\n",
    "        return tax_number.rjust(tn_len + 1, \"0\")\n",
    "\n",
    "    return tax_number"
   ]
  },
  {
   "cell_type": "code",
   "execution_count": 4,
   "id": "b843c5b6",
   "metadata": {},
   "outputs": [],
   "source": [
    "inv_1 = pd.read_csv(\"../data/opendata/matched/inventions_matched_part_1.csv\", dtype=str)\n",
    "inv_2 = pd.read_csv(\"../data/opendata/matched/inventions_matched_part_2.csv\", dtype=str)\n",
    "mod = pd.read_csv(\"../data/opendata/matched/models_matched.csv\", dtype=str)\n",
    "des = pd.read_csv(\"../data/opendata/matched/designs_matched.csv\", dtype=str)"
   ]
  },
  {
   "cell_type": "code",
   "execution_count": 5,
   "id": "a0db76a7",
   "metadata": {},
   "outputs": [
    {
     "data": {
      "text/plain": [
       "(148217, 1)"
      ]
     },
     "execution_count": 5,
     "metadata": {},
     "output_type": "execute_result"
    }
   ],
   "source": [
    "tax_numbers = pd.concat((inv_1, inv_2, mod, des))[[\"person_tax_number\"]].dropna().drop_duplicates()\n",
    "tax_numbers[\"person_tax_number\"] = tax_numbers[\"person_tax_number\"].apply(format_tax_number)\n",
    "assert set(tax_numbers[\"person_tax_number\"].str.len().value_counts().index) == {10, 12}\n",
    "assert tax_numbers[\"person_tax_number\"].nunique() == len(tax_numbers)\n",
    "tax_numbers.shape"
   ]
  },
  {
   "cell_type": "code",
   "execution_count": 6,
   "id": "31b8fca3",
   "metadata": {},
   "outputs": [],
   "source": [
    "base_df = pd.read_csv(\n",
    "    \"../data/persons.zip\",\n",
    "    sep=\";\", \n",
    "    chunksize=CHUNKSIZE, \n",
    "    dtype=str\n",
    ")"
   ]
  },
  {
   "cell_type": "code",
   "execution_count": 7,
   "id": "d5be929f",
   "metadata": {},
   "outputs": [],
   "source": [
    "out_file = pathlib.Path(\"../data/persons_with_patents.csv\")"
   ]
  },
  {
   "cell_type": "code",
   "execution_count": null,
   "id": "41a95afe",
   "metadata": {},
   "outputs": [
    {
     "name": "stderr",
     "output_type": "stream",
     "text": [
      "12it [00:34,  3.36s/it]"
     ]
    }
   ],
   "source": [
    "for chunk in tqdm.tqdm(base_df):\n",
    "    try:\n",
    "        chunk.dropna(subset=[\"Наименование полное\", \"ИНН\"], how=\"any\", inplace=True)\n",
    "        chunk = chunk.loc[chunk[\"Головная компания (1) или филиал (0)\"] == '1', :].copy()\n",
    "        chunk[\"ИНН\"] = chunk[\"ИНН\"].apply(format_tax_number)\n",
    "        assert len(set(chunk[\"ИНН\"].str.len().value_counts().index) - {10, 12}) == 0, \\\n",
    "            f\"Unexpected tax number lengths {set(chunk['ИНН'].str.len().value_counts().index)}\"\n",
    "        \n",
    "        chunk = chunk.loc[chunk[\"ИНН\"].isin(tax_numbers[\"person_tax_number\"])]       \n",
    "        \n",
    "        if out_file.exists():\n",
    "            chunk.to_csv(out_file, header=False, index=False, mode=\"a\")\n",
    "        else:\n",
    "            chunk.to_csv(out_file, header=True, index=False, mode=\"w\")\n",
    "    except Exception as e:\n",
    "        print(e)\n",
    "        pass"
   ]
  },
  {
   "cell_type": "code",
   "execution_count": null,
   "id": "4e414ca0",
   "metadata": {},
   "outputs": [],
   "source": [
    "result = pd.read_csv(out_file, dtype=str)\n",
    "result[\"ИНН\"].nunique() == len(result), len(result)"
   ]
  },
  {
   "cell_type": "code",
   "execution_count": 10,
   "id": "fed8905f",
   "metadata": {},
   "outputs": [
    {
     "data": {
      "text/html": [
       "<div>\n",
       "<style scoped>\n",
       "    .dataframe tbody tr th:only-of-type {\n",
       "        vertical-align: middle;\n",
       "    }\n",
       "\n",
       "    .dataframe tbody tr th {\n",
       "        vertical-align: top;\n",
       "    }\n",
       "\n",
       "    .dataframe thead th {\n",
       "        text-align: right;\n",
       "    }\n",
       "</style>\n",
       "<table border=\"1\" class=\"dataframe\">\n",
       "  <thead>\n",
       "    <tr style=\"text-align: right;\">\n",
       "      <th></th>\n",
       "      <th>ID компании</th>\n",
       "      <th>Наименование полное</th>\n",
       "      <th>Наименование краткое</th>\n",
       "      <th>ИНН</th>\n",
       "      <th>Юр адрес</th>\n",
       "      <th>Факт адрес</th>\n",
       "      <th>ОГРН</th>\n",
       "      <th>Головная компания (1) или филиал (0)</th>\n",
       "      <th>КПП</th>\n",
       "      <th>ОКОПФ (код)</th>\n",
       "      <th>...</th>\n",
       "      <th>Дата создания</th>\n",
       "      <th>статус по ЕГРЮЛ</th>\n",
       "      <th>ОКФС код</th>\n",
       "      <th>ОКФС (форма собственности)</th>\n",
       "      <th>Компания действующая (1) или нет (0)</th>\n",
       "      <th>id Компании-наследника (реорганизация и др)</th>\n",
       "      <th>телефоны СПАРК</th>\n",
       "      <th>ФИО директора</th>\n",
       "      <th>Название должности</th>\n",
       "      <th>доп. ОКВЭД2</th>\n",
       "    </tr>\n",
       "  </thead>\n",
       "  <tbody>\n",
       "    <tr>\n",
       "      <th>126939</th>\n",
       "      <td>47311450</td>\n",
       "      <td>Посохов Николай Геннадьевич</td>\n",
       "      <td>Посохов Николай Геннадьевич</td>\n",
       "      <td>027413566474</td>\n",
       "      <td>NaN</td>\n",
       "      <td>NaN</td>\n",
       "      <td>321028000140740</td>\n",
       "      <td>1</td>\n",
       "      <td>NaN</td>\n",
       "      <td>50102</td>\n",
       "      <td>...</td>\n",
       "      <td>2021-09-02 00:00:00.000</td>\n",
       "      <td>Действующее</td>\n",
       "      <td>NaN</td>\n",
       "      <td>NaN</td>\n",
       "      <td>1</td>\n",
       "      <td>NaN</td>\n",
       "      <td>NaN</td>\n",
       "      <td>NaN</td>\n",
       "      <td>NaN</td>\n",
       "      <td>NaN</td>\n",
       "    </tr>\n",
       "    <tr>\n",
       "      <th>272859</th>\n",
       "      <td>47311450</td>\n",
       "      <td>Посохов Николай Геннадьевич</td>\n",
       "      <td>Посохов Николай Геннадьевич</td>\n",
       "      <td>027413566474</td>\n",
       "      <td>NaN</td>\n",
       "      <td>NaN</td>\n",
       "      <td>321028000140740</td>\n",
       "      <td>1</td>\n",
       "      <td>NaN</td>\n",
       "      <td>50102</td>\n",
       "      <td>...</td>\n",
       "      <td>2021-09-02 00:00:00.000</td>\n",
       "      <td>Действующее</td>\n",
       "      <td>NaN</td>\n",
       "      <td>NaN</td>\n",
       "      <td>1</td>\n",
       "      <td>NaN</td>\n",
       "      <td>NaN</td>\n",
       "      <td>NaN</td>\n",
       "      <td>NaN</td>\n",
       "      <td>NaN</td>\n",
       "    </tr>\n",
       "  </tbody>\n",
       "</table>\n",
       "<p>2 rows × 23 columns</p>\n",
       "</div>"
      ],
      "text/plain": [
       "       ID компании          Наименование полное         Наименование краткое  \\\n",
       "126939    47311450  Посохов Николай Геннадьевич  Посохов Николай Геннадьевич   \n",
       "272859    47311450  Посохов Николай Геннадьевич  Посохов Николай Геннадьевич   \n",
       "\n",
       "                 ИНН Юр адрес Факт адрес             ОГРН  \\\n",
       "126939  027413566474      NaN        NaN  321028000140740   \n",
       "272859  027413566474      NaN        NaN  321028000140740   \n",
       "\n",
       "       Головная компания (1) или филиал (0)  КПП ОКОПФ (код)  ...  \\\n",
       "126939                                    1  NaN       50102  ...   \n",
       "272859                                    1  NaN       50102  ...   \n",
       "\n",
       "                  Дата создания статус по ЕГРЮЛ  ОКФС код  \\\n",
       "126939  2021-09-02 00:00:00.000      Действующее      NaN   \n",
       "272859  2021-09-02 00:00:00.000      Действующее      NaN   \n",
       "\n",
       "       ОКФС (форма собственности) Компания действующая (1) или нет (0)  \\\n",
       "126939                        NaN                                    1   \n",
       "272859                        NaN                                    1   \n",
       "\n",
       "       id Компании-наследника (реорганизация и др) телефоны СПАРК  \\\n",
       "126939                                         NaN            NaN   \n",
       "272859                                         NaN            NaN   \n",
       "\n",
       "       ФИО директора Название должности доп. ОКВЭД2  \n",
       "126939           NaN                NaN         NaN  \n",
       "272859           NaN                NaN         NaN  \n",
       "\n",
       "[2 rows x 23 columns]"
      ]
     },
     "execution_count": 10,
     "metadata": {},
     "output_type": "execute_result"
    }
   ],
   "source": [
    "result.loc[result[\"ИНН\"] == \"027413566474\"]"
   ]
  }
 ],
 "metadata": {
  "kernelspec": {
   "display_name": "Python 3 (ipykernel)",
   "language": "python",
   "name": "python3"
  },
  "language_info": {
   "codemirror_mode": {
    "name": "ipython",
    "version": 3
   },
   "file_extension": ".py",
   "mimetype": "text/x-python",
   "name": "python",
   "nbconvert_exporter": "python",
   "pygments_lexer": "ipython3",
   "version": "3.10.6"
  }
 },
 "nbformat": 4,
 "nbformat_minor": 5
}
