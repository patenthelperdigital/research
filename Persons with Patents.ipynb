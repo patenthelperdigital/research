{
 "cells": [
  {
   "cell_type": "code",
   "execution_count": 17,
   "id": "e78a71bc",
   "metadata": {},
   "outputs": [],
   "source": [
    "import pathlib\n",
    "\n",
    "import numpy as np\n",
    "import pandas as pd\n",
    "import tqdm"
   ]
  },
  {
   "cell_type": "code",
   "execution_count": 2,
   "id": "42380b3b",
   "metadata": {},
   "outputs": [],
   "source": [
    "CHUNKSIZE = 1e5"
   ]
  },
  {
   "cell_type": "code",
   "execution_count": 3,
   "id": "909cf654",
   "metadata": {},
   "outputs": [],
   "source": [
    "def format_tax_number(tax_number: str) -> str:\n",
    "    tn_len = len(tax_number)\n",
    "\n",
    "    if tn_len < 9 or tn_len > 12:\n",
    "        return np.nan\n",
    "\n",
    "    if tn_len in (9, 11):\n",
    "        return tax_number.rjust(tn_len + 1, \"0\")\n",
    "\n",
    "    return tax_number"
   ]
  },
  {
   "cell_type": "code",
   "execution_count": 20,
   "id": "b843c5b6",
   "metadata": {},
   "outputs": [],
   "source": [
    "inv_1 = pd.read_csv(\"../data/opendata/matched/inventions_matched_part_1.csv\", dtype=str)\n",
    "inv_2 = pd.read_csv(\"../data/opendata/matched/inventions_matched_part_2.csv\", dtype=str)\n",
    "mod = pd.read_csv(\"../data/opendata/matched/models_matched.csv\", dtype=str)\n",
    "des = pd.read_csv(\"../data/opendata/matched/designs_matched.csv\", dtype=str)"
   ]
  },
  {
   "cell_type": "code",
   "execution_count": 22,
   "id": "a0db76a7",
   "metadata": {},
   "outputs": [
    {
     "data": {
      "text/plain": [
       "(148217, 1)"
      ]
     },
     "execution_count": 22,
     "metadata": {},
     "output_type": "execute_result"
    }
   ],
   "source": [
    "tax_numbers = pd.concat((inv_1, inv_2, mod, des))[[\"person_tax_number\"]].dropna().drop_duplicates()\n",
    "tax_numbers[\"person_tax_number\"] = tax_numbers[\"person_tax_number\"].apply(format_tax_number)\n",
    "assert set(tax_numbers[\"person_tax_number\"].str.len().value_counts().index) == {10, 12}\n",
    "assert tax_numbers[\"person_tax_number\"].nunique() == len(tax_numbers)\n",
    "tax_numbers.shape"
   ]
  },
  {
   "cell_type": "code",
   "execution_count": 24,
   "id": "31b8fca3",
   "metadata": {},
   "outputs": [],
   "source": [
    "base_df = pd.read_csv(\n",
    "    \"../data/persons.zip\",\n",
    "    sep=\";\", \n",
    "    chunksize=CHUNKSIZE, \n",
    "    dtype=str\n",
    ")"
   ]
  },
  {
   "cell_type": "code",
   "execution_count": 7,
   "id": "f28497b0",
   "metadata": {},
   "outputs": [],
   "source": [
    "out_file = pathlib.Path(\"../data/persons_with_patents.csv\")"
   ]
  },
  {
   "cell_type": "code",
   "execution_count": 8,
   "id": "41a95afe",
   "metadata": {},
   "outputs": [
    {
     "name": "stderr",
     "output_type": "stream",
     "text": [
      "319it [11:26,  2.15s/it]\n"
     ]
    }
   ],
   "source": [
    "for chunk in tqdm.tqdm(base_df):\n",
    "    try:\n",
    "        chunk.dropna(subset=[\"Наименование полное\", \"ИНН\"], how=\"any\", inplace=True)\n",
    "        chunk = chunk.loc[chunk[\"Головная компания (1) или филиал (0)\"] == '1', :].copy()\n",
    "        chunk[\"ИНН\"] = chunk[\"ИНН\"].apply(format_tax_number)\n",
    "        assert len(set(chunk[\"ИНН\"].str.len().value_counts().index) - {10, 12}) == 0, \\\n",
    "            f\"Unexpected tax number lengths {set(chunk['ИНН'].str.len().value_counts().index)}\"\n",
    "        \n",
    "        chunk = chunk.loc[chunk[\"ИНН\"].isin(tax_numbers[\"person_tax_number\"])]       \n",
    "        \n",
    "        if out_file.exists():\n",
    "            chunk.to_csv(out_file, header=False, index=False, mode=\"a\")\n",
    "        else:\n",
    "            chunk.to_csv(out_file, header=True, index=False, mode=\"w\")\n",
    "    except Exception as e:\n",
    "        print(e)\n",
    "        pass"
   ]
  },
  {
   "cell_type": "code",
   "execution_count": 18,
   "id": "4e414ca0",
   "metadata": {},
   "outputs": [
    {
     "data": {
      "text/plain": [
       "(True, 148216)"
      ]
     },
     "execution_count": 18,
     "metadata": {},
     "output_type": "execute_result"
    }
   ],
   "source": [
    "result = pd.read_csv(out_file, dtype=str)\n",
    "result[\"ИНН\"].nunique() == len(result), len(result)"
   ]
  },
  {
   "cell_type": "code",
   "execution_count": 15,
   "id": "a98e3063",
   "metadata": {},
   "outputs": [],
   "source": [
    "result.drop_duplicates(\"ИНН\").to_csv(out_file, index=False)"
   ]
  }
 ],
 "metadata": {
  "kernelspec": {
   "display_name": "Python 3 (ipykernel)",
   "language": "python",
   "name": "python3"
  },
  "language_info": {
   "codemirror_mode": {
    "name": "ipython",
    "version": 3
   },
   "file_extension": ".py",
   "mimetype": "text/x-python",
   "name": "python",
   "nbconvert_exporter": "python",
   "pygments_lexer": "ipython3",
   "version": "3.10.6"
  }
 },
 "nbformat": 4,
 "nbformat_minor": 5
}
