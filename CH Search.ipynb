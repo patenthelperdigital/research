{
 "cells": [
  {
   "cell_type": "code",
   "execution_count": 3,
   "id": "cab0da3f",
   "metadata": {},
   "outputs": [],
   "source": [
    "from collections import namedtuple\n",
    "import json\n",
    "import pathlib\n",
    "import re\n",
    "from typing import Dict, List, Optional\n",
    "\n",
    "import clickhouse_connect\n",
    "import nltk\n",
    "import pandas as pd\n",
    "import tqdm"
   ]
  },
  {
   "cell_type": "code",
   "execution_count": 15,
   "id": "bc079a21",
   "metadata": {},
   "outputs": [],
   "source": [
    "with open(\"stopwords.json\") as f:\n",
    "    stopwords = json.load(f)"
   ]
  },
  {
   "cell_type": "code",
   "execution_count": 16,
   "id": "727c898d",
   "metadata": {},
   "outputs": [],
   "source": [
    "Owner = namedtuple(\"Owner\", [\"name\", \"country_code\", \"individual\"])\n",
    "Patent = namedtuple(\"Patent\", [\"number\", \"owners\", \"address\"])\n",
    "Person = namedtuple(\"Person\", [\"name\", \"tax_number\"])"
   ]
  },
  {
   "cell_type": "code",
   "execution_count": 17,
   "id": "646e6592",
   "metadata": {},
   "outputs": [
    {
     "data": {
      "text/plain": [
       "'24.5.1.1763'"
      ]
     },
     "execution_count": 17,
     "metadata": {},
     "output_type": "execute_result"
    }
   ],
   "source": [
    "client = clickhouse_connect.get_client(\n",
    "    host=\"213.171.29.36\",\n",
    "    username=\"phd\",\n",
    "    password=\"phd\",\n",
    ")\n",
    "client.command(\"SELECT version()\")"
   ]
  },
  {
   "cell_type": "code",
   "execution_count": 18,
   "id": "c045079e",
   "metadata": {},
   "outputs": [
    {
     "data": {
      "text/plain": [
       "28370248"
      ]
     },
     "execution_count": 18,
     "metadata": {},
     "output_type": "execute_result"
    }
   ],
   "source": [
    "client.command(\"SELECT count(*) FROM search.search_base\")"
   ]
  },
  {
   "cell_type": "code",
   "execution_count": 19,
   "id": "4b474092",
   "metadata": {},
   "outputs": [],
   "source": [
    "def parse(row: pd.Series) -> Patent:\n",
    "    row = row.fillna(\"\")\n",
    "    owner_names = [\n",
    "        name.strip().replace(\"\\n\", \"\").replace(\"\\r\", \"\")\n",
    "        for name in row[\"patent holders\"].split(\"\\r\\n\")\n",
    "    ]\n",
    "    address = row[\"correspondence address\"]\n",
    "    number = row[\"registration number\"]\n",
    "    \n",
    "    regex = re.compile(\"\\((?a:\\w{2})\\)\")\n",
    "    owners = []\n",
    "    for name in owner_names:\n",
    "        country_code = None\n",
    "        individual = False\n",
    "        \n",
    "        country_code_match = regex.search(name)\n",
    "        if country_code_match is not None:\n",
    "            country_code = country_code_match.group(0)[1:-1]\n",
    "            name = name.replace(country_code_match.group(0), \"\").strip()\n",
    "        \n",
    "        if row[\"authors\"] == row[\"patent holders\"]:\n",
    "            individual = True\n",
    "        \n",
    "        name_parts = list(filter(lambda x: len(x) > 0, map(str.strip, name.split(\" \"))))\n",
    "        if (\n",
    "            len(name_parts) == 3\n",
    "            and all(part[0].isupper() for part in name_parts)\n",
    "        ):\n",
    "            individual = True\n",
    "        if (\n",
    "            len(name_parts) == 2 \n",
    "            and name_parts[0][0].isupper()\n",
    "            and name_parts[1].replace(\".\", \"\").isupper()\n",
    "        ):\n",
    "            individual = True\n",
    "        \n",
    "        owners.append(Owner(name, country_code, individual))\n",
    "    \n",
    "    if (\n",
    "        len(owners) > 1\n",
    "        and all(owner.individual is False for owner in owners)\n",
    "        and sum([owner.country_code is not None for owner in owners]) == 1\n",
    "    ):\n",
    "        country_code = [owner.country_code is not None for owner in owners][0]\n",
    "        owners = [\n",
    "            Owner(\n",
    "                \" \".join(owner.name for owner in owners),\n",
    "                country_code,\n",
    "                False\n",
    "            )\n",
    "        ]\n",
    "        \n",
    "    return Patent(number=number, owners=owners, address=address)"
   ]
  },
  {
   "cell_type": "code",
   "execution_count": 20,
   "id": "4f472b96",
   "metadata": {},
   "outputs": [],
   "source": [
    "def preprocess_name_for_exact_match(name: str) -> str:\n",
    "    name = name.upper()\n",
    "    name = name.replace(\"ИНДИВИДУАЛЬНЫЙ ПРЕДПРИНИМАТЕЛЬ\", \"\").strip()\n",
    "    \n",
    "    match = re.search(\"([А-Я]\\.)([А-Я]\\.)\", name)\n",
    "    if match is not None:\n",
    "        name = name.replace(match[0], f\"{match[1]} {match[2]}\")\n",
    "    \n",
    "    return name\n",
    "\n",
    "\n",
    "def search_by_exact_name_match(name: Optional[str], address: Optional[str], individual: bool) -> List[Person]:\n",
    "    if name is None or name == \"\":\n",
    "        return []\n",
    "    \n",
    "    if address is None or address == \"\":\n",
    "        address = \"фыва\" # meaningless, score ~ 1 (least similar) for ngramDistance\n",
    "    \n",
    "    orig_name = name\n",
    "    name = preprocess_name_for_exact_match(name)\n",
    "    \n",
    "    stmt = \"\"\"\n",
    "        SELECT\n",
    "            name,\n",
    "            tax_number,\n",
    "            ngramDistance(legal_address, {address:String}) as dal,\n",
    "            ngramDistance(fact_address, {address:String}) as daf,\n",
    "            dal * daf as score\n",
    "        FROM search.search_base\n",
    "        WHERE \n",
    "            name = {name:String}\n",
    "            AND individual = {individual:bool}\n",
    "        ORDER BY score\n",
    "        LIMIT 2\n",
    "    \"\"\"\n",
    "    \n",
    "    params = {\n",
    "        \"name\": name, \n",
    "        \"address\": address,\n",
    "        \"individual\": individual,\n",
    "    }    \n",
    "    \n",
    "    res = client.query(stmt, parameters=params)\n",
    "\n",
    "    if len(res.result_rows) == 0:\n",
    "        return []\n",
    "    else:\n",
    "        return [\n",
    "            Person(name=row[0], tax_number=row[1])\n",
    "            for row in res.result_rows\n",
    "        ]"
   ]
  },
  {
   "cell_type": "code",
   "execution_count": 21,
   "id": "6aa343e0",
   "metadata": {},
   "outputs": [
    {
     "data": {
      "text/plain": [
       "[Person(name='МЕЛЬНИЧЕНКО ИГОРЬ ЮРЬЕВИЧ', tax_number='771670514800')]"
      ]
     },
     "execution_count": 21,
     "metadata": {},
     "output_type": "execute_result"
    }
   ],
   "source": [
    "search_by_exact_name_match(\"Индивидуальный предприниматель МЕЛЬНИЧЕНКО ИГОРЬ ЮРЬЕВИЧ\", \"121165 Москва а/я 15 ООО \\\"Юстис\\\" Грунина А.Е.\", individual=True)"
   ]
  },
  {
   "cell_type": "code",
   "execution_count": 22,
   "id": "007383f3",
   "metadata": {},
   "outputs": [],
   "source": [
    "def unquote_name(name: str) -> str:\n",
    "    name = name.replace(\"«\", '\"')\n",
    "    name = name.replace(\"»\", '\"')\n",
    "    \n",
    "    match = re.search(\"([А-Я]\\.)([А-Я]\\.)\", name)\n",
    "    if match is not None:\n",
    "        name = name.replace(match[0], f\"{match[1]} {match[2]}\")\n",
    "    \n",
    "    if '\"' not in name:\n",
    "        return name\n",
    "    \n",
    "    parts = name.split('\"')\n",
    "    if len(parts) <= 4:\n",
    "        return parts[1]\n",
    "    else:\n",
    "        return parts[2]\n",
    "\n",
    "def search_by_like_name_match(name: Optional[str], address: Optional[str], individual: bool) -> List[Person]:\n",
    "    if name is None or name == \"\":\n",
    "        return []\n",
    "    \n",
    "    if address is None or address == \"\":\n",
    "        address = \"фыва\" # meaningless, score ~ 1 (least similar) for ngramDistance\n",
    "    \n",
    "    stmt = \"\"\"\n",
    "        SELECT\n",
    "            name,\n",
    "            tax_number,\n",
    "            ngramDistance(name, {original_name:String}) as dn,\n",
    "            ngramDistance(legal_address, {address:String}) as dal,\n",
    "            ngramDistance(fact_address, {address:String}) as daf,\n",
    "            dn * dal * daf as score\n",
    "        FROM search.search_base\n",
    "        WHERE \n",
    "            name LIKE {unquoted_name:String}\n",
    "            AND individual = {individual:bool}\n",
    "        ORDER BY score\n",
    "        LIMIT 1\n",
    "    \"\"\"\n",
    "    \n",
    "    params = {\n",
    "        \"original_name\": name.upper(),\n",
    "        \"unquoted_name\": f\"%{unquote_name(name).upper()}%\", \n",
    "        \"address\": address,\n",
    "        \"individual\": individual,\n",
    "    }     \n",
    "    \n",
    "    res = client.query(stmt, parameters=params)\n",
    "\n",
    "    if len(res.result_rows) == 0:\n",
    "        return []\n",
    "    else:\n",
    "        return [\n",
    "            Person(name=row[0], tax_number=row[1])\n",
    "            for row in res.result_rows\n",
    "        ]"
   ]
  },
  {
   "cell_type": "code",
   "execution_count": 23,
   "id": "54ebfd9c",
   "metadata": {},
   "outputs": [
    {
     "data": {
      "text/plain": [
       "('Кыштымский медеэлектролитный завод', 'Советская Кубань')"
      ]
     },
     "execution_count": 23,
     "metadata": {},
     "output_type": "execute_result"
    }
   ],
   "source": [
    "(\n",
    "    unquote_name('Закрытое акционерное общество \"Кыштымский медеэлектролитный завод\"'),\n",
    "    unquote_name(\"Государственное унитарное предприятие Издательство\\\"Советская Кубань\\\"\")\n",
    ")"
   ]
  },
  {
   "cell_type": "code",
   "execution_count": 24,
   "id": "8bafe3ad",
   "metadata": {},
   "outputs": [
    {
     "data": {
      "text/plain": [
       "[Person(name='АКЦИОНЕРНОЕ ОБЩЕСТВО \"КЫШТЫМСКИЙ МЕДЕЭЛЕКТРОЛИТНЫЙ ЗАВОД\"', tax_number='7413000630')]"
      ]
     },
     "execution_count": 24,
     "metadata": {},
     "output_type": "execute_result"
    }
   ],
   "source": [
    "search_by_like_name_match(\n",
    "    'Закрытое акционерное общество \"Кыштымский медеэлектролитный завод\"',\n",
    "    '456870, Челябинская обл., г. Кыштым, ул. П.Коммуны, 2 Плеханову И.Д',\n",
    "    individual=False\n",
    ")"
   ]
  },
  {
   "cell_type": "code",
   "execution_count": 25,
   "id": "94948d8f",
   "metadata": {},
   "outputs": [
    {
     "data": {
      "text/plain": [
       "[Person(name='ФЕДЕРАЛЬНОЕ ГОСУДАРСТВЕННОЕ УНИТАРНОЕ ПРЕДПРИЯТИЕ \"НИЖЕГОРОДСКИЙ НАУЧНО-ИССЛЕДОВАТЕЛЬСКИЙ ИНСТИТУТ РАДИОТЕХНИКИ\"', tax_number='5261000043')]"
      ]
     },
     "execution_count": 25,
     "metadata": {},
     "output_type": "execute_result"
    }
   ],
   "source": [
    "search_by_like_name_match(\"Нижегородский научно-исследовательский институт радиотехники\", \"\", individual=False)"
   ]
  },
  {
   "cell_type": "code",
   "execution_count": 26,
   "id": "1dcad519",
   "metadata": {},
   "outputs": [
    {
     "data": {
      "text/plain": [
       "[]"
      ]
     },
     "execution_count": 26,
     "metadata": {},
     "output_type": "execute_result"
    }
   ],
   "source": [
    "search_by_like_name_match(\n",
    "    'Государственное бюджетное учреждение Свердловской области \"Уральский научно-исследовательский институт дерматовенерологии и иммунопатологии\" (ГБУ СО \"УрНИИДВиИ\")',\n",
    "    '',\n",
    "    individual=False\n",
    ")"
   ]
  },
  {
   "cell_type": "code",
   "execution_count": 27,
   "id": "8251a81c",
   "metadata": {},
   "outputs": [
    {
     "data": {
      "text/plain": [
       "[Person(name='ФЕДЕРАЛЬНОЕ ГОСУДАРСТВЕННОЕ УНИТАРНОЕ ПРЕДПРИЯТИЕ \"ЗАВОД ПОЛУПРОВОДНИКОВЫХ ПРИБОРОВ\"', tax_number='1200001518')]"
      ]
     },
     "execution_count": 27,
     "metadata": {},
     "output_type": "execute_result"
    }
   ],
   "source": [
    "search_by_like_name_match('Производственное республиканское унитарное предприятие \"Завод полупроводниковых приборов\"', address=None, individual=False)"
   ]
  },
  {
   "cell_type": "code",
   "execution_count": 28,
   "id": "83fd5bc2",
   "metadata": {},
   "outputs": [],
   "source": [
    "def search_by_tokens_match(name: Optional[str], address: Optional[str], individual: bool) -> Optional[Person]:\n",
    "    if name is None or name == \"\":\n",
    "        return []\n",
    "    \n",
    "    if address is None or address == \"\":\n",
    "        address = \"фыва\" # meaningless, score ~ 1 (least similar) for ngramDistance\n",
    "        \n",
    "    tokens = [\n",
    "        token.upper()\n",
    "        for token in nltk.word_tokenize(name)\n",
    "        if token not in stopwords and len(token) > 3\n",
    "    ]\n",
    "    \n",
    "    if len(tokens) < 3:\n",
    "        return [] # method is slow, so we use it for long names only\n",
    "    \n",
    "    stmt = \"\"\"\n",
    "        SELECT \n",
    "            name,\n",
    "            tax_number,\n",
    "            ngramDistance(name, {original_name:String}) as dn,\n",
    "            ngramDistance(legal_address, {address:String}) as dal,\n",
    "            ngramDistance(fact_address, {address:String}) as daf,\n",
    "            length(multiMatchAllIndices(name, {tokens:Array(String)})) / length({tokens:Array(String)}) as ts,\n",
    "            dn * dal * daf / ts as score\n",
    "        FROM search.search_base\n",
    "        WHERE\n",
    "            ts > 0.5\n",
    "            AND individual = {individual:bool}\n",
    "        ORDER BY score\n",
    "        LIMIT 1         \n",
    "    \"\"\"\n",
    "    \n",
    "    params = {\n",
    "        \"original_name\": name.upper(),\n",
    "        \"tokens\": tokens, \n",
    "        \"address\": address,\n",
    "        \"individual\": individual,\n",
    "    }\n",
    "    \n",
    "    res = client.query(stmt, parameters=params)\n",
    "\n",
    "    if len(res.result_rows) == 0:\n",
    "        return []\n",
    "    else:\n",
    "        return [\n",
    "            Person(name=row[0], tax_number=row[1])\n",
    "            for row in res.result_rows\n",
    "        ]"
   ]
  },
  {
   "cell_type": "code",
   "execution_count": 29,
   "id": "b09f7170",
   "metadata": {},
   "outputs": [
    {
     "data": {
      "text/plain": [
       "[Person(name='ГОСУДАРСТВЕННОЕ БЮДЖЕТНОЕ УЧРЕЖДЕНИЕ СВЕРДЛОВСКОЙ ОБЛАСТИ \"УРАЛЬСКИЙ НАУЧНО-ИССЛЕДОВАТЕЛЬСКИЙ ИНСТИТУТ ДЕРМАТОВЕНЕРОЛОГИИ И ИММУНОПАТОЛОГИИ\"', tax_number='6664033967')]"
      ]
     },
     "execution_count": 29,
     "metadata": {},
     "output_type": "execute_result"
    }
   ],
   "source": [
    "search_by_tokens_match(\n",
    "    'Государственное бюджетное учреждение Свердловской области \"Уральский научно-исследовательский институт дерматовенерологии и иммунопатологии\" (ГБУ СО \"УрНИИДВиИ\")',\n",
    "    None,\n",
    "    individual=False\n",
    ")"
   ]
  },
  {
   "cell_type": "code",
   "execution_count": 30,
   "id": "618b4a36",
   "metadata": {},
   "outputs": [
    {
     "data": {
      "text/plain": [
       "[Person(name='ФЕДЕРАЛЬНОЕ ГОСУДАРСТВЕННОЕ БЮДЖЕТНОЕ УЧРЕЖДЕНИЕ НАУКИ ИНСТИТУТ СИЛЬНОТОЧНОЙ ЭЛЕКТРОНИКИ СИБИРСКОГО ОТДЕЛЕНИЯ РОССИЙСКОЙ АКАДЕМИИ НАУК', tax_number='7021001375')]"
      ]
     },
     "execution_count": 30,
     "metadata": {},
     "output_type": "execute_result"
    }
   ],
   "source": [
    "search_by_tokens_match('Институт сильноточной электроники СО РАН', None, False)"
   ]
  },
  {
   "cell_type": "code",
   "execution_count": 35,
   "id": "4753f492",
   "metadata": {},
   "outputs": [],
   "source": [
    "def search(patent: Patent) -> List[Person]:\n",
    "    result = []\n",
    "    \n",
    "    for owner in patent.owners:\n",
    "        not_found = Person(owner.name, None)\n",
    "        if owner.country_code and owner.country_code != \"RU\":\n",
    "            result.append(not_found)\n",
    "            continue\n",
    "            \n",
    "        if owner.individual is True:\n",
    "            methods = (\n",
    "                search_by_exact_name_match,\n",
    "            )\n",
    "        else:\n",
    "            methods = (\n",
    "                search_by_exact_name_match,\n",
    "                search_by_like_name_match,\n",
    "                search_by_tokens_match,\n",
    "            )\n",
    "        \n",
    "        for method in methods:            \n",
    "            found = method(owner.name, patent.address, owner.individual)\n",
    "            \n",
    "            if len(found) == 0:\n",
    "                continue\n",
    "            else:\n",
    "                result.append(found[0])\n",
    "                break\n",
    "        else:\n",
    "            result.append(not_found)\n",
    "    \n",
    "    return result"
   ]
  },
  {
   "cell_type": "code",
   "execution_count": 4,
   "id": "29387ae8",
   "metadata": {},
   "outputs": [],
   "source": [
    "inv_sample = pd.read_csv(\"../data/opendata/samples/inventions_sample.csv\", index_col=0)\n",
    "mod_sample = pd.read_csv(\"../data/opendata/samples/models_sample.csv\")\n",
    "des_sample = pd.read_csv(\"../data/opendata/samples/designs_sample.csv\")"
   ]
  },
  {
   "cell_type": "code",
   "execution_count": 5,
   "id": "c3161250",
   "metadata": {},
   "outputs": [
    {
     "data": {
      "text/html": [
       "<div>\n",
       "<style scoped>\n",
       "    .dataframe tbody tr th:only-of-type {\n",
       "        vertical-align: middle;\n",
       "    }\n",
       "\n",
       "    .dataframe tbody tr th {\n",
       "        vertical-align: top;\n",
       "    }\n",
       "\n",
       "    .dataframe thead th {\n",
       "        text-align: right;\n",
       "    }\n",
       "</style>\n",
       "<table border=\"1\" class=\"dataframe\">\n",
       "  <thead>\n",
       "    <tr style=\"text-align: right;\">\n",
       "      <th></th>\n",
       "      <th>registration number</th>\n",
       "      <th>registration date</th>\n",
       "      <th>application number</th>\n",
       "      <th>application date</th>\n",
       "      <th>authors</th>\n",
       "      <th>authors in latin</th>\n",
       "      <th>patent holders</th>\n",
       "      <th>patent holders in latin</th>\n",
       "      <th>correspondence address</th>\n",
       "      <th>correspondence address in latin</th>\n",
       "      <th>...</th>\n",
       "      <th>application publish number</th>\n",
       "      <th>patent grant publish date</th>\n",
       "      <th>patent grant publish number</th>\n",
       "      <th>revoked patent number</th>\n",
       "      <th>information about the obligation to conclude contract of alienation</th>\n",
       "      <th>expiration date</th>\n",
       "      <th>invention formula numbers for which patent term is prolonged</th>\n",
       "      <th>additional patent</th>\n",
       "      <th>actual</th>\n",
       "      <th>publication URL</th>\n",
       "    </tr>\n",
       "  </thead>\n",
       "  <tbody>\n",
       "    <tr>\n",
       "      <th>133987</th>\n",
       "      <td>2137261</td>\n",
       "      <td>19990910.0</td>\n",
       "      <td>9.811426e+07</td>\n",
       "      <td>19980804.0</td>\n",
       "      <td>Демидов Юрий Михайлович</td>\n",
       "      <td>NaN</td>\n",
       "      <td>Демидов Юрий \\n\\nМихайлович</td>\n",
       "      <td>NaN</td>\n",
       "      <td>127560, Москва, ул.Коненкова, 5, кв.16, Демидо...</td>\n",
       "      <td>127560, Moskva, ul.Konenkova, 5, kv.16, Demido...</td>\n",
       "      <td>...</td>\n",
       "      <td>NaN</td>\n",
       "      <td>19990910.0</td>\n",
       "      <td>25.0</td>\n",
       "      <td>NaN</td>\n",
       "      <td>NaN</td>\n",
       "      <td>NaN</td>\n",
       "      <td>NaN</td>\n",
       "      <td>False</td>\n",
       "      <td>False</td>\n",
       "      <td>http://www1.fips.ru/fips_servl/fips_servlet?DB...</td>\n",
       "    </tr>\n",
       "    <tr>\n",
       "      <th>626621</th>\n",
       "      <td>2631279</td>\n",
       "      <td>20170920.0</td>\n",
       "      <td>2.016110e+09</td>\n",
       "      <td>20160318.0</td>\n",
       "      <td>Кочетов Олег Савельевич (RU)</td>\n",
       "      <td>NaN</td>\n",
       "      <td>Кочетов Олег Савельевич (RU)</td>\n",
       "      <td>NaN</td>\n",
       "      <td>141191, Московская обл., г. Фрязино, ул. Горьк...</td>\n",
       "      <td>NaN</td>\n",
       "      <td>...</td>\n",
       "      <td>NaN</td>\n",
       "      <td>20170920.0</td>\n",
       "      <td>26.0</td>\n",
       "      <td>NaN</td>\n",
       "      <td>На основании пункта 1 статьи 1366 части четвер...</td>\n",
       "      <td>NaN</td>\n",
       "      <td>NaN</td>\n",
       "      <td>False</td>\n",
       "      <td>True</td>\n",
       "      <td>http://www1.fips.ru/fips_servl/fips_servlet?DB...</td>\n",
       "    </tr>\n",
       "    <tr>\n",
       "      <th>727305</th>\n",
       "      <td>2731963</td>\n",
       "      <td>20200909.0</td>\n",
       "      <td>2.020112e+09</td>\n",
       "      <td>20200319.0</td>\n",
       "      <td>Хамнагадаев Игорь Алексеевич (RU)\\r\\nТарбаева ...</td>\n",
       "      <td>\\r\\n\\r\\n\\r\\n\\r\\n\\r\\n\\r\\n\\r\\n\\r\\n\\r\\n\\r\\n\\r\\n</td>\n",
       "      <td>ФЕДЕРАЛЬНОЕ ГОСУДАРСТВЕННОЕ БЮДЖЕТНОЕ УЧРЕЖДЕН...</td>\n",
       "      <td>NaN</td>\n",
       "      <td>119991, Москва, ГСП-1, ул. Ломоносовский просп...</td>\n",
       "      <td>NaN</td>\n",
       "      <td>...</td>\n",
       "      <td>NaN</td>\n",
       "      <td>20200909.0</td>\n",
       "      <td>25.0</td>\n",
       "      <td>NaN</td>\n",
       "      <td>NaN</td>\n",
       "      <td>NaN</td>\n",
       "      <td>NaN</td>\n",
       "      <td>False</td>\n",
       "      <td>True</td>\n",
       "      <td>http://www1.fips.ru/fips_servl/fips_servlet?DB...</td>\n",
       "    </tr>\n",
       "    <tr>\n",
       "      <th>353856</th>\n",
       "      <td>2357844</td>\n",
       "      <td>20090610.0</td>\n",
       "      <td>2.007130e+09</td>\n",
       "      <td>20070801.0</td>\n",
       "      <td>Афонькин Михаил Григорьевич (RU)\\r\\nЗвягин Вла...</td>\n",
       "      <td>\\r\\n\\r\\n\\r\\n</td>\n",
       "      <td>Федеральное государственное бюджетное образова...</td>\n",
       "      <td>NaN</td>\n",
       "      <td>NaN</td>\n",
       "      <td>NaN</td>\n",
       "      <td>...</td>\n",
       "      <td>NaN</td>\n",
       "      <td>20090610.0</td>\n",
       "      <td>16.0</td>\n",
       "      <td>NaN</td>\n",
       "      <td>NaN</td>\n",
       "      <td>NaN</td>\n",
       "      <td>NaN</td>\n",
       "      <td>False</td>\n",
       "      <td>False</td>\n",
       "      <td>http://www1.fips.ru/fips_servl/fips_servlet?DB...</td>\n",
       "    </tr>\n",
       "    <tr>\n",
       "      <th>189971</th>\n",
       "      <td>2193265</td>\n",
       "      <td>20021120.0</td>\n",
       "      <td>2.001104e+09</td>\n",
       "      <td>20010212.0</td>\n",
       "      <td>Бульбин Юрий Васильевич\\r\\nБуянов Юрий Иннокен...</td>\n",
       "      <td>\\r\\n\\r\\n\\r\\n\\r\\n</td>\n",
       "      <td>Сибирский физико-технический институт при Томс...</td>\n",
       "      <td>\\r\\n</td>\n",
       "      <td>NaN</td>\n",
       "      <td>NaN</td>\n",
       "      <td>...</td>\n",
       "      <td>NaN</td>\n",
       "      <td>20021120.0</td>\n",
       "      <td>32.0</td>\n",
       "      <td>NaN</td>\n",
       "      <td>NaN</td>\n",
       "      <td>NaN</td>\n",
       "      <td>NaN</td>\n",
       "      <td>False</td>\n",
       "      <td>False</td>\n",
       "      <td>http://www1.fips.ru/fips_servl/fips_servlet?DB...</td>\n",
       "    </tr>\n",
       "  </tbody>\n",
       "</table>\n",
       "<p>5 rows × 46 columns</p>\n",
       "</div>"
      ],
      "text/plain": [
       "        registration number  registration date  application number  \\\n",
       "133987              2137261         19990910.0        9.811426e+07   \n",
       "626621              2631279         20170920.0        2.016110e+09   \n",
       "727305              2731963         20200909.0        2.020112e+09   \n",
       "353856              2357844         20090610.0        2.007130e+09   \n",
       "189971              2193265         20021120.0        2.001104e+09   \n",
       "\n",
       "        application date                                            authors  \\\n",
       "133987        19980804.0                            Демидов Юрий Михайлович   \n",
       "626621        20160318.0                       Кочетов Олег Савельевич (RU)   \n",
       "727305        20200319.0  Хамнагадаев Игорь Алексеевич (RU)\\r\\nТарбаева ...   \n",
       "353856        20070801.0  Афонькин Михаил Григорьевич (RU)\\r\\nЗвягин Вла...   \n",
       "189971        20010212.0  Бульбин Юрий Васильевич\\r\\nБуянов Юрий Иннокен...   \n",
       "\n",
       "                                    authors in latin  \\\n",
       "133987                                           NaN   \n",
       "626621                                           NaN   \n",
       "727305  \\r\\n\\r\\n\\r\\n\\r\\n\\r\\n\\r\\n\\r\\n\\r\\n\\r\\n\\r\\n\\r\\n   \n",
       "353856                                  \\r\\n\\r\\n\\r\\n   \n",
       "189971                              \\r\\n\\r\\n\\r\\n\\r\\n   \n",
       "\n",
       "                                           patent holders  \\\n",
       "133987                        Демидов Юрий \\n\\nМихайлович   \n",
       "626621                       Кочетов Олег Савельевич (RU)   \n",
       "727305  ФЕДЕРАЛЬНОЕ ГОСУДАРСТВЕННОЕ БЮДЖЕТНОЕ УЧРЕЖДЕН...   \n",
       "353856  Федеральное государственное бюджетное образова...   \n",
       "189971  Сибирский физико-технический институт при Томс...   \n",
       "\n",
       "       patent holders in latin  \\\n",
       "133987                     NaN   \n",
       "626621                     NaN   \n",
       "727305                     NaN   \n",
       "353856                     NaN   \n",
       "189971                    \\r\\n   \n",
       "\n",
       "                                   correspondence address  \\\n",
       "133987  127560, Москва, ул.Коненкова, 5, кв.16, Демидо...   \n",
       "626621  141191, Московская обл., г. Фрязино, ул. Горьк...   \n",
       "727305  119991, Москва, ГСП-1, ул. Ломоносовский просп...   \n",
       "353856                                                NaN   \n",
       "189971                                                NaN   \n",
       "\n",
       "                          correspondence address in latin  ...  \\\n",
       "133987  127560, Moskva, ul.Konenkova, 5, kv.16, Demido...  ...   \n",
       "626621                                                NaN  ...   \n",
       "727305                                                NaN  ...   \n",
       "353856                                                NaN  ...   \n",
       "189971                                                NaN  ...   \n",
       "\n",
       "       application publish number  patent grant publish date  \\\n",
       "133987                        NaN                 19990910.0   \n",
       "626621                        NaN                 20170920.0   \n",
       "727305                        NaN                 20200909.0   \n",
       "353856                        NaN                 20090610.0   \n",
       "189971                        NaN                 20021120.0   \n",
       "\n",
       "        patent grant publish number  revoked patent number  \\\n",
       "133987                         25.0                    NaN   \n",
       "626621                         26.0                    NaN   \n",
       "727305                         25.0                    NaN   \n",
       "353856                         16.0                    NaN   \n",
       "189971                         32.0                    NaN   \n",
       "\n",
       "        information about the obligation to conclude contract of alienation  \\\n",
       "133987                                                NaN                     \n",
       "626621  На основании пункта 1 статьи 1366 части четвер...                     \n",
       "727305                                                NaN                     \n",
       "353856                                                NaN                     \n",
       "189971                                                NaN                     \n",
       "\n",
       "        expiration date  \\\n",
       "133987              NaN   \n",
       "626621              NaN   \n",
       "727305              NaN   \n",
       "353856              NaN   \n",
       "189971              NaN   \n",
       "\n",
       "        invention formula numbers for which patent term is prolonged  \\\n",
       "133987                                                NaN              \n",
       "626621                                                NaN              \n",
       "727305                                                NaN              \n",
       "353856                                                NaN              \n",
       "189971                                                NaN              \n",
       "\n",
       "        additional patent  actual  \\\n",
       "133987              False   False   \n",
       "626621              False    True   \n",
       "727305              False    True   \n",
       "353856              False   False   \n",
       "189971              False   False   \n",
       "\n",
       "                                          publication URL  \n",
       "133987  http://www1.fips.ru/fips_servl/fips_servlet?DB...  \n",
       "626621  http://www1.fips.ru/fips_servl/fips_servlet?DB...  \n",
       "727305  http://www1.fips.ru/fips_servl/fips_servlet?DB...  \n",
       "353856  http://www1.fips.ru/fips_servl/fips_servlet?DB...  \n",
       "189971  http://www1.fips.ru/fips_servl/fips_servlet?DB...  \n",
       "\n",
       "[5 rows x 46 columns]"
      ]
     },
     "execution_count": 5,
     "metadata": {},
     "output_type": "execute_result"
    }
   ],
   "source": [
    "inv_sample.head()"
   ]
  },
  {
   "cell_type": "code",
   "execution_count": 37,
   "id": "22417a2f",
   "metadata": {},
   "outputs": [
    {
     "data": {
      "text/plain": [
       "Unnamed: 0                                                                                                                    41814\n",
       "registration number                                                                                                           81851\n",
       "registration date                                                                                                        20120516.0\n",
       "application number                                                                                                     2011502074.0\n",
       "application date                                                                                                         20110707.0\n",
       "authors                                                                                                         БЕЛИНГ Кристоф (GB)\n",
       "authors in latin                                                                                                                NaN\n",
       "patent holders                                                                                          Геберит Интернешенл АГ (CH)\n",
       "patent holders in latin                                                                                                         NaN\n",
       "correspondence address                                                            191186, Санкт-Петербург, а/я 230, АРС-ПАТЕНТ, ...\n",
       "correspondence address in latin                                                                                                 NaN\n",
       "industrial design name                                                                ПАНЕЛЬ УПРАВЛЕНИЯ СМЫВНЫМ БАЧКОМ (3 варианта)\n",
       "patent starting date                                                                                                     20110707.0\n",
       "Crimean industrial design application number for state registration in Ukraine                                                  NaN\n",
       "Crimean industrial design application date for state registration in Ukraine                                                    NaN\n",
       "Crimean industrial design patent number in Ukraine                                                                              NaN\n",
       "receipt date of additional data to application                                                                                  NaN\n",
       "date of application to which additional data has been received                                                                  NaN\n",
       "number of application to which additional data has been received                                                                NaN\n",
       "initial application number                                                                                                      NaN\n",
       "initial application date                                                                                                        NaN\n",
       "initial application priority date                                                                                               NaN\n",
       "previous application number                                                                                                     NaN\n",
       "previous application date                                                                                                       NaN\n",
       "paris convention priority number                                                                                          581593901\n",
       "paris convention priority date                                                                                             20110111\n",
       "paris convention priority country code                                                                                           WO\n",
       "patent grant publish date                                                                                                20120516.0\n",
       "patent grant publish number                                                                                                     5.0\n",
       "revoked patent number                                                                                                           NaN\n",
       "expiration date                                                                                                                 NaN\n",
       "numbers of list of essential features for which patent term is prolonged                                                        NaN\n",
       "industrial designs names and number for which patent term is prolonged                                                          NaN\n",
       "actual                                                                                                                         True\n",
       "publication URL                                                                   http://www1.fips.ru/fips_servl/fips_servlet?DB...\n",
       "Name: 0, dtype: object"
      ]
     },
     "execution_count": 37,
     "metadata": {},
     "output_type": "execute_result"
    }
   ],
   "source": [
    "s = des_sample.iloc[0, ]\n",
    "s"
   ]
  },
  {
   "cell_type": "code",
   "execution_count": 46,
   "id": "ca97c046",
   "metadata": {},
   "outputs": [
    {
     "ename": "ValueError",
     "evalue": "unconverted data remains: 1",
     "output_type": "error",
     "traceback": [
      "\u001b[0;31m---------------------------------------------------------------------------\u001b[0m",
      "\u001b[0;31mValueError\u001b[0m                                Traceback (most recent call last)",
      "Cell \u001b[0;32mIn[46], line 2\u001b[0m\n\u001b[1;32m      1\u001b[0m \u001b[38;5;28;01mimport\u001b[39;00m \u001b[38;5;21;01mdatetime\u001b[39;00m\n\u001b[0;32m----> 2\u001b[0m reg_date \u001b[38;5;241m=\u001b[39m \u001b[43mdatetime\u001b[49m\u001b[38;5;241;43m.\u001b[39;49m\u001b[43mdatetime\u001b[49m\u001b[38;5;241;43m.\u001b[39;49m\u001b[43mstrptime\u001b[49m\u001b[43m(\u001b[49m\u001b[38;5;124;43m\"\u001b[39;49m\u001b[38;5;124;43m201601231\u001b[39;49m\u001b[38;5;124;43m\"\u001b[39;49m\u001b[43m,\u001b[49m\u001b[43m \u001b[49m\u001b[38;5;124;43m\"\u001b[39;49m\u001b[38;5;124;43m%\u001b[39;49m\u001b[38;5;124;43mY\u001b[39;49m\u001b[38;5;124;43m%\u001b[39;49m\u001b[38;5;124;43mm\u001b[39;49m\u001b[38;5;132;43;01m%d\u001b[39;49;00m\u001b[38;5;124;43m\"\u001b[39;49m\u001b[43m)\u001b[49m\u001b[38;5;241m.\u001b[39mdate()\n\u001b[1;32m      3\u001b[0m reg_date\n",
      "File \u001b[0;32m/usr/lib/python3.10/_strptime.py:568\u001b[0m, in \u001b[0;36m_strptime_datetime\u001b[0;34m(cls, data_string, format)\u001b[0m\n\u001b[1;32m    565\u001b[0m \u001b[38;5;28;01mdef\u001b[39;00m \u001b[38;5;21m_strptime_datetime\u001b[39m(\u001b[38;5;28mcls\u001b[39m, data_string, \u001b[38;5;28mformat\u001b[39m\u001b[38;5;241m=\u001b[39m\u001b[38;5;124m\"\u001b[39m\u001b[38;5;132;01m%a\u001b[39;00m\u001b[38;5;124m \u001b[39m\u001b[38;5;124m%\u001b[39m\u001b[38;5;124mb \u001b[39m\u001b[38;5;132;01m%d\u001b[39;00m\u001b[38;5;124m \u001b[39m\u001b[38;5;124m%\u001b[39m\u001b[38;5;124mH:\u001b[39m\u001b[38;5;124m%\u001b[39m\u001b[38;5;124mM:\u001b[39m\u001b[38;5;124m%\u001b[39m\u001b[38;5;124mS \u001b[39m\u001b[38;5;124m%\u001b[39m\u001b[38;5;124mY\u001b[39m\u001b[38;5;124m\"\u001b[39m):\n\u001b[1;32m    566\u001b[0m \u001b[38;5;250m    \u001b[39m\u001b[38;5;124;03m\"\"\"Return a class cls instance based on the input string and the\u001b[39;00m\n\u001b[1;32m    567\u001b[0m \u001b[38;5;124;03m    format string.\"\"\"\u001b[39;00m\n\u001b[0;32m--> 568\u001b[0m     tt, fraction, gmtoff_fraction \u001b[38;5;241m=\u001b[39m \u001b[43m_strptime\u001b[49m\u001b[43m(\u001b[49m\u001b[43mdata_string\u001b[49m\u001b[43m,\u001b[49m\u001b[43m \u001b[49m\u001b[38;5;28;43mformat\u001b[39;49m\u001b[43m)\u001b[49m\n\u001b[1;32m    569\u001b[0m     tzname, gmtoff \u001b[38;5;241m=\u001b[39m tt[\u001b[38;5;241m-\u001b[39m\u001b[38;5;241m2\u001b[39m:]\n\u001b[1;32m    570\u001b[0m     args \u001b[38;5;241m=\u001b[39m tt[:\u001b[38;5;241m6\u001b[39m] \u001b[38;5;241m+\u001b[39m (fraction,)\n",
      "File \u001b[0;32m/usr/lib/python3.10/_strptime.py:352\u001b[0m, in \u001b[0;36m_strptime\u001b[0;34m(data_string, format)\u001b[0m\n\u001b[1;32m    349\u001b[0m     \u001b[38;5;28;01mraise\u001b[39;00m \u001b[38;5;167;01mValueError\u001b[39;00m(\u001b[38;5;124m\"\u001b[39m\u001b[38;5;124mtime data \u001b[39m\u001b[38;5;132;01m%r\u001b[39;00m\u001b[38;5;124m does not match format \u001b[39m\u001b[38;5;132;01m%r\u001b[39;00m\u001b[38;5;124m\"\u001b[39m \u001b[38;5;241m%\u001b[39m\n\u001b[1;32m    350\u001b[0m                      (data_string, \u001b[38;5;28mformat\u001b[39m))\n\u001b[1;32m    351\u001b[0m \u001b[38;5;28;01mif\u001b[39;00m \u001b[38;5;28mlen\u001b[39m(data_string) \u001b[38;5;241m!=\u001b[39m found\u001b[38;5;241m.\u001b[39mend():\n\u001b[0;32m--> 352\u001b[0m     \u001b[38;5;28;01mraise\u001b[39;00m \u001b[38;5;167;01mValueError\u001b[39;00m(\u001b[38;5;124m\"\u001b[39m\u001b[38;5;124munconverted data remains: \u001b[39m\u001b[38;5;132;01m%s\u001b[39;00m\u001b[38;5;124m\"\u001b[39m \u001b[38;5;241m%\u001b[39m\n\u001b[1;32m    353\u001b[0m                       data_string[found\u001b[38;5;241m.\u001b[39mend():])\n\u001b[1;32m    355\u001b[0m iso_year \u001b[38;5;241m=\u001b[39m year \u001b[38;5;241m=\u001b[39m \u001b[38;5;28;01mNone\u001b[39;00m\n\u001b[1;32m    356\u001b[0m month \u001b[38;5;241m=\u001b[39m day \u001b[38;5;241m=\u001b[39m \u001b[38;5;241m1\u001b[39m\n",
      "\u001b[0;31mValueError\u001b[0m: unconverted data remains: 1"
     ]
    }
   ],
   "source": [
    "import datetime\n",
    "reg_date = datetime.datetime.strptime(\"201601231\", \"%Y%m%d\").date()\n",
    "reg_date"
   ]
  },
  {
   "cell_type": "code",
   "execution_count": 16,
   "id": "32180794",
   "metadata": {},
   "outputs": [],
   "source": [
    "country_code_regex = re.compile(\"\\((?a:\\w{2})\\)\")"
   ]
  },
  {
   "cell_type": "code",
   "execution_count": 36,
   "id": "18e3a183",
   "metadata": {},
   "outputs": [
    {
     "data": {
      "text/plain": [
       "'RU'"
      ]
     },
     "execution_count": 36,
     "metadata": {},
     "output_type": "execute_result"
    }
   ],
   "source": [
    "from collections import Counter\n",
    "country_codes = country_code_regex.findall(\"(RU)\")\n",
    "cnt = Counter(country_codes)\n",
    "cnt.most_common(1)[0][0][1:-1]"
   ]
  },
  {
   "cell_type": "code",
   "execution_count": 32,
   "id": "33e65ff7",
   "metadata": {},
   "outputs": [],
   "source": [
    "def test_sample(df):\n",
    "    result = []\n",
    "    for _, row in tqdm.tqdm(df.iterrows()):\n",
    "        patent = parse(row)\n",
    "        persons = search(patent)\n",
    "        for owner, person in zip(patent.owners, persons):\n",
    "            result.append(\n",
    "                (\n",
    "                    patent.number, patent.address, person.name, person.tax_number,\n",
    "                    owner.name, owner.individual, owner.country_code\n",
    "                )\n",
    "            )\n",
    "    \n",
    "    return pd.DataFrame(\n",
    "        result, \n",
    "        columns=[\n",
    "            \"patent_number\", \"cor_address\", \"name\", \"tax_number\", \n",
    "            \"name_from_patent\", \"individual\", \"country\"\n",
    "        ]\n",
    "    )"
   ]
  },
  {
   "cell_type": "code",
   "execution_count": 30,
   "id": "50ceccf3",
   "metadata": {},
   "outputs": [
    {
     "name": "stderr",
     "output_type": "stream",
     "text": [
      "1000it [06:08,  2.72it/s]\n"
     ]
    },
    {
     "data": {
      "text/html": [
       "<div>\n",
       "<style scoped>\n",
       "    .dataframe tbody tr th:only-of-type {\n",
       "        vertical-align: middle;\n",
       "    }\n",
       "\n",
       "    .dataframe tbody tr th {\n",
       "        vertical-align: top;\n",
       "    }\n",
       "\n",
       "    .dataframe thead th {\n",
       "        text-align: right;\n",
       "    }\n",
       "</style>\n",
       "<table border=\"1\" class=\"dataframe\">\n",
       "  <thead>\n",
       "    <tr style=\"text-align: right;\">\n",
       "      <th></th>\n",
       "      <th>patent_number</th>\n",
       "      <th>cor_address</th>\n",
       "      <th>name</th>\n",
       "      <th>tax_number</th>\n",
       "      <th>name_from_patent</th>\n",
       "      <th>individual</th>\n",
       "      <th>country</th>\n",
       "    </tr>\n",
       "  </thead>\n",
       "  <tbody>\n",
       "    <tr>\n",
       "      <th>0</th>\n",
       "      <td>2137261</td>\n",
       "      <td>127560, Москва, ул.Коненкова, 5, кв.16, Демидо...</td>\n",
       "      <td>ДЕМИДОВ ЮРИЙ МИХАЙЛОВИЧ</td>\n",
       "      <td>772637744816</td>\n",
       "      <td>Демидов Юрий Михайлович</td>\n",
       "      <td>True</td>\n",
       "      <td>None</td>\n",
       "    </tr>\n",
       "    <tr>\n",
       "      <th>1</th>\n",
       "      <td>2631279</td>\n",
       "      <td>141191, Московская обл., г. Фрязино, ул. Горьк...</td>\n",
       "      <td>Кочетов Олег Савельевич</td>\n",
       "      <td>None</td>\n",
       "      <td>Кочетов Олег Савельевич</td>\n",
       "      <td>True</td>\n",
       "      <td>RU</td>\n",
       "    </tr>\n",
       "    <tr>\n",
       "      <th>2</th>\n",
       "      <td>2731963</td>\n",
       "      <td>119991, Москва, ГСП-1, ул. Ломоносовский просп...</td>\n",
       "      <td>ФЕДЕРАЛЬНОЕ ГОСУДАРСТВЕННОЕ БЮДЖЕТНОЕ УЧРЕЖДЕН...</td>\n",
       "      <td>7728016351</td>\n",
       "      <td>ФЕДЕРАЛЬНОЕ ГОСУДАРСТВЕННОЕ БЮДЖЕТНОЕ УЧРЕЖДЕН...</td>\n",
       "      <td>False</td>\n",
       "      <td>RU</td>\n",
       "    </tr>\n",
       "    <tr>\n",
       "      <th>3</th>\n",
       "      <td>2357844</td>\n",
       "      <td></td>\n",
       "      <td>ФЕДЕРАЛЬНОЕ ГОСУДАРСТВЕННОЕ БЮДЖЕТНОЕ ОБРАЗОВА...</td>\n",
       "      <td>7706025867</td>\n",
       "      <td>Федеральное государственное бюджетное образова...</td>\n",
       "      <td>False</td>\n",
       "      <td>None</td>\n",
       "    </tr>\n",
       "    <tr>\n",
       "      <th>4</th>\n",
       "      <td>2193265</td>\n",
       "      <td></td>\n",
       "      <td>СИБИРСКИЙ БОТАНИЧЕСКИЙ САД ПРИ ТОМСКОМ ГОСУДАР...</td>\n",
       "      <td>7018024710</td>\n",
       "      <td>Сибирский физико-технический институт при Томс...</td>\n",
       "      <td>False</td>\n",
       "      <td>None</td>\n",
       "    </tr>\n",
       "  </tbody>\n",
       "</table>\n",
       "</div>"
      ],
      "text/plain": [
       "   patent_number                                        cor_address  \\\n",
       "0        2137261  127560, Москва, ул.Коненкова, 5, кв.16, Демидо...   \n",
       "1        2631279  141191, Московская обл., г. Фрязино, ул. Горьк...   \n",
       "2        2731963  119991, Москва, ГСП-1, ул. Ломоносовский просп...   \n",
       "3        2357844                                                      \n",
       "4        2193265                                                      \n",
       "\n",
       "                                                name    tax_number  \\\n",
       "0                            ДЕМИДОВ ЮРИЙ МИХАЙЛОВИЧ  772637744816   \n",
       "1                            Кочетов Олег Савельевич          None   \n",
       "2  ФЕДЕРАЛЬНОЕ ГОСУДАРСТВЕННОЕ БЮДЖЕТНОЕ УЧРЕЖДЕН...    7728016351   \n",
       "3  ФЕДЕРАЛЬНОЕ ГОСУДАРСТВЕННОЕ БЮДЖЕТНОЕ ОБРАЗОВА...    7706025867   \n",
       "4  СИБИРСКИЙ БОТАНИЧЕСКИЙ САД ПРИ ТОМСКОМ ГОСУДАР...    7018024710   \n",
       "\n",
       "                                    name_from_patent  individual country  \n",
       "0                            Демидов Юрий Михайлович        True    None  \n",
       "1                            Кочетов Олег Савельевич        True      RU  \n",
       "2  ФЕДЕРАЛЬНОЕ ГОСУДАРСТВЕННОЕ БЮДЖЕТНОЕ УЧРЕЖДЕН...       False      RU  \n",
       "3  Федеральное государственное бюджетное образова...       False    None  \n",
       "4  Сибирский физико-технический институт при Томс...       False    None  "
      ]
     },
     "execution_count": 30,
     "metadata": {},
     "output_type": "execute_result"
    }
   ],
   "source": [
    "inv_test_result = test_sample(inv_sample)\n",
    "inv_test_result.head()"
   ]
  },
  {
   "cell_type": "code",
   "execution_count": 247,
   "id": "b0c412d0",
   "metadata": {},
   "outputs": [
    {
     "data": {
      "text/plain": [
       "individual  has_tn\n",
       "False       False     331\n",
       "            True      449\n",
       "True        False     391\n",
       "            True      174\n",
       "dtype: int64"
      ]
     },
     "execution_count": 247,
     "metadata": {},
     "output_type": "execute_result"
    }
   ],
   "source": [
    "inv_test_result[\"has_tn\"] = inv_test_result[\"tax_number\"].notna()\n",
    "inv_test_result.groupby([\"individual\", \"has_tn\"]).size()"
   ]
  },
  {
   "cell_type": "code",
   "execution_count": 88,
   "id": "40771989",
   "metadata": {},
   "outputs": [
    {
     "data": {
      "text/plain": [
       "individual  has_tn\n",
       "False       False     121\n",
       "            True      433\n",
       "True        False     243\n",
       "            True      176\n",
       "dtype: int64"
      ]
     },
     "execution_count": 88,
     "metadata": {},
     "output_type": "execute_result"
    }
   ],
   "source": [
    "inv_test_result[\"has_tn\"] = inv_test_result[\"tax_number\"].notna()\n",
    "inv_test_result.loc[inv_test_result[\"country\"].isna() | (inv_test_result[\"country\"] == \"RU\")].groupby([\"individual\", \"has_tn\"]).size()"
   ]
  },
  {
   "cell_type": "code",
   "execution_count": 161,
   "id": "fa2d50ea",
   "metadata": {},
   "outputs": [
    {
     "data": {
      "text/plain": [
       "individual  has_tn\n",
       "False       False       9\n",
       "            True      490\n",
       "True        False     243\n",
       "            True      176\n",
       "dtype: int64"
      ]
     },
     "execution_count": 161,
     "metadata": {},
     "output_type": "execute_result"
    }
   ],
   "source": [
    "inv_test_result[\"has_tn\"] = inv_test_result[\"tax_number\"].notna()\n",
    "inv_test_result.loc[\n",
    "    inv_test_result[\"country\"].isna() | (inv_test_result[\"country\"] == \"RU\")\n",
    "].groupby([\"individual\", \"has_tn\"]).size().reset_index().assign(share = )"
   ]
  },
  {
   "cell_type": "code",
   "execution_count": 166,
   "id": "98fff61e",
   "metadata": {},
   "outputs": [
    {
     "data": {
      "text/plain": [
       "0.7254901960784313"
      ]
     },
     "execution_count": 166,
     "metadata": {},
     "output_type": "execute_result"
    }
   ],
   "source": [
    "(490 + 176) / (490 + 176 + 9 + 243) # matched share"
   ]
  },
  {
   "cell_type": "code",
   "execution_count": 162,
   "id": "16a4e694",
   "metadata": {},
   "outputs": [
    {
     "data": {
      "text/plain": [
       "['Российская Федерация, от имени которой выступает Министерство обороны Российской Федерации (Минобороны России)',\n",
       " 'Акционерное общество \"Астрата\"',\n",
       " 'ДАЛЯНЬ СЕЙФ ТЕХНОЛОДЖИ КО., ЛТД',\n",
       " 'Производственное республиканское унитарное предприятие \"Завод полупроводниковых приборов\"',\n",
       " 'БАЙОВЕЙЛ ЛЭБОРЕТЕРИЗ ИНТЕРНЕШНЛ (БАРБАДОС) СРЛ',\n",
       " 'КНОРР-БРЕМЗЕ ЗЮСТЕМЕ ФЮР НУТЦФАРЦОЙГЕ ГМБХ',\n",
       " 'ТОРОТРАК (ДИВЕЛОПМЕНТ) ЛИМИТЕД',\n",
       " 'РОЙЯЛ ЭППЛИАНС МФГ. КО,',\n",
       " 'ВИСКОФАН, ИНДУСТРИЯ НАВАРРА ДЕ ЭНВОЛЬТУРАС КЕЛЮЛОЗИКАС, С.А.',\n",
       " 'Тетра-Лаваль Холдингз энд Файнэнс С.А.',\n",
       " 'ГЕОРГ ФИШЕР ВАГА Н.В.',\n",
       " 'ФИШЕР КОНТРОЛЗ ИНТЕРНЭШНЛ ЛЛС',\n",
       " 'ЭРСЕЛЬ',\n",
       " 'ЛТС ЛОМАНН ТЕРАПИ-СИСТЕМ АГ',\n",
       " 'КНОРР-БРЕМЗЕ ЗЮСТЕМЕ ФЮР НУТЦФАРЦОЙГЕ ГМБХ',\n",
       " 'ОЙ ЭКСПАНСИО ЭНЖИНИРИНГ ЛИМИТЕД',\n",
       " 'растений им. К.А. Тимирязева',\n",
       " 'ЭЛ ДЖИ ЭЛЕКТРОНИКС ИНК.',\n",
       " 'М.Э.П. МАККИНЕ ЭЛЕТТРОНИКЕ ПЬЕГАТРИЧИ С.П.А.',\n",
       " 'Майкрософт Текнолоджи Лайсенсинг, ЭлЭлСи',\n",
       " 'Коммонвелт Сайентифик энд Индастриал Рисерч Организейшн',\n",
       " '',\n",
       " 'Хайперион Каталайзис Интернэшнл Инк.',\n",
       " 'Сайпем С.п.А.',\n",
       " 'Дюпон Сейфти &amp; Констракшн, Инк',\n",
       " 'Эбершпехер Клаймит Контрол Системз ГмбХ',\n",
       " 'СУМИТОМО КЕМИКАЛ КОМПАНИ, ЛИМИТЕД',\n",
       " 'РЕКЬЮРИУМ АйПи ХОЛДИНГС, ЛЛС',\n",
       " 'ДАЛЯНЬ ИНСТИТЬЮТ ОФ КЕМИКАЛ ФИЗИКС, ЧАЙНИЗ АКАДЕМИ ОФ САЙЕНСЕЗ',\n",
       " 'ТОЙОТА ДЗИДОСЯ КАБУСИКИ КАЙСЯ',\n",
       " 'Синельников Борис',\n",
       " 'Иосифович',\n",
       " 'ШЕЛЛ ИНТЕРНЭШНЛ РИСЕРЧ МААТСХАППИЙ Б.В.',\n",
       " 'НЕИРОН.КОМ.ЛИМИТЕД',\n",
       " 'Дженерал Электрик Текнолоджи ГмбХ',\n",
       " 'ХЕНКЕЛЬ АГ УНД КО. КГаА',\n",
       " 'Закрытое акционерное общество \"Танис\"',\n",
       " 'Форд Глобал Текнолоджиз, ЛЛК',\n",
       " 'МАН ТРАК УНД БАС АГ',\n",
       " 'ДЖОНСОН ЭНД ДЖОНСОН ВИЖН КЭА, ИНК.',\n",
       " 'ФОРД ГЛОУБАЛ ТЕКНОЛОДЖИЗ, ЭлЭлСи',\n",
       " 'Белгородская государственная сельскохозяйственная  академия (Белгородская ГСХА)',\n",
       " 'Хермит Эдванст Технолоджиз ГмбХ',\n",
       " 'АСАХИ КАСЕИ КАБУСИКИ КАЙСЯ',\n",
       " 'АСАХИ КАСЕИ ЭДВАНС КОРПОРЕЙШН',\n",
       " 'ФИЛИПС ЛАЙТИНГ ХОЛДИНГ Б.В.',\n",
       " 'КОНИНКЛЕЙКЕ ФИЛИПС ЭЛЕКТРОНИКС Н.В.',\n",
       " 'БЕЙЦЗИН УИЗДОМАБ БАЙОТЕКНОЛОДЖИ КО., ЛТД',\n",
       " 'ДЖЕНРИКС (ШАНХАЙ) БАЙОФАРМАСЬЮТИКАЛ КО., ЛТД.',\n",
       " 'ЧУНЦИН ДЖЕНРИКС БАЙОФАРМАСЬЮТИКАЛ КО., ЛТД.',\n",
       " 'Фармация энд Апджон С.п.А.',\n",
       " 'ЭЙРБАС ХЕЛИКОПТЕРС ДОЙЧЛАНД ГМБХ',\n",
       " 'Хэллибертон Энерджи Сервисиз, Инк.',\n",
       " 'Форд Глобал Текнолоджиз, ЛЛК',\n",
       " 'Дочернее государственное предприятие (на праве хозяйственного ведения) \"Институт ядерной физики\" Республиканского государственного предприятия (на праве хозяйственного ведения) \"Национальный ядерный центр Республики Казахстан\" Министерства энергетики и минеральных ресурсов Республики Казахстан',\n",
       " 'Санкио Лайфтек Компани Лимитед',\n",
       " 'ХАСЭБЕ Терумицу',\n",
       " 'ГЛОБАЛ ВАСКЮЛАР КО., ЛТД.',\n",
       " 'ЧУГАИ СЕЙЯКУ КАБУСИКИ КАЙСЯ',\n",
       " 'ДАУ ГЛОУБЛ ТЕКНОЛОДЖИЗ ЛЛК',\n",
       " 'МОВМЕДИКС',\n",
       " 'МАНУФАКТУРА И ТРАНСФОРМАДОС АБ, С.Л.',\n",
       " 'Гугл Текнолоджи Холдингс ЭлЭлСи',\n",
       " 'Институт черной металлургии',\n",
       " 'ВАНДЕРКРАФТ',\n",
       " 'Френдз оф Фрисиа Ко., Лтд.',\n",
       " 'УМДАШ ГРУПП НЬЮКОН ГМБХ',\n",
       " 'ТЕЛЕФОНАКТИЕБОЛАГЕТ ЛМ ЭРИКССОН (ПАБЛ)',\n",
       " 'Украинский научно-технический центр \"Сенсор\" Министерства экологии и природных ресурсов Украины',\n",
       " 'САМСУНГ ЭЛЕКТРОНИКС КО., ЛТД.',\n",
       " 'КОМПАНИ ЖЕНЕРАЛЬ ДЕЗ ЭТАБЛИССМАН МИШЛЕН',\n",
       " 'МИШЛЕН РЕШЕРШ Э ТЕКНИК С.А.',\n",
       " 'ВЕРУЛИН ФЕЙЕРФЕСТЕ ПРОДУКТС ГмбХ Ко. КГ',\n",
       " 'Андорешерш Инк.',\n",
       " 'Государственный проектно-изыскательский и научно-исследовательский институт \"Укрэнергопроект\"',\n",
       " 'ЦЗЯНСУ ТАСЛИ ДИИ ФАРМАСЬЮТИКАЛ КО., ЛТД.',\n",
       " 'ИНДУСТРИФЕРБЕРАЙ, ФАЗЕРФЕРЕДЛУНГ УНД ФАЗЕРАУСРЮСТУНГ ВИЛЬХЕЛЬМ ПЛАК, ИНХАБЕР: ЛЮДВИГ ПЛАК Е.К.',\n",
       " '\"Львивська политехника\"',\n",
       " 'ОАТ \"Захидэнерго\"',\n",
       " 'БЭНК ОФ АМЕРИКА КОРПОРЭЙШН',\n",
       " 'КОНИНКЛЕЙКЕ ФИЛИПС ЭЛЕКТРОНИКС, Н.В.',\n",
       " 'ЭЙСАЙ Ар ЭНД Ди МЕНЕДЖМЕНТ КО., ЛТД.',\n",
       " 'Моторола, Инк.',\n",
       " 'ТЕНРЮ СЕЙКЁ КАБУСИКИ КАЙСА',\n",
       " 'ФРИГА ЭлЭлСи',\n",
       " 'ШЕЛЛ ИНТЕРНЭШНЛ РИСЕРЧ МААТСХАППИЙ Б.В.',\n",
       " 'Российская Федерация, от имени которой выступает Министерство образования и науки Российской Федерации',\n",
       " 'Российская Федерация, от имени которой выступает Министерство промышленности и торговли Российской Федерации',\n",
       " 'Кью оу Кемикалз. Инк.',\n",
       " 'Российская Федерация, от имени которой выступает Министерство промышленности и торговли Российской Федерации (Минпромторг России)',\n",
       " 'Грэйт Уолл Мотор Компани Лимитед',\n",
       " 'КОНИНКЛЕЙКЕ ФИЛИПС ЭЛЕКТРОНИКС Н.В.',\n",
       " 'КОНИНКЛЕЙКЕ ФИЛИПС ЭЛЕКТРОНИКС Н.В.',\n",
       " 'ИНТЕРДИДЖИТАЛ ПЭЙТЕНТ ХОЛДИНГЗ, ИНК.',\n",
       " 'Российская Федерация, от имени которой выступает Министерство промышленности и торговли Российской Федерации (Минпромторг России)',\n",
       " 'ТЕЛЕФОНАКТИЕБОЛАГЕТ ЛМ ЭРИКССОН (пабл)',\n",
       " 'КОММОНВЕЛТ САЙЕНТИФИК ЭНД ИНДАСТРИАЛ РИСЕРЧ ОРГАНИЗЕЙШН',\n",
       " 'Умикоре АГ унд Ко.КГ',\n",
       " 'САНОФИ-АВЕНТИС',\n",
       " 'ППГ ИНДАСТРИЗ ОГАЙО, ИНК.',\n",
       " 'ЛЭНКСЕСС БУТИЛ ПТЕ. ЛТД.',\n",
       " 'Генеора Фарма (Шицзячжуан) Ко., Лтд.',\n",
       " 'Кеттен-Вулф Бетриебс-ГмбХ',\n",
       " 'Циба Спешиалти Кемикэлс Холдинг Инк.',\n",
       " 'ИКА-Верке ГмбХ унд Ко. КГ',\n",
       " 'ШЕВРОН ФИЛЛИПС КЕМИКАЛ КОМПАНИ ЭлПи (CHEVRON PHILLIPS CHEMICAL COMPANY LP)',\n",
       " 'Белорусский технологический институт им.С.М.Кирова',\n",
       " 'ДЖОНСОН МЭТТЕЙ ПАБЛИК ЛИМИТЕД КОМПАНИ',\n",
       " 'УОЛКОМ АНИМАЛ САЙЕНС (И.П. 2) ЛИМИТЕД',\n",
       " 'СИНГЛ БОЙ МУРИНГС ИНК.',\n",
       " 'АС ВАЛМИЕРАС СТИКЛА СКИЕДРА',\n",
       " 'КОМПАНИ ЖЕНЕРАЛЬ ДЕЗ ЭТАБЛИССМАН МИШЛЕН',\n",
       " 'МИШЛЕН РЕШЕРШ Э ТЕКНИК С.А.',\n",
       " 'БДР Термеа Груп Б.В.',\n",
       " 'БСХ БОШ УНД СИМЕНС ХАУСГЕРЕТЕ ГМБХ',\n",
       " 'ТЕТРА ЛАВАЛЬ ХОЛДИНГЗ ЭНД ФАЙНЭНС С.А.',\n",
       " 'ДЗЕ ПРОКТЕР ЭНД ГЭМБЛ КОМПАНИ',\n",
       " 'ДР. ХАН ГМБХ УНД КО. КГ',\n",
       " 'ТЕЛЕФОНАКТИЕБОЛАГЕТ ЛМ ЭРИКССОН (пабл)',\n",
       " 'Самсунг Аэроспейс Индастриз, Лтд.',\n",
       " 'ТОЙОТА ДЗИДОСЯ КАБУСИКИ КАЙСЯ',\n",
       " 'Майкрософт Текнолоджи Лайсенсинг, ЭлЭлСи',\n",
       " 'ЮЖИТЕК',\n",
       " 'ДИВЕЛЭПМЭНТ СЕНТЭ ФО БАЙЭУТЕКНОЛЭДЖИ',\n",
       " 'Хексел Корпорейшн',\n",
       " 'ШИОНОГИ ЭНД КО., ЛТД.',\n",
       " 'САНТР НАСЬОНАЛЬ ДЕ ЛЯ РЕШЕРШ СЬЕНТИФИК',\n",
       " 'ДЗЕ Ю ЭЙ БИ РЕЗЕРЧ ФАУНДЕЙШН',\n",
       " 'ФОРД ГЛОУБАЛ ТЕКНОЛОДЖИЗ, ЭлЭлСи',\n",
       " 'БЕЙДЖИНГ СОГОУ ТЕКНОЛОДЖИ ДЕВЕЛОПМЕНТ КО., ЛТД.',\n",
       " 'ЭнАр ЭЛЕКТРИК КО., ЛТД',\n",
       " 'ЭнАр ЭНЖИНИРИНГ КО., ЛТД',\n",
       " 'ВИНКОР НИКСДОРФ ИНТЕРНАЦИОНАЛЬ ГМБХ',\n",
       " 'Андреас Штиль АГ унд Ко. КГ',\n",
       " 'Байер Интеллектуэль Проперти ГмбХ',\n",
       " 'АДИТИА БИРЛА САЙЕНС ЭНД ТЕКНОЛОДЖИ КОМПАНИ ЛТД.',\n",
       " 'МИЦУБИСИ ДЗИДОСЯ КОГИО КАБУСИКИ КАЙСЯ',\n",
       " 'МИЦУБИСИ ДЗИДОСЯ ИНДЖИНИРИНГ КАБУСИКИ КАЙСЯ',\n",
       " 'ВИВО МОБАЙЛ КОМЬЮНИКЭЙШН КО., ЛТД.',\n",
       " 'САМСУНГ ЭЛЕКТРОНИКС КО., ЛТД.',\n",
       " 'АЛЬТЕС',\n",
       " 'САЗЕН КАМПЭНИ ЭНЕДЖИ СОЛЬЮШНЗ, ИНК.',\n",
       " 'ХУАВЭЙ ТЕКНОЛОДЖИЗ КО., ЛТД.',\n",
       " 'Климовичский ликеро-водочный завод',\n",
       " 'ЯСА Лимитед',\n",
       " 'МАТРИКС ЭЛЕКТРОНИК МЕЖЕРИНГ ПРОПЕРТИЗ, ЭлЭлСи',\n",
       " 'ЭМИТЕК ГЕЗЕЛЬШАФТ ФЮР ЭМИССИОНСТЕХНОЛОГИ МБХ',\n",
       " 'Экоклин ГмбХ',\n",
       " 'фирма \"Эс.Си. ДЖОНСОН ЭНД САН, ИНК.\"',\n",
       " 'Российская Федерация, в лице которой выступает Министерство обороны Российской Федерации',\n",
       " 'ТАЙХО ФАРМАСЬЮТИКАЛ КО., ЛТД.',\n",
       " 'Криккет',\n",
       " 'Хитачи, Лтд.',\n",
       " 'ЭКСОНМОБИЛ АПСТРИМ РИСЕРЧ КОМПАНИ ,',\n",
       " 'СКА ХАЙДЖИН ПРОДАКТС АБ',\n",
       " 'ФАРМАЦИЯ ЭНД АПДЖОН КОМПАНИ',\n",
       " 'ТОСИБА ЭНЕРДЖИ СИСТЕМЗ ЭНД СОЛЮШНЗ КОРПОРЕЙШН',\n",
       " 'ДАЛЯНЬ ИНСТИТЬЮТ ОФ КЕМИКАЛ ФИЗИКС, ЧАЙНИЗ АКАДЕМИ ОФ САЙЭНС',\n",
       " 'ОЦУКА ФАРМАСЬЮТИКАЛ КО., ЛТД.',\n",
       " 'ФОРД ГЛОУБАЛ ТЕКНОЛОДЖИЗ, ЭлЭлСи']"
      ]
     },
     "execution_count": 162,
     "metadata": {},
     "output_type": "execute_result"
    }
   ],
   "source": [
    "inv_test_result.loc[\n",
    "    (~inv_test_result[\"has_tn\"] & ~inv_test_result[\"individual\"]),\n",
    "    [\"name_from_patent\", \"cor_address\"]\n",
    "][\"name_from_patent\"].to_list()"
   ]
  },
  {
   "cell_type": "code",
   "execution_count": 175,
   "id": "a5702587",
   "metadata": {},
   "outputs": [],
   "source": [
    "inv_test_result.to_excel(\"inv_test_result_v2.xlsx\")"
   ]
  },
  {
   "cell_type": "code",
   "execution_count": 165,
   "id": "40178ae7",
   "metadata": {},
   "outputs": [
    {
     "name": "stderr",
     "output_type": "stream",
     "text": [
      "1000it [12:34,  1.33it/s]\n"
     ]
    },
    {
     "data": {
      "text/html": [
       "<div>\n",
       "<style scoped>\n",
       "    .dataframe tbody tr th:only-of-type {\n",
       "        vertical-align: middle;\n",
       "    }\n",
       "\n",
       "    .dataframe tbody tr th {\n",
       "        vertical-align: top;\n",
       "    }\n",
       "\n",
       "    .dataframe thead th {\n",
       "        text-align: right;\n",
       "    }\n",
       "</style>\n",
       "<table border=\"1\" class=\"dataframe\">\n",
       "  <thead>\n",
       "    <tr style=\"text-align: right;\">\n",
       "      <th></th>\n",
       "      <th>patent_number</th>\n",
       "      <th>cor_address</th>\n",
       "      <th>name</th>\n",
       "      <th>tax_number</th>\n",
       "      <th>name_from_patent</th>\n",
       "      <th>individual</th>\n",
       "      <th>country</th>\n",
       "    </tr>\n",
       "  </thead>\n",
       "  <tbody>\n",
       "    <tr>\n",
       "      <th>0</th>\n",
       "      <td>120365</td>\n",
       "      <td>660133, г.Красноярск, ул. Авиаторов, 1, стр.1,...</td>\n",
       "      <td>ОБЩЕСТВО С ОГРАНИЧЕННОЙ ОТВЕТСТВЕННОСТЬЮ \"АРНИКА\"</td>\n",
       "      <td>2460018787</td>\n",
       "      <td>Общество с ограниченной ответственностью \"Арника\"</td>\n",
       "      <td>False</td>\n",
       "      <td>RU</td>\n",
       "    </tr>\n",
       "    <tr>\n",
       "      <th>1</th>\n",
       "      <td>32373</td>\n",
       "      <td>198328, Санкт-Петербург, пр-т маршала Захарова...</td>\n",
       "      <td>БЕЛЯЕВ АЛЕКСАНДР ГЕННАДЬЕВИЧ</td>\n",
       "      <td>780708385189</td>\n",
       "      <td>Беляев Александр Геннадьевич</td>\n",
       "      <td>True</td>\n",
       "      <td>RU</td>\n",
       "    </tr>\n",
       "    <tr>\n",
       "      <th>2</th>\n",
       "      <td>96928</td>\n",
       "      <td>117405, Москва, Варшавское ш., 143, корп.1, кв...</td>\n",
       "      <td>АКЦИОНЕРНОЕ ОБЩЕСТВО \"СВЯЗЬ ИНЖИНИРИНГ М\"</td>\n",
       "      <td>7713551934</td>\n",
       "      <td>Закрытое акционерное общество \"Связь инжинирин...</td>\n",
       "      <td>False</td>\n",
       "      <td>RU</td>\n",
       "    </tr>\n",
       "    <tr>\n",
       "      <th>3</th>\n",
       "      <td>116992</td>\n",
       "      <td>141103, Московская обл., г. Щелково-3, ул. Гаг...</td>\n",
       "      <td>Филиппов Валерьян Степанович</td>\n",
       "      <td>None</td>\n",
       "      <td>Филиппов Валерьян Степанович</td>\n",
       "      <td>True</td>\n",
       "      <td>RU</td>\n",
       "    </tr>\n",
       "    <tr>\n",
       "      <th>4</th>\n",
       "      <td>169346</td>\n",
       "      <td>680031, г. Хабаровск, ул. Карла Маркса, 144а, ...</td>\n",
       "      <td>БЕЗМАТЕРНЫХ РОМАН ВИКТОРОВИЧ</td>\n",
       "      <td>272511823375</td>\n",
       "      <td>Безматерных Роман Викторович</td>\n",
       "      <td>True</td>\n",
       "      <td>RU</td>\n",
       "    </tr>\n",
       "  </tbody>\n",
       "</table>\n",
       "</div>"
      ],
      "text/plain": [
       "   patent_number                                        cor_address  \\\n",
       "0         120365  660133, г.Красноярск, ул. Авиаторов, 1, стр.1,...   \n",
       "1          32373  198328, Санкт-Петербург, пр-т маршала Захарова...   \n",
       "2          96928  117405, Москва, Варшавское ш., 143, корп.1, кв...   \n",
       "3         116992  141103, Московская обл., г. Щелково-3, ул. Гаг...   \n",
       "4         169346  680031, г. Хабаровск, ул. Карла Маркса, 144а, ...   \n",
       "\n",
       "                                                name    tax_number  \\\n",
       "0  ОБЩЕСТВО С ОГРАНИЧЕННОЙ ОТВЕТСТВЕННОСТЬЮ \"АРНИКА\"    2460018787   \n",
       "1                       БЕЛЯЕВ АЛЕКСАНДР ГЕННАДЬЕВИЧ  780708385189   \n",
       "2          АКЦИОНЕРНОЕ ОБЩЕСТВО \"СВЯЗЬ ИНЖИНИРИНГ М\"    7713551934   \n",
       "3                       Филиппов Валерьян Степанович          None   \n",
       "4                       БЕЗМАТЕРНЫХ РОМАН ВИКТОРОВИЧ  272511823375   \n",
       "\n",
       "                                    name_from_patent  individual country  \n",
       "0  Общество с ограниченной ответственностью \"Арника\"       False      RU  \n",
       "1                       Беляев Александр Геннадьевич        True      RU  \n",
       "2  Закрытое акционерное общество \"Связь инжинирин...       False      RU  \n",
       "3                       Филиппов Валерьян Степанович        True      RU  \n",
       "4                       Безматерных Роман Викторович        True      RU  "
      ]
     },
     "execution_count": 165,
     "metadata": {},
     "output_type": "execute_result"
    }
   ],
   "source": [
    "mod_test_result = test_sample(mod_sample)\n",
    "mod_test_result.head()"
   ]
  },
  {
   "cell_type": "code",
   "execution_count": 254,
   "id": "b805280a",
   "metadata": {},
   "outputs": [
    {
     "data": {
      "text/plain": [
       "individual  has_tn\n",
       "False       False     155\n",
       "            True      563\n",
       "True        False     225\n",
       "            True      283\n",
       "dtype: int64"
      ]
     },
     "execution_count": 254,
     "metadata": {},
     "output_type": "execute_result"
    }
   ],
   "source": [
    "mod_test_result[\"has_tn\"] = mod_test_result[\"tax_number\"].notna()\n",
    "mod_test_result.groupby([\"individual\", \"has_tn\"]).size()"
   ]
  },
  {
   "cell_type": "code",
   "execution_count": 167,
   "id": "6c227273",
   "metadata": {},
   "outputs": [
    {
     "data": {
      "text/plain": [
       "individual  has_tn\n",
       "False       False      15\n",
       "            True      682\n",
       "True        False     182\n",
       "            True      283\n",
       "dtype: int64"
      ]
     },
     "execution_count": 167,
     "metadata": {},
     "output_type": "execute_result"
    }
   ],
   "source": [
    "mod_test_result[\"has_tn\"] = mod_test_result[\"tax_number\"].notna()\n",
    "mod_test_result.loc[mod_test_result[\"country\"].isna() | (mod_test_result[\"country\"] == \"RU\")].groupby([\"individual\", \"has_tn\"]).size()"
   ]
  },
  {
   "cell_type": "code",
   "execution_count": 170,
   "id": "4ee4a38d",
   "metadata": {},
   "outputs": [
    {
     "data": {
      "text/plain": [
       "0.8304647160068847"
      ]
     },
     "execution_count": 170,
     "metadata": {},
     "output_type": "execute_result"
    }
   ],
   "source": [
    "(682 + 283) / (682 + 283 + 15 + 182) # matched share"
   ]
  },
  {
   "cell_type": "code",
   "execution_count": 174,
   "id": "32f3827e",
   "metadata": {},
   "outputs": [],
   "source": [
    "mod_test_result.to_excel(\"mod_test_result_v2.xlsx\")"
   ]
  },
  {
   "cell_type": "code",
   "execution_count": 168,
   "id": "0e5978c9",
   "metadata": {},
   "outputs": [
    {
     "name": "stderr",
     "output_type": "stream",
     "text": [
      "1000it [05:38,  2.95it/s]\n"
     ]
    },
    {
     "data": {
      "text/html": [
       "<div>\n",
       "<style scoped>\n",
       "    .dataframe tbody tr th:only-of-type {\n",
       "        vertical-align: middle;\n",
       "    }\n",
       "\n",
       "    .dataframe tbody tr th {\n",
       "        vertical-align: top;\n",
       "    }\n",
       "\n",
       "    .dataframe thead th {\n",
       "        text-align: right;\n",
       "    }\n",
       "</style>\n",
       "<table border=\"1\" class=\"dataframe\">\n",
       "  <thead>\n",
       "    <tr style=\"text-align: right;\">\n",
       "      <th></th>\n",
       "      <th>patent_number</th>\n",
       "      <th>cor_address</th>\n",
       "      <th>name</th>\n",
       "      <th>tax_number</th>\n",
       "      <th>name_from_patent</th>\n",
       "      <th>individual</th>\n",
       "      <th>country</th>\n",
       "    </tr>\n",
       "  </thead>\n",
       "  <tbody>\n",
       "    <tr>\n",
       "      <th>0</th>\n",
       "      <td>81851</td>\n",
       "      <td>191186, Санкт-Петербург, а/я 230, АРС-ПАТЕНТ, ...</td>\n",
       "      <td>Геберит Интернешенл АГ</td>\n",
       "      <td>None</td>\n",
       "      <td>Геберит Интернешенл АГ</td>\n",
       "      <td>True</td>\n",
       "      <td>CH</td>\n",
       "    </tr>\n",
       "    <tr>\n",
       "      <th>1</th>\n",
       "      <td>110832</td>\n",
       "      <td>142455, \\nМосковская обл., \\nНогинский р-н, \\n...</td>\n",
       "      <td>П.П.Х. \"АДАМЕКС\" Я.Каронь, Э.Каспшык, А. Каспш...</td>\n",
       "      <td>None</td>\n",
       "      <td>П.П.Х. \"АДАМЕКС\" Я.Каронь, Э.Каспшык, А. Каспш...</td>\n",
       "      <td>False</td>\n",
       "      <td>PL</td>\n",
       "    </tr>\n",
       "    <tr>\n",
       "      <th>2</th>\n",
       "      <td>139296</td>\n",
       "      <td>124460, \\nМосква, \\nг. Зеленоград, \\nа/я 200,\\...</td>\n",
       "      <td>АКЦИОНЕРНОЕ ОБЩЕСТВО \"КАМА\"</td>\n",
       "      <td>1650404549</td>\n",
       "      <td>АКЦИОНЕРНОЕ ОБЩЕСТВО \"КАМА\"</td>\n",
       "      <td>False</td>\n",
       "      <td>RU</td>\n",
       "    </tr>\n",
       "    <tr>\n",
       "      <th>3</th>\n",
       "      <td>94890</td>\n",
       "      <td>660111, г.Красноярск, ул. Пограничников, 37, с...</td>\n",
       "      <td>ОБЩЕСТВО С ОГРАНИЧЕННОЙ ОТВЕТСТВЕННОСТЬЮ \"ОБЪЕ...</td>\n",
       "      <td>3804039638</td>\n",
       "      <td>Общество с ограниченной ответственностью \"Объе...</td>\n",
       "      <td>False</td>\n",
       "      <td>RU</td>\n",
       "    </tr>\n",
       "    <tr>\n",
       "      <th>4</th>\n",
       "      <td>125266</td>\n",
       "      <td>117042, \\nМосква, \\nПлавский проезд, д. 1, кв....</td>\n",
       "      <td>ОБЩЕСТВО С ОГРАНИЧЕННОЙ ОТВЕТСТВЕННОСТЬЮ \"ИНДИ...</td>\n",
       "      <td>7840034022</td>\n",
       "      <td>Индивидуальный предприниматель Бирюков Денис В...</td>\n",
       "      <td>False</td>\n",
       "      <td>RU</td>\n",
       "    </tr>\n",
       "  </tbody>\n",
       "</table>\n",
       "</div>"
      ],
      "text/plain": [
       "   patent_number                                        cor_address  \\\n",
       "0          81851  191186, Санкт-Петербург, а/я 230, АРС-ПАТЕНТ, ...   \n",
       "1         110832  142455, \\nМосковская обл., \\nНогинский р-н, \\n...   \n",
       "2         139296  124460, \\nМосква, \\nг. Зеленоград, \\nа/я 200,\\...   \n",
       "3          94890  660111, г.Красноярск, ул. Пограничников, 37, с...   \n",
       "4         125266  117042, \\nМосква, \\nПлавский проезд, д. 1, кв....   \n",
       "\n",
       "                                                name  tax_number  \\\n",
       "0                             Геберит Интернешенл АГ        None   \n",
       "1  П.П.Х. \"АДАМЕКС\" Я.Каронь, Э.Каспшык, А. Каспш...        None   \n",
       "2                        АКЦИОНЕРНОЕ ОБЩЕСТВО \"КАМА\"  1650404549   \n",
       "3  ОБЩЕСТВО С ОГРАНИЧЕННОЙ ОТВЕТСТВЕННОСТЬЮ \"ОБЪЕ...  3804039638   \n",
       "4  ОБЩЕСТВО С ОГРАНИЧЕННОЙ ОТВЕТСТВЕННОСТЬЮ \"ИНДИ...  7840034022   \n",
       "\n",
       "                                    name_from_patent  individual country  \n",
       "0                             Геберит Интернешенл АГ        True      CH  \n",
       "1  П.П.Х. \"АДАМЕКС\" Я.Каронь, Э.Каспшык, А. Каспш...       False      PL  \n",
       "2                        АКЦИОНЕРНОЕ ОБЩЕСТВО \"КАМА\"       False      RU  \n",
       "3  Общество с ограниченной ответственностью \"Объе...       False      RU  \n",
       "4  Индивидуальный предприниматель Бирюков Денис В...       False      RU  "
      ]
     },
     "execution_count": 168,
     "metadata": {},
     "output_type": "execute_result"
    }
   ],
   "source": [
    "des_test_result = test_sample(des_sample)\n",
    "des_test_result.head()"
   ]
  },
  {
   "cell_type": "code",
   "execution_count": 257,
   "id": "7494bdb9",
   "metadata": {},
   "outputs": [
    {
     "data": {
      "text/plain": [
       "individual  has_tn\n",
       "False       False     300\n",
       "            True      343\n",
       "True        False     276\n",
       "            True      148\n",
       "dtype: int64"
      ]
     },
     "execution_count": 257,
     "metadata": {},
     "output_type": "execute_result"
    }
   ],
   "source": [
    "des_test_result[\"has_tn\"] = des_test_result[\"tax_number\"].notna()\n",
    "des_test_result.groupby([\"individual\", \"has_tn\"]).size()"
   ]
  },
  {
   "cell_type": "code",
   "execution_count": 169,
   "id": "b1e00c91",
   "metadata": {},
   "outputs": [
    {
     "data": {
      "text/plain": [
       "individual  has_tn\n",
       "False       False      15\n",
       "            True      383\n",
       "True        False      54\n",
       "            True      147\n",
       "dtype: int64"
      ]
     },
     "execution_count": 169,
     "metadata": {},
     "output_type": "execute_result"
    }
   ],
   "source": [
    "des_test_result[\"has_tn\"] = des_test_result[\"tax_number\"].notna()\n",
    "des_test_result.loc[des_test_result[\"country\"].isna() | (des_test_result[\"country\"] == \"RU\")].groupby([\"individual\", \"has_tn\"]).size()"
   ]
  },
  {
   "cell_type": "code",
   "execution_count": 171,
   "id": "6738ada6",
   "metadata": {},
   "outputs": [
    {
     "data": {
      "text/plain": [
       "0.8848080133555927"
      ]
     },
     "execution_count": 171,
     "metadata": {},
     "output_type": "execute_result"
    }
   ],
   "source": [
    "(383 + 147) / (383 + 147 + 15 + 54) # matched share"
   ]
  },
  {
   "cell_type": "code",
   "execution_count": 173,
   "id": "93ed6366",
   "metadata": {},
   "outputs": [],
   "source": [
    "des_test_result.to_excel(\"des_test_result_v2.xlsx\")"
   ]
  },
  {
   "cell_type": "code",
   "execution_count": 188,
   "id": "bd67ffb1",
   "metadata": {},
   "outputs": [
    {
     "data": {
      "text/plain": [
       "Index(['Unnamed: 0', 'registration number', 'registration date',\n",
       "       'application number', 'application date', 'authors', 'authors in latin',\n",
       "       'patent holders', 'patent holders in latin', 'correspondence address',\n",
       "       'correspondence address in latin', 'invention name',\n",
       "       'patent starting date',\n",
       "       'Crimean invention application number for state registration in Ukraine',\n",
       "       'Crimean invention application date for state registration in Ukraine',\n",
       "       'Crimean invention patent number in Ukraine',\n",
       "       'receipt date of additional data to application',\n",
       "       'date of application to which additional data has been received',\n",
       "       'number of application to which additional data has been received',\n",
       "       'initial application number', 'initial application date',\n",
       "       'initial application priority date', 'previous application number',\n",
       "       'previous application date', 'paris convention priority number',\n",
       "       'paris convention priority date',\n",
       "       'paris convention priority country code',\n",
       "       'PCT application examination start date', 'PCT application number',\n",
       "       'PCT application date', 'PCT application publish number',\n",
       "       'PCT application publish date', 'EA application number',\n",
       "       'EA application date', 'EA application publish number',\n",
       "       'EA application publish date', 'application publish date',\n",
       "       'application publish number', 'patent grant publish date',\n",
       "       'patent grant publish number', 'revoked patent number',\n",
       "       'information about the obligation to conclude contract of alienation',\n",
       "       'expiration date',\n",
       "       'invention formula numbers for which patent term is prolonged',\n",
       "       'additional patent', 'actual', 'publication URL'],\n",
       "      dtype='object')"
      ]
     },
     "execution_count": 188,
     "metadata": {},
     "output_type": "execute_result"
    }
   ],
   "source": [
    "inv_sample.columns"
   ]
  },
  {
   "cell_type": "code",
   "execution_count": 4,
   "id": "4de891c1",
   "metadata": {},
   "outputs": [],
   "source": [
    "c = pd.read_csv(\"../data/opendata/inventions.csv\", chunksize=10)"
   ]
  },
  {
   "cell_type": "code",
   "execution_count": 5,
   "id": "a8d7697f",
   "metadata": {},
   "outputs": [
    {
     "data": {
      "text/plain": [
       "Index(['registration number', 'registration date', 'application number',\n",
       "       'application date', 'authors', 'authors in latin', 'patent holders',\n",
       "       'patent holders in latin', 'correspondence address',\n",
       "       'correspondence address in latin', 'invention name',\n",
       "       'patent starting date',\n",
       "       'Crimean invention application number for state registration in Ukraine',\n",
       "       'Crimean invention application date for state registration in Ukraine',\n",
       "       'Crimean invention patent number in Ukraine',\n",
       "       'receipt date of additional data to application',\n",
       "       'date of application to which additional data has been received',\n",
       "       'number of application to which additional data has been received',\n",
       "       'initial application number', 'initial application date',\n",
       "       'initial application priority date', 'previous application number',\n",
       "       'previous application date', 'paris convention priority number',\n",
       "       'paris convention priority date',\n",
       "       'paris convention priority country code',\n",
       "       'PCT application examination start date', 'PCT application number',\n",
       "       'PCT application date', 'PCT application publish number',\n",
       "       'PCT application publish date', 'EA application number',\n",
       "       'EA application date', 'EA application publish number',\n",
       "       'EA application publish date', 'application publish date',\n",
       "       'application publish number', 'patent grant publish date',\n",
       "       'patent grant publish number', 'revoked patent number',\n",
       "       'information about the obligation to conclude contract of alienation',\n",
       "       'expiration date',\n",
       "       'invention formula numbers for which patent term is prolonged',\n",
       "       'additional patent', 'actual', 'publication URL'],\n",
       "      dtype='object')"
      ]
     },
     "execution_count": 5,
     "metadata": {},
     "output_type": "execute_result"
    }
   ],
   "source": [
    "c.get_chunk(1).columns"
   ]
  },
  {
   "cell_type": "code",
   "execution_count": 52,
   "id": "faae6817",
   "metadata": {},
   "outputs": [
    {
     "name": "stdout",
     "output_type": "stream",
     "text": [
      "    registration number  registration date  application number  \\\n",
      "1                 84605                NaN                 NaN   \n",
      "2                113967         20120310.0        5.711310e+05   \n",
      "3                120650         20120927.0        2.012127e+09   \n",
      "4                206015                NaN                 NaN   \n",
      "5                239926                NaN        1.041801e+06   \n",
      "6                601043         19780405.0        2.099415e+06   \n",
      "7                778776         19801115.0        2.391796e+06   \n",
      "8               1002282         19830307.0        3.264511e+06   \n",
      "9               1267657         19951010.0        3.823411e+06   \n",
      "10              1296557         19870315.0        3.838883e+06   \n",
      "\n",
      "    application date                                            authors  \\\n",
      "1                NaN  Руденко Сергей Михайлович (RU)\\r\\nМакедонский ...   \n",
      "2         19570411.0  Емельянов Роман Александрович (RU)\\r\\nКузьменк...   \n",
      "3         20120702.0  Антонов Игорь Николаевич (RU)\\r\\nКолесников Вл...   \n",
      "4                NaN                                                NaN   \n",
      "5         19651210.0  Джафарова Э.М.\\r\\nЗульфугаров З. Г.-Г.\\r\\nЗуль...   \n",
      "6         19750120.0  Котельников Георгий Романович\\r\\nБуянов Роман ...   \n",
      "7         19760802.0  Пентюхов Владимир Иванович\\r\\nКоврайский Андре...   \n",
      "8         19810414.0  Коврайский Андрей Евгеньевич\\r\\nНефедов Евгени...   \n",
      "9         19841211.0  Котельников Георгий Романович\\r\\nСтрунникова Л...   \n",
      "10        19840726.0  КОМАРОВ ВЛАДИМИР АЛЕКСЕЕВИЧ\\r\\nОСИПОВ ГЕРИЙ ПЕ...   \n",
      "\n",
      "                            authors in latin  \\\n",
      "1                                   \\r\\n\\r\\n   \n",
      "2                                   \\r\\n\\r\\n   \n",
      "3                                        NaN   \n",
      "4                                        NaN   \n",
      "5                                   \\r\\n\\r\\n   \n",
      "6   \\r\\n\\r\\n\\r\\n\\r\\n\\r\\n\\r\\n\\r\\n\\r\\n\\r\\n\\r\\n   \n",
      "7                           \\r\\n\\r\\n\\r\\n\\r\\n   \n",
      "8                               \\r\\n\\r\\n\\r\\n   \n",
      "9           \\r\\n\\r\\n\\r\\n\\r\\n\\r\\n\\r\\n\\r\\n\\r\\n   \n",
      "10                              \\r\\n\\r\\n\\r\\n   \n",
      "\n",
      "                                       patent holders  \\\n",
      "1                                                 NaN   \n",
      "2   Общество с ограниченной ответственностью \"РИФ\"...   \n",
      "3   Общество с ограниченной ответственностью \"Науч...   \n",
      "4                                                 NaN   \n",
      "5                                                 NaN   \n",
      "6      Научно-производственное предприятие \"Ярсинтез\"   \n",
      "7                  Воронежский институт \"Гипрокаучук\"   \n",
      "8                  Воронежский институт \"Гипрокаучук\"   \n",
      "9      Научно-производственное предприятие \"Ярсинтез\"   \n",
      "10     Научно-производственное предприятие \"Ярсинтез\"   \n",
      "\n",
      "    patent holders in latin  \\\n",
      "1                       NaN   \n",
      "2                       NaN   \n",
      "3                       NaN   \n",
      "4                       NaN   \n",
      "5                       NaN   \n",
      "6                       NaN   \n",
      "7                       NaN   \n",
      "8                       NaN   \n",
      "9                       NaN   \n",
      "10                      NaN   \n",
      "\n",
      "                               correspondence address  \\\n",
      "1                                                 NaN   \n",
      "2   300001, г. Тула, ул. Епифанская, 29-211, пат.п...   \n",
      "3   410000, г.Саратов, Главпочтамт, а/я 62, ООО &q...   \n",
      "4                                                 NaN   \n",
      "5                                                 NaN   \n",
      "6                                                 NaN   \n",
      "7                                                 NaN   \n",
      "8                                                 NaN   \n",
      "9                                                 NaN   \n",
      "10                                                NaN   \n",
      "\n",
      "    correspondence address in latin  ... application publish number  \\\n",
      "1                               NaN  ...                        NaN   \n",
      "2                               NaN  ...                        NaN   \n",
      "3                               NaN  ...                        NaN   \n",
      "4                               NaN  ...                        NaN   \n",
      "5                               NaN  ...                        NaN   \n",
      "6                               NaN  ...                        NaN   \n",
      "7                               NaN  ...                        NaN   \n",
      "8                               NaN  ...                        NaN   \n",
      "9                               NaN  ...                        NaN   \n",
      "10                              NaN  ...                        NaN   \n",
      "\n",
      "    patent grant publish date  patent grant publish number  \\\n",
      "1                         NaN                          NaN   \n",
      "2                  20120310.0                          7.0   \n",
      "3                  20120927.0                         27.0   \n",
      "4                         NaN                          NaN   \n",
      "5                         NaN                          NaN   \n",
      "6                  19930813.0                         13.0   \n",
      "7                  19921210.0                         42.0   \n",
      "8                         NaN                          9.0   \n",
      "9                  19930813.0                         28.0   \n",
      "10                 19930413.0                         10.0   \n",
      "\n",
      "    revoked patent number  \\\n",
      "1                     NaN   \n",
      "2                     NaN   \n",
      "3                     NaN   \n",
      "4                     NaN   \n",
      "5                     NaN   \n",
      "6                     NaN   \n",
      "7                     NaN   \n",
      "8                     NaN   \n",
      "9                     NaN   \n",
      "10                    NaN   \n",
      "\n",
      "    information about the obligation to conclude contract of alienation  \\\n",
      "1                                                 NaN                     \n",
      "2                                                 NaN                     \n",
      "3                                                 NaN                     \n",
      "4                                                 NaN                     \n",
      "5                                                 NaN                     \n",
      "6                                                 NaN                     \n",
      "7                                                 NaN                     \n",
      "8                                                 NaN                     \n",
      "9                                                 NaN                     \n",
      "10                                                NaN                     \n",
      "\n",
      "    expiration date  \\\n",
      "1               NaN   \n",
      "2               NaN   \n",
      "3               NaN   \n",
      "4               NaN   \n",
      "5               NaN   \n",
      "6               NaN   \n",
      "7               NaN   \n",
      "8               NaN   \n",
      "9               NaN   \n",
      "10              NaN   \n",
      "\n",
      "    invention formula numbers for which patent term is prolonged  \\\n",
      "1                                                 NaN              \n",
      "2                                                 NaN              \n",
      "3                                                 NaN              \n",
      "4                                                 NaN              \n",
      "5                                                 NaN              \n",
      "6                                                 NaN              \n",
      "7                                                 NaN              \n",
      "8                                                 NaN              \n",
      "9                                                 NaN              \n",
      "10                                                NaN              \n",
      "\n",
      "    additional patent  actual  \\\n",
      "1               False    True   \n",
      "2               False    True   \n",
      "3               False    True   \n",
      "4               False   False   \n",
      "5               False    True   \n",
      "6               False   False   \n",
      "7               False   False   \n",
      "8               False    True   \n",
      "9               False   False   \n",
      "10              False    True   \n",
      "\n",
      "                                      publication URL  \n",
      "1   http://www1.fips.ru/fips_servl/fips_servlet?DB...  \n",
      "2   http://www1.fips.ru/fips_servl/fips_servlet?DB...  \n",
      "3   http://www1.fips.ru/fips_servl/fips_servlet?DB...  \n",
      "4   http://www1.fips.ru/fips_servl/fips_servlet?DB...  \n",
      "5   http://www1.fips.ru/fips_servl/fips_servlet?DB...  \n",
      "6   http://www1.fips.ru/fips_servl/fips_servlet?DB...  \n",
      "7   http://www1.fips.ru/fips_servl/fips_servlet?DB...  \n",
      "8   http://www1.fips.ru/fips_servl/fips_servlet?DB...  \n",
      "9   http://www1.fips.ru/fips_servl/fips_servlet?DB...  \n",
      "10  http://www1.fips.ru/fips_servl/fips_servlet?DB...  \n",
      "\n",
      "[10 rows x 46 columns]\n"
     ]
    }
   ],
   "source": [
    "for chunk in c:\n",
    "    print(chunk)\n",
    "    break"
   ]
  },
  {
   "cell_type": "code",
   "execution_count": 38,
   "id": "6213dcfb",
   "metadata": {},
   "outputs": [],
   "source": [
    "def process_file(in_file: str, out_file: str, kind: int, chunksize: int = 1e2):\n",
    "    input_df = pd.read_csv(in_file, chunksize=chunksize)\n",
    "    \n",
    "    for chunk in tqdm.tqdm(input_df):\n",
    "        chunk_result = []\n",
    "        for _, row in chunk.iterrows():\n",
    "            try:\n",
    "                patent = parse(row)\n",
    "                persons = search(patent)\n",
    "            except Exception as e:\n",
    "                print(e)\n",
    "                continue\n",
    "            \n",
    "            rows = [\n",
    "                (patent.number, person.name, person.tax_number)\n",
    "                for person in persons\n",
    "            ]\n",
    "            chunk_result.extend(rows)\n",
    "        \n",
    "        result_df = pd.DataFrame(\n",
    "            chunk_result, \n",
    "            columns=[\"patent_number\", \"person_name\", \"person_tax_number\"]\n",
    "        )\n",
    "        result_df[\"patent_kind\"] = kind\n",
    "        \n",
    "        if not pathlib.Path(out_file).exists():\n",
    "            result_df.to_csv(out_file, mode=\"w\", index=False)\n",
    "        else:\n",
    "            result_df.to_csv(out_file, mode=\"a\", index=False, header=False)"
   ]
  },
  {
   "cell_type": "code",
   "execution_count": 39,
   "id": "33ed44fd",
   "metadata": {},
   "outputs": [
    {
     "name": "stderr",
     "output_type": "stream",
     "text": [
      "4it [03:08, 47.03s/it]\n"
     ]
    },
    {
     "ename": "KeyboardInterrupt",
     "evalue": "",
     "output_type": "error",
     "traceback": [
      "\u001b[0;31m---------------------------------------------------------------------------\u001b[0m",
      "\u001b[0;31mKeyboardInterrupt\u001b[0m                         Traceback (most recent call last)",
      "Cell \u001b[0;32mIn[39], line 1\u001b[0m\n\u001b[0;32m----> 1\u001b[0m \u001b[43mprocess_file\u001b[49m\u001b[43m(\u001b[49m\u001b[38;5;124;43m\"\u001b[39;49m\u001b[38;5;124;43m../data/opendata/models.csv\u001b[39;49m\u001b[38;5;124;43m\"\u001b[39;49m\u001b[43m,\u001b[49m\u001b[43m \u001b[49m\u001b[38;5;124;43m\"\u001b[39;49m\u001b[38;5;124;43mmodels_match.csv\u001b[39;49m\u001b[38;5;124;43m\"\u001b[39;49m\u001b[43m,\u001b[49m\u001b[43m \u001b[49m\u001b[38;5;241;43m2\u001b[39;49m\u001b[43m)\u001b[49m\n",
      "Cell \u001b[0;32mIn[38], line 9\u001b[0m, in \u001b[0;36mprocess_file\u001b[0;34m(in_file, out_file, kind, chunksize)\u001b[0m\n\u001b[1;32m      7\u001b[0m \u001b[38;5;28;01mtry\u001b[39;00m:\n\u001b[1;32m      8\u001b[0m     patent \u001b[38;5;241m=\u001b[39m parse(row)\n\u001b[0;32m----> 9\u001b[0m     persons \u001b[38;5;241m=\u001b[39m \u001b[43msearch\u001b[49m\u001b[43m(\u001b[49m\u001b[43mpatent\u001b[49m\u001b[43m)\u001b[49m\n\u001b[1;32m     10\u001b[0m \u001b[38;5;28;01mexcept\u001b[39;00m \u001b[38;5;167;01mException\u001b[39;00m \u001b[38;5;28;01mas\u001b[39;00m e:\n\u001b[1;32m     11\u001b[0m     \u001b[38;5;28mprint\u001b[39m(e)\n",
      "Cell \u001b[0;32mIn[35], line 22\u001b[0m, in \u001b[0;36msearch\u001b[0;34m(patent)\u001b[0m\n\u001b[1;32m     15\u001b[0m     methods \u001b[38;5;241m=\u001b[39m (\n\u001b[1;32m     16\u001b[0m         search_by_exact_name_match,\n\u001b[1;32m     17\u001b[0m         search_by_like_name_match,\n\u001b[1;32m     18\u001b[0m         search_by_tokens_match,\n\u001b[1;32m     19\u001b[0m     )\n\u001b[1;32m     21\u001b[0m \u001b[38;5;28;01mfor\u001b[39;00m method \u001b[38;5;129;01min\u001b[39;00m methods:            \n\u001b[0;32m---> 22\u001b[0m     found \u001b[38;5;241m=\u001b[39m \u001b[43mmethod\u001b[49m\u001b[43m(\u001b[49m\u001b[43mowner\u001b[49m\u001b[38;5;241;43m.\u001b[39;49m\u001b[43mname\u001b[49m\u001b[43m,\u001b[49m\u001b[43m \u001b[49m\u001b[43mpatent\u001b[49m\u001b[38;5;241;43m.\u001b[39;49m\u001b[43maddress\u001b[49m\u001b[43m,\u001b[49m\u001b[43m \u001b[49m\u001b[43mowner\u001b[49m\u001b[38;5;241;43m.\u001b[39;49m\u001b[43mindividual\u001b[49m\u001b[43m)\u001b[49m\n\u001b[1;32m     24\u001b[0m     \u001b[38;5;28;01mif\u001b[39;00m \u001b[38;5;28mlen\u001b[39m(found) \u001b[38;5;241m==\u001b[39m \u001b[38;5;241m0\u001b[39m:\n\u001b[1;32m     25\u001b[0m         \u001b[38;5;28;01mcontinue\u001b[39;00m\n",
      "Cell \u001b[0;32mIn[22], line 48\u001b[0m, in \u001b[0;36msearch_by_like_name_match\u001b[0;34m(name, address, individual)\u001b[0m\n\u001b[1;32m     25\u001b[0m stmt \u001b[38;5;241m=\u001b[39m \u001b[38;5;124m\"\"\"\u001b[39m\n\u001b[1;32m     26\u001b[0m \u001b[38;5;124m    SELECT\u001b[39m\n\u001b[1;32m     27\u001b[0m \u001b[38;5;124m        name,\u001b[39m\n\u001b[0;32m   (...)\u001b[0m\n\u001b[1;32m     38\u001b[0m \u001b[38;5;124m    LIMIT 1\u001b[39m\n\u001b[1;32m     39\u001b[0m \u001b[38;5;124m\u001b[39m\u001b[38;5;124m\"\"\"\u001b[39m\n\u001b[1;32m     41\u001b[0m params \u001b[38;5;241m=\u001b[39m {\n\u001b[1;32m     42\u001b[0m     \u001b[38;5;124m\"\u001b[39m\u001b[38;5;124moriginal_name\u001b[39m\u001b[38;5;124m\"\u001b[39m: name\u001b[38;5;241m.\u001b[39mupper(),\n\u001b[1;32m     43\u001b[0m     \u001b[38;5;124m\"\u001b[39m\u001b[38;5;124munquoted_name\u001b[39m\u001b[38;5;124m\"\u001b[39m: \u001b[38;5;124mf\u001b[39m\u001b[38;5;124m\"\u001b[39m\u001b[38;5;124m%\u001b[39m\u001b[38;5;132;01m{\u001b[39;00munquote_name(name)\u001b[38;5;241m.\u001b[39mupper()\u001b[38;5;132;01m}\u001b[39;00m\u001b[38;5;124m%\u001b[39m\u001b[38;5;124m\"\u001b[39m, \n\u001b[1;32m     44\u001b[0m     \u001b[38;5;124m\"\u001b[39m\u001b[38;5;124maddress\u001b[39m\u001b[38;5;124m\"\u001b[39m: address,\n\u001b[1;32m     45\u001b[0m     \u001b[38;5;124m\"\u001b[39m\u001b[38;5;124mindividual\u001b[39m\u001b[38;5;124m\"\u001b[39m: individual,\n\u001b[1;32m     46\u001b[0m }     \n\u001b[0;32m---> 48\u001b[0m res \u001b[38;5;241m=\u001b[39m \u001b[43mclient\u001b[49m\u001b[38;5;241;43m.\u001b[39;49m\u001b[43mquery\u001b[49m\u001b[43m(\u001b[49m\u001b[43mstmt\u001b[49m\u001b[43m,\u001b[49m\u001b[43m \u001b[49m\u001b[43mparameters\u001b[49m\u001b[38;5;241;43m=\u001b[39;49m\u001b[43mparams\u001b[49m\u001b[43m)\u001b[49m\n\u001b[1;32m     50\u001b[0m \u001b[38;5;28;01mif\u001b[39;00m \u001b[38;5;28mlen\u001b[39m(res\u001b[38;5;241m.\u001b[39mresult_rows) \u001b[38;5;241m==\u001b[39m \u001b[38;5;241m0\u001b[39m:\n\u001b[1;32m     51\u001b[0m     \u001b[38;5;28;01mreturn\u001b[39;00m []\n",
      "File \u001b[0;32m~/.venv/hse/lib/python3.10/site-packages/clickhouse_connect/driver/client.py:205\u001b[0m, in \u001b[0;36mClient.query\u001b[0;34m(self, query, parameters, settings, query_formats, column_formats, encoding, use_none, column_oriented, use_numpy, max_str_len, context, query_tz, column_tzs, external_data)\u001b[0m\n\u001b[1;32m    203\u001b[0m         \u001b[38;5;28;01mreturn\u001b[39;00m response\u001b[38;5;241m.\u001b[39mas_query_result()\n\u001b[1;32m    204\u001b[0m     \u001b[38;5;28;01mreturn\u001b[39;00m QueryResult([response] \u001b[38;5;28;01mif\u001b[39;00m \u001b[38;5;28misinstance\u001b[39m(response, \u001b[38;5;28mlist\u001b[39m) \u001b[38;5;28;01melse\u001b[39;00m [[response]])\n\u001b[0;32m--> 205\u001b[0m \u001b[38;5;28;01mreturn\u001b[39;00m \u001b[38;5;28;43mself\u001b[39;49m\u001b[38;5;241;43m.\u001b[39;49m\u001b[43m_query_with_context\u001b[49m\u001b[43m(\u001b[49m\u001b[43mquery_context\u001b[49m\u001b[43m)\u001b[49m\n",
      "File \u001b[0;32m~/.venv/hse/lib/python3.10/site-packages/clickhouse_connect/driver/httpclient.py:215\u001b[0m, in \u001b[0;36mHttpClient._query_with_context\u001b[0;34m(self, context)\u001b[0m\n\u001b[1;32m    213\u001b[0m     fields \u001b[38;5;241m=\u001b[39m \u001b[38;5;28;01mNone\u001b[39;00m\n\u001b[1;32m    214\u001b[0m     headers[\u001b[38;5;124m'\u001b[39m\u001b[38;5;124mContent-Type\u001b[39m\u001b[38;5;124m'\u001b[39m] \u001b[38;5;241m=\u001b[39m \u001b[38;5;124m'\u001b[39m\u001b[38;5;124mtext/plain; charset=utf-8\u001b[39m\u001b[38;5;124m'\u001b[39m\n\u001b[0;32m--> 215\u001b[0m response \u001b[38;5;241m=\u001b[39m \u001b[38;5;28;43mself\u001b[39;49m\u001b[38;5;241;43m.\u001b[39;49m\u001b[43m_raw_request\u001b[49m\u001b[43m(\u001b[49m\u001b[43mbody\u001b[49m\u001b[43m,\u001b[49m\n\u001b[1;32m    216\u001b[0m \u001b[43m                             \u001b[49m\u001b[43mparams\u001b[49m\u001b[43m,\u001b[49m\n\u001b[1;32m    217\u001b[0m \u001b[43m                             \u001b[49m\u001b[43mheaders\u001b[49m\u001b[43m,\u001b[49m\n\u001b[1;32m    218\u001b[0m \u001b[43m                             \u001b[49m\u001b[43mstream\u001b[49m\u001b[38;5;241;43m=\u001b[39;49m\u001b[38;5;28;43;01mTrue\u001b[39;49;00m\u001b[43m,\u001b[49m\n\u001b[1;32m    219\u001b[0m \u001b[43m                             \u001b[49m\u001b[43mretries\u001b[49m\u001b[38;5;241;43m=\u001b[39;49m\u001b[38;5;28;43mself\u001b[39;49m\u001b[38;5;241;43m.\u001b[39;49m\u001b[43mquery_retries\u001b[49m\u001b[43m,\u001b[49m\n\u001b[1;32m    220\u001b[0m \u001b[43m                             \u001b[49m\u001b[43mfields\u001b[49m\u001b[38;5;241;43m=\u001b[39;49m\u001b[43mfields\u001b[49m\u001b[43m,\u001b[49m\n\u001b[1;32m    221\u001b[0m \u001b[43m                             \u001b[49m\u001b[43mserver_wait\u001b[49m\u001b[38;5;241;43m=\u001b[39;49m\u001b[38;5;129;43;01mnot\u001b[39;49;00m\u001b[43m \u001b[49m\u001b[43mcontext\u001b[49m\u001b[38;5;241;43m.\u001b[39;49m\u001b[43mstreaming\u001b[49m\u001b[43m)\u001b[49m\n\u001b[1;32m    222\u001b[0m byte_source \u001b[38;5;241m=\u001b[39m RespBuffCls(ResponseSource(response))  \u001b[38;5;66;03m# pylint: disable=not-callable\u001b[39;00m\n\u001b[1;32m    223\u001b[0m context\u001b[38;5;241m.\u001b[39mset_response_tz(\u001b[38;5;28mself\u001b[39m\u001b[38;5;241m.\u001b[39m_check_tz_change(response\u001b[38;5;241m.\u001b[39mheaders\u001b[38;5;241m.\u001b[39mget(\u001b[38;5;124m'\u001b[39m\u001b[38;5;124mX-ClickHouse-Timezone\u001b[39m\u001b[38;5;124m'\u001b[39m)))\n",
      "File \u001b[0;32m~/.venv/hse/lib/python3.10/site-packages/clickhouse_connect/driver/httpclient.py:418\u001b[0m, in \u001b[0;36mHttpClient._raw_request\u001b[0;34m(self, data, params, headers, method, retries, stream, server_wait, fields, error_handler)\u001b[0m\n\u001b[1;32m    416\u001b[0m     \u001b[38;5;28mself\u001b[39m\u001b[38;5;241m.\u001b[39m_active_session \u001b[38;5;241m=\u001b[39m query_session\n\u001b[1;32m    417\u001b[0m \u001b[38;5;28;01mtry\u001b[39;00m:\n\u001b[0;32m--> 418\u001b[0m     response \u001b[38;5;241m=\u001b[39m \u001b[38;5;28;43mself\u001b[39;49m\u001b[38;5;241;43m.\u001b[39;49m\u001b[43mhttp\u001b[49m\u001b[38;5;241;43m.\u001b[39;49m\u001b[43mrequest\u001b[49m\u001b[43m(\u001b[49m\u001b[43mmethod\u001b[49m\u001b[43m,\u001b[49m\u001b[43m \u001b[49m\u001b[43murl\u001b[49m\u001b[43m,\u001b[49m\u001b[43m \u001b[49m\u001b[38;5;241;43m*\u001b[39;49m\u001b[38;5;241;43m*\u001b[39;49m\u001b[43mkwargs\u001b[49m\u001b[43m)\u001b[49m\n\u001b[1;32m    419\u001b[0m \u001b[38;5;28;01mexcept\u001b[39;00m HTTPError \u001b[38;5;28;01mas\u001b[39;00m ex:\n\u001b[1;32m    420\u001b[0m     \u001b[38;5;28;01mif\u001b[39;00m \u001b[38;5;28misinstance\u001b[39m(ex\u001b[38;5;241m.\u001b[39m__context__, \u001b[38;5;167;01mConnectionResetError\u001b[39;00m):\n\u001b[1;32m    421\u001b[0m         \u001b[38;5;66;03m# The server closed the connection, probably because the Keep Alive has expired\u001b[39;00m\n\u001b[1;32m    422\u001b[0m         \u001b[38;5;66;03m# We should be safe to retry, as ClickHouse should not have processed anything on a connection\u001b[39;00m\n\u001b[1;32m    423\u001b[0m         \u001b[38;5;66;03m# that it killed.  We also only retry this once, as multiple disconnects are unlikely to be\u001b[39;00m\n\u001b[1;32m    424\u001b[0m         \u001b[38;5;66;03m# related to the Keep Alive settings\u001b[39;00m\n",
      "File \u001b[0;32m~/.venv/hse/lib/python3.10/site-packages/urllib3/request.py:78\u001b[0m, in \u001b[0;36mRequestMethods.request\u001b[0;34m(self, method, url, fields, headers, **urlopen_kw)\u001b[0m\n\u001b[1;32m     74\u001b[0m     \u001b[38;5;28;01mreturn\u001b[39;00m \u001b[38;5;28mself\u001b[39m\u001b[38;5;241m.\u001b[39mrequest_encode_url(\n\u001b[1;32m     75\u001b[0m         method, url, fields\u001b[38;5;241m=\u001b[39mfields, headers\u001b[38;5;241m=\u001b[39mheaders, \u001b[38;5;241m*\u001b[39m\u001b[38;5;241m*\u001b[39murlopen_kw\n\u001b[1;32m     76\u001b[0m     )\n\u001b[1;32m     77\u001b[0m \u001b[38;5;28;01melse\u001b[39;00m:\n\u001b[0;32m---> 78\u001b[0m     \u001b[38;5;28;01mreturn\u001b[39;00m \u001b[38;5;28;43mself\u001b[39;49m\u001b[38;5;241;43m.\u001b[39;49m\u001b[43mrequest_encode_body\u001b[49m\u001b[43m(\u001b[49m\n\u001b[1;32m     79\u001b[0m \u001b[43m        \u001b[49m\u001b[43mmethod\u001b[49m\u001b[43m,\u001b[49m\u001b[43m \u001b[49m\u001b[43murl\u001b[49m\u001b[43m,\u001b[49m\u001b[43m \u001b[49m\u001b[43mfields\u001b[49m\u001b[38;5;241;43m=\u001b[39;49m\u001b[43mfields\u001b[49m\u001b[43m,\u001b[49m\u001b[43m \u001b[49m\u001b[43mheaders\u001b[49m\u001b[38;5;241;43m=\u001b[39;49m\u001b[43mheaders\u001b[49m\u001b[43m,\u001b[49m\u001b[43m \u001b[49m\u001b[38;5;241;43m*\u001b[39;49m\u001b[38;5;241;43m*\u001b[39;49m\u001b[43murlopen_kw\u001b[49m\n\u001b[1;32m     80\u001b[0m \u001b[43m    \u001b[49m\u001b[43m)\u001b[49m\n",
      "File \u001b[0;32m~/.venv/hse/lib/python3.10/site-packages/urllib3/request.py:170\u001b[0m, in \u001b[0;36mRequestMethods.request_encode_body\u001b[0;34m(self, method, url, fields, headers, encode_multipart, multipart_boundary, **urlopen_kw)\u001b[0m\n\u001b[1;32m    167\u001b[0m extra_kw[\u001b[38;5;124m\"\u001b[39m\u001b[38;5;124mheaders\u001b[39m\u001b[38;5;124m\"\u001b[39m]\u001b[38;5;241m.\u001b[39mupdate(headers)\n\u001b[1;32m    168\u001b[0m extra_kw\u001b[38;5;241m.\u001b[39mupdate(urlopen_kw)\n\u001b[0;32m--> 170\u001b[0m \u001b[38;5;28;01mreturn\u001b[39;00m \u001b[38;5;28;43mself\u001b[39;49m\u001b[38;5;241;43m.\u001b[39;49m\u001b[43murlopen\u001b[49m\u001b[43m(\u001b[49m\u001b[43mmethod\u001b[49m\u001b[43m,\u001b[49m\u001b[43m \u001b[49m\u001b[43murl\u001b[49m\u001b[43m,\u001b[49m\u001b[43m \u001b[49m\u001b[38;5;241;43m*\u001b[39;49m\u001b[38;5;241;43m*\u001b[39;49m\u001b[43mextra_kw\u001b[49m\u001b[43m)\u001b[49m\n",
      "File \u001b[0;32m~/.venv/hse/lib/python3.10/site-packages/urllib3/poolmanager.py:376\u001b[0m, in \u001b[0;36mPoolManager.urlopen\u001b[0;34m(self, method, url, redirect, **kw)\u001b[0m\n\u001b[1;32m    374\u001b[0m     response \u001b[38;5;241m=\u001b[39m conn\u001b[38;5;241m.\u001b[39murlopen(method, url, \u001b[38;5;241m*\u001b[39m\u001b[38;5;241m*\u001b[39mkw)\n\u001b[1;32m    375\u001b[0m \u001b[38;5;28;01melse\u001b[39;00m:\n\u001b[0;32m--> 376\u001b[0m     response \u001b[38;5;241m=\u001b[39m \u001b[43mconn\u001b[49m\u001b[38;5;241;43m.\u001b[39;49m\u001b[43murlopen\u001b[49m\u001b[43m(\u001b[49m\u001b[43mmethod\u001b[49m\u001b[43m,\u001b[49m\u001b[43m \u001b[49m\u001b[43mu\u001b[49m\u001b[38;5;241;43m.\u001b[39;49m\u001b[43mrequest_uri\u001b[49m\u001b[43m,\u001b[49m\u001b[43m \u001b[49m\u001b[38;5;241;43m*\u001b[39;49m\u001b[38;5;241;43m*\u001b[39;49m\u001b[43mkw\u001b[49m\u001b[43m)\u001b[49m\n\u001b[1;32m    378\u001b[0m redirect_location \u001b[38;5;241m=\u001b[39m redirect \u001b[38;5;129;01mand\u001b[39;00m response\u001b[38;5;241m.\u001b[39mget_redirect_location()\n\u001b[1;32m    379\u001b[0m \u001b[38;5;28;01mif\u001b[39;00m \u001b[38;5;129;01mnot\u001b[39;00m redirect_location:\n",
      "File \u001b[0;32m~/.venv/hse/lib/python3.10/site-packages/urllib3/connectionpool.py:703\u001b[0m, in \u001b[0;36mHTTPConnectionPool.urlopen\u001b[0;34m(self, method, url, body, headers, retries, redirect, assert_same_host, timeout, pool_timeout, release_conn, chunked, body_pos, **response_kw)\u001b[0m\n\u001b[1;32m    700\u001b[0m     \u001b[38;5;28mself\u001b[39m\u001b[38;5;241m.\u001b[39m_prepare_proxy(conn)\n\u001b[1;32m    702\u001b[0m \u001b[38;5;66;03m# Make the request on the httplib connection object.\u001b[39;00m\n\u001b[0;32m--> 703\u001b[0m httplib_response \u001b[38;5;241m=\u001b[39m \u001b[38;5;28;43mself\u001b[39;49m\u001b[38;5;241;43m.\u001b[39;49m\u001b[43m_make_request\u001b[49m\u001b[43m(\u001b[49m\n\u001b[1;32m    704\u001b[0m \u001b[43m    \u001b[49m\u001b[43mconn\u001b[49m\u001b[43m,\u001b[49m\n\u001b[1;32m    705\u001b[0m \u001b[43m    \u001b[49m\u001b[43mmethod\u001b[49m\u001b[43m,\u001b[49m\n\u001b[1;32m    706\u001b[0m \u001b[43m    \u001b[49m\u001b[43murl\u001b[49m\u001b[43m,\u001b[49m\n\u001b[1;32m    707\u001b[0m \u001b[43m    \u001b[49m\u001b[43mtimeout\u001b[49m\u001b[38;5;241;43m=\u001b[39;49m\u001b[43mtimeout_obj\u001b[49m\u001b[43m,\u001b[49m\n\u001b[1;32m    708\u001b[0m \u001b[43m    \u001b[49m\u001b[43mbody\u001b[49m\u001b[38;5;241;43m=\u001b[39;49m\u001b[43mbody\u001b[49m\u001b[43m,\u001b[49m\n\u001b[1;32m    709\u001b[0m \u001b[43m    \u001b[49m\u001b[43mheaders\u001b[49m\u001b[38;5;241;43m=\u001b[39;49m\u001b[43mheaders\u001b[49m\u001b[43m,\u001b[49m\n\u001b[1;32m    710\u001b[0m \u001b[43m    \u001b[49m\u001b[43mchunked\u001b[49m\u001b[38;5;241;43m=\u001b[39;49m\u001b[43mchunked\u001b[49m\u001b[43m,\u001b[49m\n\u001b[1;32m    711\u001b[0m \u001b[43m\u001b[49m\u001b[43m)\u001b[49m\n\u001b[1;32m    713\u001b[0m \u001b[38;5;66;03m# If we're going to release the connection in ``finally:``, then\u001b[39;00m\n\u001b[1;32m    714\u001b[0m \u001b[38;5;66;03m# the response doesn't need to know about the connection. Otherwise\u001b[39;00m\n\u001b[1;32m    715\u001b[0m \u001b[38;5;66;03m# it will also try to release it and we'll have a double-release\u001b[39;00m\n\u001b[1;32m    716\u001b[0m \u001b[38;5;66;03m# mess.\u001b[39;00m\n\u001b[1;32m    717\u001b[0m response_conn \u001b[38;5;241m=\u001b[39m conn \u001b[38;5;28;01mif\u001b[39;00m \u001b[38;5;129;01mnot\u001b[39;00m release_conn \u001b[38;5;28;01melse\u001b[39;00m \u001b[38;5;28;01mNone\u001b[39;00m\n",
      "File \u001b[0;32m~/.venv/hse/lib/python3.10/site-packages/urllib3/connectionpool.py:449\u001b[0m, in \u001b[0;36mHTTPConnectionPool._make_request\u001b[0;34m(self, conn, method, url, timeout, chunked, **httplib_request_kw)\u001b[0m\n\u001b[1;32m    444\u001b[0m             httplib_response \u001b[38;5;241m=\u001b[39m conn\u001b[38;5;241m.\u001b[39mgetresponse()\n\u001b[1;32m    445\u001b[0m         \u001b[38;5;28;01mexcept\u001b[39;00m \u001b[38;5;167;01mBaseException\u001b[39;00m \u001b[38;5;28;01mas\u001b[39;00m e:\n\u001b[1;32m    446\u001b[0m             \u001b[38;5;66;03m# Remove the TypeError from the exception chain in\u001b[39;00m\n\u001b[1;32m    447\u001b[0m             \u001b[38;5;66;03m# Python 3 (including for exceptions like SystemExit).\u001b[39;00m\n\u001b[1;32m    448\u001b[0m             \u001b[38;5;66;03m# Otherwise it looks like a bug in the code.\u001b[39;00m\n\u001b[0;32m--> 449\u001b[0m             \u001b[43msix\u001b[49m\u001b[38;5;241;43m.\u001b[39;49m\u001b[43mraise_from\u001b[49m\u001b[43m(\u001b[49m\u001b[43me\u001b[49m\u001b[43m,\u001b[49m\u001b[43m \u001b[49m\u001b[38;5;28;43;01mNone\u001b[39;49;00m\u001b[43m)\u001b[49m\n\u001b[1;32m    450\u001b[0m \u001b[38;5;28;01mexcept\u001b[39;00m (SocketTimeout, BaseSSLError, SocketError) \u001b[38;5;28;01mas\u001b[39;00m e:\n\u001b[1;32m    451\u001b[0m     \u001b[38;5;28mself\u001b[39m\u001b[38;5;241m.\u001b[39m_raise_timeout(err\u001b[38;5;241m=\u001b[39me, url\u001b[38;5;241m=\u001b[39murl, timeout_value\u001b[38;5;241m=\u001b[39mread_timeout)\n",
      "File \u001b[0;32m<string>:3\u001b[0m, in \u001b[0;36mraise_from\u001b[0;34m(value, from_value)\u001b[0m\n",
      "File \u001b[0;32m~/.venv/hse/lib/python3.10/site-packages/urllib3/connectionpool.py:444\u001b[0m, in \u001b[0;36mHTTPConnectionPool._make_request\u001b[0;34m(self, conn, method, url, timeout, chunked, **httplib_request_kw)\u001b[0m\n\u001b[1;32m    441\u001b[0m \u001b[38;5;28;01mexcept\u001b[39;00m \u001b[38;5;167;01mTypeError\u001b[39;00m:\n\u001b[1;32m    442\u001b[0m     \u001b[38;5;66;03m# Python 3\u001b[39;00m\n\u001b[1;32m    443\u001b[0m     \u001b[38;5;28;01mtry\u001b[39;00m:\n\u001b[0;32m--> 444\u001b[0m         httplib_response \u001b[38;5;241m=\u001b[39m \u001b[43mconn\u001b[49m\u001b[38;5;241;43m.\u001b[39;49m\u001b[43mgetresponse\u001b[49m\u001b[43m(\u001b[49m\u001b[43m)\u001b[49m\n\u001b[1;32m    445\u001b[0m     \u001b[38;5;28;01mexcept\u001b[39;00m \u001b[38;5;167;01mBaseException\u001b[39;00m \u001b[38;5;28;01mas\u001b[39;00m e:\n\u001b[1;32m    446\u001b[0m         \u001b[38;5;66;03m# Remove the TypeError from the exception chain in\u001b[39;00m\n\u001b[1;32m    447\u001b[0m         \u001b[38;5;66;03m# Python 3 (including for exceptions like SystemExit).\u001b[39;00m\n\u001b[1;32m    448\u001b[0m         \u001b[38;5;66;03m# Otherwise it looks like a bug in the code.\u001b[39;00m\n\u001b[1;32m    449\u001b[0m         six\u001b[38;5;241m.\u001b[39mraise_from(e, \u001b[38;5;28;01mNone\u001b[39;00m)\n",
      "File \u001b[0;32m/usr/lib/python3.10/http/client.py:1374\u001b[0m, in \u001b[0;36mHTTPConnection.getresponse\u001b[0;34m(self)\u001b[0m\n\u001b[1;32m   1372\u001b[0m \u001b[38;5;28;01mtry\u001b[39;00m:\n\u001b[1;32m   1373\u001b[0m     \u001b[38;5;28;01mtry\u001b[39;00m:\n\u001b[0;32m-> 1374\u001b[0m         \u001b[43mresponse\u001b[49m\u001b[38;5;241;43m.\u001b[39;49m\u001b[43mbegin\u001b[49m\u001b[43m(\u001b[49m\u001b[43m)\u001b[49m\n\u001b[1;32m   1375\u001b[0m     \u001b[38;5;28;01mexcept\u001b[39;00m \u001b[38;5;167;01mConnectionError\u001b[39;00m:\n\u001b[1;32m   1376\u001b[0m         \u001b[38;5;28mself\u001b[39m\u001b[38;5;241m.\u001b[39mclose()\n",
      "File \u001b[0;32m/usr/lib/python3.10/http/client.py:318\u001b[0m, in \u001b[0;36mHTTPResponse.begin\u001b[0;34m(self)\u001b[0m\n\u001b[1;32m    316\u001b[0m \u001b[38;5;66;03m# read until we get a non-100 response\u001b[39;00m\n\u001b[1;32m    317\u001b[0m \u001b[38;5;28;01mwhile\u001b[39;00m \u001b[38;5;28;01mTrue\u001b[39;00m:\n\u001b[0;32m--> 318\u001b[0m     version, status, reason \u001b[38;5;241m=\u001b[39m \u001b[38;5;28;43mself\u001b[39;49m\u001b[38;5;241;43m.\u001b[39;49m\u001b[43m_read_status\u001b[49m\u001b[43m(\u001b[49m\u001b[43m)\u001b[49m\n\u001b[1;32m    319\u001b[0m     \u001b[38;5;28;01mif\u001b[39;00m status \u001b[38;5;241m!=\u001b[39m CONTINUE:\n\u001b[1;32m    320\u001b[0m         \u001b[38;5;28;01mbreak\u001b[39;00m\n",
      "File \u001b[0;32m/usr/lib/python3.10/http/client.py:279\u001b[0m, in \u001b[0;36mHTTPResponse._read_status\u001b[0;34m(self)\u001b[0m\n\u001b[1;32m    278\u001b[0m \u001b[38;5;28;01mdef\u001b[39;00m \u001b[38;5;21m_read_status\u001b[39m(\u001b[38;5;28mself\u001b[39m):\n\u001b[0;32m--> 279\u001b[0m     line \u001b[38;5;241m=\u001b[39m \u001b[38;5;28mstr\u001b[39m(\u001b[38;5;28;43mself\u001b[39;49m\u001b[38;5;241;43m.\u001b[39;49m\u001b[43mfp\u001b[49m\u001b[38;5;241;43m.\u001b[39;49m\u001b[43mreadline\u001b[49m\u001b[43m(\u001b[49m\u001b[43m_MAXLINE\u001b[49m\u001b[43m \u001b[49m\u001b[38;5;241;43m+\u001b[39;49m\u001b[43m \u001b[49m\u001b[38;5;241;43m1\u001b[39;49m\u001b[43m)\u001b[49m, \u001b[38;5;124m\"\u001b[39m\u001b[38;5;124miso-8859-1\u001b[39m\u001b[38;5;124m\"\u001b[39m)\n\u001b[1;32m    280\u001b[0m     \u001b[38;5;28;01mif\u001b[39;00m \u001b[38;5;28mlen\u001b[39m(line) \u001b[38;5;241m>\u001b[39m _MAXLINE:\n\u001b[1;32m    281\u001b[0m         \u001b[38;5;28;01mraise\u001b[39;00m LineTooLong(\u001b[38;5;124m\"\u001b[39m\u001b[38;5;124mstatus line\u001b[39m\u001b[38;5;124m\"\u001b[39m)\n",
      "File \u001b[0;32m/usr/lib/python3.10/socket.py:705\u001b[0m, in \u001b[0;36mSocketIO.readinto\u001b[0;34m(self, b)\u001b[0m\n\u001b[1;32m    703\u001b[0m \u001b[38;5;28;01mwhile\u001b[39;00m \u001b[38;5;28;01mTrue\u001b[39;00m:\n\u001b[1;32m    704\u001b[0m     \u001b[38;5;28;01mtry\u001b[39;00m:\n\u001b[0;32m--> 705\u001b[0m         \u001b[38;5;28;01mreturn\u001b[39;00m \u001b[38;5;28;43mself\u001b[39;49m\u001b[38;5;241;43m.\u001b[39;49m\u001b[43m_sock\u001b[49m\u001b[38;5;241;43m.\u001b[39;49m\u001b[43mrecv_into\u001b[49m\u001b[43m(\u001b[49m\u001b[43mb\u001b[49m\u001b[43m)\u001b[49m\n\u001b[1;32m    706\u001b[0m     \u001b[38;5;28;01mexcept\u001b[39;00m timeout:\n\u001b[1;32m    707\u001b[0m         \u001b[38;5;28mself\u001b[39m\u001b[38;5;241m.\u001b[39m_timeout_occurred \u001b[38;5;241m=\u001b[39m \u001b[38;5;28;01mTrue\u001b[39;00m\n",
      "\u001b[0;31mKeyboardInterrupt\u001b[0m: "
     ]
    }
   ],
   "source": [
    "process_file(\"../data/opendata/models.csv\", \"models_match.csv\", 2)"
   ]
  },
  {
   "cell_type": "code",
   "execution_count": null,
   "id": "0477668b",
   "metadata": {},
   "outputs": [],
   "source": []
  }
 ],
 "metadata": {
  "kernelspec": {
   "display_name": "Python 3 (ipykernel)",
   "language": "python",
   "name": "python3"
  },
  "language_info": {
   "codemirror_mode": {
    "name": "ipython",
    "version": 3
   },
   "file_extension": ".py",
   "mimetype": "text/x-python",
   "name": "python",
   "nbconvert_exporter": "python",
   "pygments_lexer": "ipython3",
   "version": "3.10.6"
  }
 },
 "nbformat": 4,
 "nbformat_minor": 5
}
