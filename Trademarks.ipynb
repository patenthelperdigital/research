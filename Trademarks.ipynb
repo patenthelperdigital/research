{
 "cells": [
  {
   "cell_type": "code",
   "execution_count": 1,
   "id": "cf992b43",
   "metadata": {},
   "outputs": [],
   "source": [
    "import pandas as pd"
   ]
  },
  {
   "cell_type": "code",
   "execution_count": 2,
   "id": "e6a0e130",
   "metadata": {},
   "outputs": [
    {
     "name": "stderr",
     "output_type": "stream",
     "text": [
      "/tmp/ipykernel_11208/642614379.py:1: DtypeWarning: Columns (0,2,13,19,21,22,24,25,31,35,36,39,41,43,45,49,53,55) have mixed types. Specify dtype option on import or set low_memory=False.\n",
      "  tm = pd.read_csv(\"../data/opendata/data-20240601-structure-20180828.csv\")\n"
     ]
    }
   ],
   "source": [
    "tm = pd.read_csv(\"../data/opendata/data-20240601-structure-20180828.csv\")"
   ]
  },
  {
   "cell_type": "code",
   "execution_count": 26,
   "id": "118e2bad",
   "metadata": {},
   "outputs": [
    {
     "name": "stderr",
     "output_type": "stream",
     "text": [
      "/tmp/ipykernel_11208/2403228113.py:1: DtypeWarning: Columns (0,12,15,21,23,27,29,35) have mixed types. Specify dtype option on import or set low_memory=False.\n",
      "  mod = pd.read_csv(\"../data/opendata/models.csv\")\n"
     ]
    }
   ],
   "source": [
    "mod = pd.read_csv(\"../data/opendata/models.csv\")"
   ]
  },
  {
   "cell_type": "code",
   "execution_count": 27,
   "id": "8c676a9f",
   "metadata": {},
   "outputs": [
    {
     "data": {
      "text/plain": [
       "registration number                                                           222362\n",
       "registration date                                                             221096\n",
       "application number                                                            221919\n",
       "application date                                                              221919\n",
       "authors                                                                       219973\n",
       "authors in latin                                                              153284\n",
       "patent holders                                                                221895\n",
       "patent holders in latin                                                        29493\n",
       "correspondence address                                                        205251\n",
       "correspondence address in latin                                                    0\n",
       "utility model name                                                            221913\n",
       "patent starting date                                                          221909\n",
       "Crimean utility model application number for state registration in Ukraine         1\n",
       "Crimean utility model application date for state registration in Ukraine           1\n",
       "Crimean utility model patent number in Ukraine                                     1\n",
       "receipt date of additional data to application                                   165\n",
       "date of application to which additional data has been received                    36\n",
       "number of application to which additional data has been received                  36\n",
       "initial application number                                                       848\n",
       "initial application date                                                         789\n",
       "initial application priority date                                                110\n",
       "previous application number                                                      376\n",
       "previous application date                                                        376\n",
       "paris convention priority number                                                2931\n",
       "paris convention priority date                                                  4098\n",
       "paris convention priority country code                                          2935\n",
       "PCT application examination start date                                           555\n",
       "PCT application number                                                           558\n",
       "PCT application date                                                             558\n",
       "PCT application publish number                                                   532\n",
       "PCT application publish date                                                     532\n",
       "patent grant publish date                                                     221914\n",
       "patent grant publish number                                                   221584\n",
       "revoked patent number                                                            114\n",
       "expiration date                                                                 5677\n",
       "utility model formula numbers for which patent term is prolonged                  57\n",
       "actual                                                                        222362\n",
       "publication URL                                                               222362\n",
       "dtype: int64"
      ]
     },
     "execution_count": 27,
     "metadata": {},
     "output_type": "execute_result"
    }
   ],
   "source": [
    "mod.notna().sum()"
   ]
  },
  {
   "cell_type": "code",
   "execution_count": 4,
   "id": "ec11d873",
   "metadata": {},
   "outputs": [
    {
     "data": {
      "text/plain": [
       "((958123, 58), (101673, 34))"
      ]
     },
     "execution_count": 4,
     "metadata": {},
     "output_type": "execute_result"
    }
   ],
   "source": [
    "tm.shape, des.shape"
   ]
  },
  {
   "cell_type": "code",
   "execution_count": 5,
   "id": "a8916e19",
   "metadata": {},
   "outputs": [
    {
     "data": {
      "text/plain": [
       "registration number                                                       958123\n",
       "registration date                                                         957990\n",
       "application number                                                        957842\n",
       "application date                                                          957736\n",
       "priority date                                                             957578\n",
       "exhibition priority date                                                     370\n",
       "paris convention priority number                                           18049\n",
       "paris convention priority date                                             18131\n",
       "paris convention priority country code                                     18197\n",
       "initial application number                                                   674\n",
       "initial application priority date                                            674\n",
       "initial registration number                                                    2\n",
       "initial registration date                                                      2\n",
       "international registration number                                            156\n",
       "international registration date                                               45\n",
       "international registration priority date                                     114\n",
       "international registration entry date                                          3\n",
       "application number for recognition of trademark from Crimea                  108\n",
       "application date for recognition of trademark from Crimea                    131\n",
       "Crimean trademark application number for state registration in Ukraine      1366\n",
       "Crimean trademark application date for state registration in Ukraine        1368\n",
       "Crimean trademark certificate number in Ukraine                             1364\n",
       "exclusive rights transfer agreement registration number                     4709\n",
       "exclusive rights transfer agreement registration date                       4711\n",
       "legally related applications                                                1486\n",
       "legally related registrations                                               5503\n",
       "expiration date                                                           958000\n",
       "right holder name                                                         958006\n",
       "foreign right holder name                                                   3885\n",
       "right holder address                                                      957989\n",
       "right holder country code                                                 957963\n",
       "right holder ogrn                                                         438876\n",
       "right holder inn                                                          274692\n",
       "correspondence address                                                    749180\n",
       "collective                                                                958123\n",
       "collective users                                                              87\n",
       "extraction from charter of the collective trademark                           28\n",
       "color specification                                                       351520\n",
       "unprotected elements                                                      170686\n",
       "kind specification                                                            25\n",
       "threedimensional                                                          958123\n",
       "threedimensional specification                                                60\n",
       "holographic                                                               958123\n",
       "holographic specification                                                      1\n",
       "sound                                                                     958123\n",
       "sound specification                                                           32\n",
       "olfactory                                                                 958123\n",
       "olfactory specification                                                        0\n",
       "color                                                                     958123\n",
       "color trademark specification                                                  1\n",
       "light                                                                     958123\n",
       "light specification                                                            0\n",
       "changing                                                                  958123\n",
       "changing specification                                                        41\n",
       "positional                                                                958123\n",
       "positional specification                                                      28\n",
       "actual                                                                    958123\n",
       "publication URL                                                           958123\n",
       "dtype: int64"
      ]
     },
     "execution_count": 5,
     "metadata": {},
     "output_type": "execute_result"
    }
   ],
   "source": [
    "tm.notna().sum()"
   ]
  },
  {
   "cell_type": "code",
   "execution_count": 6,
   "id": "cac6f502",
   "metadata": {},
   "outputs": [
    {
     "data": {
      "text/plain": [
       "registration number                                                       741509\n",
       "registration date                                                         741501\n",
       "application number                                                        741357\n",
       "application date                                                          741271\n",
       "priority date                                                             741226\n",
       "exhibition priority date                                                     243\n",
       "paris convention priority number                                             385\n",
       "paris convention priority date                                               383\n",
       "paris convention priority country code                                       399\n",
       "initial application number                                                   510\n",
       "initial application priority date                                            510\n",
       "initial registration number                                                    0\n",
       "initial registration date                                                      0\n",
       "international registration number                                              2\n",
       "international registration date                                                1\n",
       "international registration priority date                                       1\n",
       "international registration entry date                                          0\n",
       "application number for recognition of trademark from Crimea                  108\n",
       "application date for recognition of trademark from Crimea                    119\n",
       "Crimean trademark application number for state registration in Ukraine      1345\n",
       "Crimean trademark application date for state registration in Ukraine        1347\n",
       "Crimean trademark certificate number in Ukraine                             1345\n",
       "exclusive rights transfer agreement registration number                     4052\n",
       "exclusive rights transfer agreement registration date                       4053\n",
       "legally related applications                                                 942\n",
       "legally related registrations                                               4285\n",
       "expiration date                                                           741502\n",
       "right holder name                                                         741508\n",
       "foreign right holder name                                                     15\n",
       "right holder address                                                      741506\n",
       "right holder country code                                                 741509\n",
       "right holder ogrn                                                         438681\n",
       "right holder inn                                                          274680\n",
       "correspondence address                                                    594053\n",
       "collective                                                                741509\n",
       "collective users                                                              49\n",
       "extraction from charter of the collective trademark                           17\n",
       "color specification                                                       314051\n",
       "unprotected elements                                                      144879\n",
       "kind specification                                                            21\n",
       "threedimensional                                                          741509\n",
       "threedimensional specification                                                39\n",
       "holographic                                                               741509\n",
       "holographic specification                                                      1\n",
       "sound                                                                     741509\n",
       "sound specification                                                           19\n",
       "olfactory                                                                 741509\n",
       "olfactory specification                                                        0\n",
       "color                                                                     741509\n",
       "color trademark specification                                                  1\n",
       "light                                                                     741509\n",
       "light specification                                                            0\n",
       "changing                                                                  741509\n",
       "changing specification                                                        35\n",
       "positional                                                                741509\n",
       "positional specification                                                      14\n",
       "actual                                                                    741509\n",
       "publication URL                                                           741509\n",
       "dtype: int64"
      ]
     },
     "execution_count": 6,
     "metadata": {},
     "output_type": "execute_result"
    }
   ],
   "source": [
    "tm.loc[tm[\"right holder country code\"] == \"RU\"].notna().sum()"
   ]
  },
  {
   "cell_type": "code",
   "execution_count": 49,
   "id": "63affc3a",
   "metadata": {},
   "outputs": [
    {
     "data": {
      "text/html": [
       "<div>\n",
       "<style scoped>\n",
       "    .dataframe tbody tr th:only-of-type {\n",
       "        vertical-align: middle;\n",
       "    }\n",
       "\n",
       "    .dataframe tbody tr th {\n",
       "        vertical-align: top;\n",
       "    }\n",
       "\n",
       "    .dataframe thead th {\n",
       "        text-align: right;\n",
       "    }\n",
       "</style>\n",
       "<table border=\"1\" class=\"dataframe\">\n",
       "  <thead>\n",
       "    <tr style=\"text-align: right;\">\n",
       "      <th></th>\n",
       "      <th>name</th>\n",
       "      <th>ogrn</th>\n",
       "    </tr>\n",
       "  </thead>\n",
       "  <tbody>\n",
       "    <tr>\n",
       "      <th>48</th>\n",
       "      <td>АКЦИОНЕРНОЕ ОБЩЕСТВО \"ЧЕБОКСАРСКИЙ ЭЛЕКТРОАППА...</td>\n",
       "      <td>1022101129896</td>\n",
       "    </tr>\n",
       "    <tr>\n",
       "      <th>56</th>\n",
       "      <td>АКЦИОНЕРНОЕ ОБЩЕСТВО \"КОРДИАНТ\"</td>\n",
       "      <td>1027600842972</td>\n",
       "    </tr>\n",
       "    <tr>\n",
       "      <th>105</th>\n",
       "      <td>АКЦИОНЕРНОЕ ОБЩЕСТВО \"КАЗАНСКИЙ ОПТИКО-МЕХАНИЧ...</td>\n",
       "      <td>1021603617188</td>\n",
       "    </tr>\n",
       "    <tr>\n",
       "      <th>187</th>\n",
       "      <td>ОБЩЕСТВО С ОГРАНИЧЕННОЙ ОТВЕТСТВЕННОСТЬЮ \"ПИРЕ...</td>\n",
       "      <td>1117746594371</td>\n",
       "    </tr>\n",
       "    <tr>\n",
       "      <th>198</th>\n",
       "      <td>АКЦИОНЕРНОЕ ОБЩЕСТВО \"ИШИМСКИЙ МЕХАНИЧЕСКИЙ ЗА...</td>\n",
       "      <td>1087205000948</td>\n",
       "    </tr>\n",
       "    <tr>\n",
       "      <th>...</th>\n",
       "      <td>...</td>\n",
       "      <td>...</td>\n",
       "    </tr>\n",
       "    <tr>\n",
       "      <th>958114</th>\n",
       "      <td>ЯЦЕНКО ВАДИМ ВАДИМОВИЧ</td>\n",
       "      <td>322370200017840.0</td>\n",
       "    </tr>\n",
       "    <tr>\n",
       "      <th>958115</th>\n",
       "      <td>ОБЩЕСТВО С ОГРАНИЧЕННОЙ ОТВЕТСТВЕННОСТЬЮ \"ВЕРД...</td>\n",
       "      <td>1215000093021.0</td>\n",
       "    </tr>\n",
       "    <tr>\n",
       "      <th>958117</th>\n",
       "      <td>КИЯШКО ИЛОНА ГЕННАДЬЕВНА</td>\n",
       "      <td>307532134500080.0</td>\n",
       "    </tr>\n",
       "    <tr>\n",
       "      <th>958119</th>\n",
       "      <td>ОБЩЕСТВО С ОГРАНИЧЕННОЙ ОТВЕТСТВЕННОСТЬЮ \"ИЗДА...</td>\n",
       "      <td>1197746214160.0</td>\n",
       "    </tr>\n",
       "    <tr>\n",
       "      <th>958120</th>\n",
       "      <td>РЯБКОВА ТАТЬЯНА ВИКТОРОВНА</td>\n",
       "      <td>322723200032082.0</td>\n",
       "    </tr>\n",
       "  </tbody>\n",
       "</table>\n",
       "<p>219094 rows × 2 columns</p>\n",
       "</div>"
      ],
      "text/plain": [
       "                                                     name               ogrn\n",
       "48      АКЦИОНЕРНОЕ ОБЩЕСТВО \"ЧЕБОКСАРСКИЙ ЭЛЕКТРОАППА...      1022101129896\n",
       "56                        АКЦИОНЕРНОЕ ОБЩЕСТВО \"КОРДИАНТ\"      1027600842972\n",
       "105     АКЦИОНЕРНОЕ ОБЩЕСТВО \"КАЗАНСКИЙ ОПТИКО-МЕХАНИЧ...      1021603617188\n",
       "187     ОБЩЕСТВО С ОГРАНИЧЕННОЙ ОТВЕТСТВЕННОСТЬЮ \"ПИРЕ...      1117746594371\n",
       "198     АКЦИОНЕРНОЕ ОБЩЕСТВО \"ИШИМСКИЙ МЕХАНИЧЕСКИЙ ЗА...      1087205000948\n",
       "...                                                   ...                ...\n",
       "958114                             ЯЦЕНКО ВАДИМ ВАДИМОВИЧ  322370200017840.0\n",
       "958115  ОБЩЕСТВО С ОГРАНИЧЕННОЙ ОТВЕТСТВЕННОСТЬЮ \"ВЕРД...    1215000093021.0\n",
       "958117                           КИЯШКО ИЛОНА ГЕННАДЬЕВНА  307532134500080.0\n",
       "958119  ОБЩЕСТВО С ОГРАНИЧЕННОЙ ОТВЕТСТВЕННОСТЬЮ \"ИЗДА...    1197746214160.0\n",
       "958120                         РЯБКОВА ТАТЬЯНА ВИКТОРОВНА  322723200032082.0\n",
       "\n",
       "[219094 rows x 2 columns]"
      ]
     },
     "execution_count": 49,
     "metadata": {},
     "output_type": "execute_result"
    }
   ],
   "source": [
    "tm_to_merge = tm.loc[\n",
    "    tm[\"right holder country code\"] == \"RU\", [\"right holder name\", \"right holder ogrn\"]\n",
    "]\n",
    "tm_to_merge.columns=[\"name\", \"ogrn\"]\n",
    "tm_to_merge[\"name\"] = tm_to_merge[\"name\"].str.strip().str.upper()\n",
    "tm_to_merge.dropna(subset=[\"ogrn\"], inplace=True)\n",
    "tm_to_merge.drop_duplicates(subset=[\"ogrn\"], inplace=True)\n",
    "tm_to_merge"
   ]
  },
  {
   "cell_type": "code",
   "execution_count": 45,
   "id": "dbf54539",
   "metadata": {},
   "outputs": [
    {
     "data": {
      "text/html": [
       "<div>\n",
       "<style scoped>\n",
       "    .dataframe tbody tr th:only-of-type {\n",
       "        vertical-align: middle;\n",
       "    }\n",
       "\n",
       "    .dataframe tbody tr th {\n",
       "        vertical-align: top;\n",
       "    }\n",
       "\n",
       "    .dataframe thead th {\n",
       "        text-align: right;\n",
       "    }\n",
       "</style>\n",
       "<table border=\"1\" class=\"dataframe\">\n",
       "  <thead>\n",
       "    <tr style=\"text-align: right;\">\n",
       "      <th></th>\n",
       "      <th>name</th>\n",
       "    </tr>\n",
       "  </thead>\n",
       "  <tbody>\n",
       "    <tr>\n",
       "      <th>0</th>\n",
       "      <td>НАПЕТВАРИДЗЕ С.О. \\r\\nЧАЛАГАНИДЗЕ ШОТА ИВАНОВИ...</td>\n",
       "    </tr>\n",
       "    <tr>\n",
       "      <th>192</th>\n",
       "      <td>ЗАКРЫТОЕ АКЦИОНЕРНОЕ ОБЩЕСТВО \"ПАРТНЕР\"</td>\n",
       "    </tr>\n",
       "    <tr>\n",
       "      <th>203</th>\n",
       "      <td>ХОЗРАСЧЕТНЫЙ ЦЕНТР \"ИНТЕГРАЛ\"</td>\n",
       "    </tr>\n",
       "    <tr>\n",
       "      <th>232</th>\n",
       "      <td>ЧАБУРОВ ВИКТОР ФЕДОРОВИЧ (LT)\\r\\nЧАБУРОВ АНДРЕ...</td>\n",
       "    </tr>\n",
       "    <tr>\n",
       "      <th>352</th>\n",
       "      <td>ЗАКРЫТОЕ АКЦИОНЕРНОЕ ОБЩЕСТВО \"РОССИЙСКО-ЧЕШСК...</td>\n",
       "    </tr>\n",
       "    <tr>\n",
       "      <th>...</th>\n",
       "      <td>...</td>\n",
       "    </tr>\n",
       "    <tr>\n",
       "      <th>222356</th>\n",
       "      <td>АКЦИОНЕРНОЕ ОБЩЕСТВО \"РМ РЕЙЛ АБАКАНВАГОНМАШ\" ...</td>\n",
       "    </tr>\n",
       "    <tr>\n",
       "      <th>222357</th>\n",
       "      <td>БРАТЧИКОВА ДИНАРА МАРАТОВНА</td>\n",
       "    </tr>\n",
       "    <tr>\n",
       "      <th>222358</th>\n",
       "      <td>МАЛОВИЧКО ВЛАДИМИР ВАЛЕНТИНОВИЧ</td>\n",
       "    </tr>\n",
       "    <tr>\n",
       "      <th>222359</th>\n",
       "      <td>КИРИЛЛОВ ВЛАДИМИР ИЛЬИЧ</td>\n",
       "    </tr>\n",
       "    <tr>\n",
       "      <th>222360</th>\n",
       "      <td>ОБЩЕСТВО С ОГРАНИЧЕННОЙ ОТВЕТСТВЕННОСТЬЮ \"ЗАВО...</td>\n",
       "    </tr>\n",
       "  </tbody>\n",
       "</table>\n",
       "<p>191277 rows × 1 columns</p>\n",
       "</div>"
      ],
      "text/plain": [
       "                                                     name\n",
       "0       НАПЕТВАРИДЗЕ С.О. \\r\\nЧАЛАГАНИДЗЕ ШОТА ИВАНОВИ...\n",
       "192               ЗАКРЫТОЕ АКЦИОНЕРНОЕ ОБЩЕСТВО \"ПАРТНЕР\"\n",
       "203                         ХОЗРАСЧЕТНЫЙ ЦЕНТР \"ИНТЕГРАЛ\"\n",
       "232     ЧАБУРОВ ВИКТОР ФЕДОРОВИЧ (LT)\\r\\nЧАБУРОВ АНДРЕ...\n",
       "352     ЗАКРЫТОЕ АКЦИОНЕРНОЕ ОБЩЕСТВО \"РОССИЙСКО-ЧЕШСК...\n",
       "...                                                   ...\n",
       "222356  АКЦИОНЕРНОЕ ОБЩЕСТВО \"РМ РЕЙЛ АБАКАНВАГОНМАШ\" ...\n",
       "222357                        БРАТЧИКОВА ДИНАРА МАРАТОВНА\n",
       "222358                    МАЛОВИЧКО ВЛАДИМИР ВАЛЕНТИНОВИЧ\n",
       "222359                            КИРИЛЛОВ ВЛАДИМИР ИЛЬИЧ\n",
       "222360  ОБЩЕСТВО С ОГРАНИЧЕННОЙ ОТВЕТСТВЕННОСТЬЮ \"ЗАВО...\n",
       "\n",
       "[191277 rows x 1 columns]"
      ]
     },
     "execution_count": 45,
     "metadata": {},
     "output_type": "execute_result"
    }
   ],
   "source": [
    "mod_to_merge = mod.loc[mod[\"patent holders\"].str.contains(\"RU\", na=False), [\"patent holders\"]]\n",
    "mod_to_merge.columns = [\"name\"]\n",
    "mod_to_merge[\"name\"] = mod_to_merge[\"name\"].str.replace(\"(RU)\", \"\").str.strip().str.upper()\n",
    "mod_to_merge"
   ]
  },
  {
   "cell_type": "code",
   "execution_count": 50,
   "id": "a2b9792d",
   "metadata": {},
   "outputs": [
    {
     "data": {
      "text/plain": [
       "name    213504\n",
       "ogrn     49856\n",
       "dtype: int64"
      ]
     },
     "execution_count": 50,
     "metadata": {},
     "output_type": "execute_result"
    }
   ],
   "source": [
    "mod_to_merge.merge(\n",
    "    tm_to_merge,\n",
    "    how=\"left\",\n",
    "    on=\"name\"\n",
    ").notna().sum()"
   ]
  },
  {
   "cell_type": "code",
   "execution_count": 51,
   "id": "42f828cd",
   "metadata": {},
   "outputs": [
    {
     "name": "stderr",
     "output_type": "stream",
     "text": [
      "/tmp/ipykernel_11208/665070949.py:1: DtypeWarning: Columns (0,2,9,12,17,18,21,22,23,24,25,27,29,40,42) have mixed types. Specify dtype option on import or set low_memory=False.\n",
      "  inv = pd.read_csv(\"../data/opendata/inventions.csv\")\n"
     ]
    }
   ],
   "source": [
    "inv = pd.read_csv(\"../data/opendata/inventions.csv\")"
   ]
  },
  {
   "cell_type": "code",
   "execution_count": 52,
   "id": "3abb3cb4",
   "metadata": {},
   "outputs": [
    {
     "data": {
      "text/html": [
       "<div>\n",
       "<style scoped>\n",
       "    .dataframe tbody tr th:only-of-type {\n",
       "        vertical-align: middle;\n",
       "    }\n",
       "\n",
       "    .dataframe tbody tr th {\n",
       "        vertical-align: top;\n",
       "    }\n",
       "\n",
       "    .dataframe thead th {\n",
       "        text-align: right;\n",
       "    }\n",
       "</style>\n",
       "<table border=\"1\" class=\"dataframe\">\n",
       "  <thead>\n",
       "    <tr style=\"text-align: right;\">\n",
       "      <th></th>\n",
       "      <th>name</th>\n",
       "    </tr>\n",
       "  </thead>\n",
       "  <tbody>\n",
       "    <tr>\n",
       "      <th>2</th>\n",
       "      <td>ОБЩЕСТВО С ОГРАНИЧЕННОЙ ОТВЕТСТВЕННОСТЬЮ \"РИФ\"</td>\n",
       "    </tr>\n",
       "    <tr>\n",
       "      <th>3</th>\n",
       "      <td>ОБЩЕСТВО С ОГРАНИЧЕННОЙ ОТВЕТСТВЕННОСТЬЮ \"НАУЧ...</td>\n",
       "    </tr>\n",
       "    <tr>\n",
       "      <th>182</th>\n",
       "      <td>КВАСЕНКОВ О.И. , ОКАФОР И.Г.(ЫС), КАСЬЯНОВ Г.И...</td>\n",
       "    </tr>\n",
       "    <tr>\n",
       "      <th>23778</th>\n",
       "      <td>ООО \"АРСЕНТЕХ\"</td>\n",
       "    </tr>\n",
       "    <tr>\n",
       "      <th>48674</th>\n",
       "      <td>ООО \"НАУЧНО-ПРОИЗВОДСТВЕННОЕ ПРЕДПРИЯТИЕ \"ПОЛИ...</td>\n",
       "    </tr>\n",
       "    <tr>\n",
       "      <th>...</th>\n",
       "      <td>...</td>\n",
       "    </tr>\n",
       "    <tr>\n",
       "      <th>813622</th>\n",
       "      <td>ФЕДЕРАЛЬНОЕ ГОСУДАРСТВЕННОЕ БЮДЖЕТНОЕ ОБРАЗОВА...</td>\n",
       "    </tr>\n",
       "    <tr>\n",
       "      <th>813624</th>\n",
       "      <td>ОБЩЕСТВО С ОГРАНИЧЕННОЙ ОТВЕТСТВЕННОСТЬЮ \"ГАЗП...</td>\n",
       "    </tr>\n",
       "    <tr>\n",
       "      <th>813625</th>\n",
       "      <td>АКЦИОНЕРНОЕ ОБЩЕСТВО \"ОДК-АВИАДВИГАТЕЛЬ\"</td>\n",
       "    </tr>\n",
       "    <tr>\n",
       "      <th>813626</th>\n",
       "      <td>ОБЩЕСТВО С ОГРАНИЧЕННОЙ ОТВЕТСТВЕННОСТЬЮ \"ВАЙТ...</td>\n",
       "    </tr>\n",
       "    <tr>\n",
       "      <th>813627</th>\n",
       "      <td>ФЕДЕРАЛЬНОЕ ГОСУДАРСТВЕННОЕ БЮДЖЕТНОЕ ОБРАЗОВА...</td>\n",
       "    </tr>\n",
       "  </tbody>\n",
       "</table>\n",
       "<p>407461 rows × 1 columns</p>\n",
       "</div>"
      ],
      "text/plain": [
       "                                                     name\n",
       "2          ОБЩЕСТВО С ОГРАНИЧЕННОЙ ОТВЕТСТВЕННОСТЬЮ \"РИФ\"\n",
       "3       ОБЩЕСТВО С ОГРАНИЧЕННОЙ ОТВЕТСТВЕННОСТЬЮ \"НАУЧ...\n",
       "182     КВАСЕНКОВ О.И. , ОКАФОР И.Г.(ЫС), КАСЬЯНОВ Г.И...\n",
       "23778                                      ООО \"АРСЕНТЕХ\"\n",
       "48674   ООО \"НАУЧНО-ПРОИЗВОДСТВЕННОЕ ПРЕДПРИЯТИЕ \"ПОЛИ...\n",
       "...                                                   ...\n",
       "813622  ФЕДЕРАЛЬНОЕ ГОСУДАРСТВЕННОЕ БЮДЖЕТНОЕ ОБРАЗОВА...\n",
       "813624  ОБЩЕСТВО С ОГРАНИЧЕННОЙ ОТВЕТСТВЕННОСТЬЮ \"ГАЗП...\n",
       "813625           АКЦИОНЕРНОЕ ОБЩЕСТВО \"ОДК-АВИАДВИГАТЕЛЬ\"\n",
       "813626  ОБЩЕСТВО С ОГРАНИЧЕННОЙ ОТВЕТСТВЕННОСТЬЮ \"ВАЙТ...\n",
       "813627  ФЕДЕРАЛЬНОЕ ГОСУДАРСТВЕННОЕ БЮДЖЕТНОЕ ОБРАЗОВА...\n",
       "\n",
       "[407461 rows x 1 columns]"
      ]
     },
     "execution_count": 52,
     "metadata": {},
     "output_type": "execute_result"
    }
   ],
   "source": [
    "inv_to_merge = inv.loc[inv[\"patent holders\"].str.contains(\"RU\", na=False), [\"patent holders\"]]\n",
    "inv_to_merge.columns = [\"name\"]\n",
    "inv_to_merge[\"name\"] = inv_to_merge[\"name\"].str.replace(\"(RU)\", \"\").str.strip().str.upper()\n",
    "inv_to_merge"
   ]
  },
  {
   "cell_type": "code",
   "execution_count": 54,
   "id": "d6635266",
   "metadata": {},
   "outputs": [
    {
     "data": {
      "text/plain": [
       "name    430197\n",
       "ogrn     65769\n",
       "dtype: int64"
      ]
     },
     "execution_count": 54,
     "metadata": {},
     "output_type": "execute_result"
    }
   ],
   "source": [
    "inv_to_merge.merge(\n",
    "    tm_to_merge,\n",
    "    how=\"left\",\n",
    "    on=\"name\"\n",
    ").notna().sum()"
   ]
  },
  {
   "cell_type": "code",
   "execution_count": 55,
   "id": "5b263a0b",
   "metadata": {},
   "outputs": [],
   "source": [
    "mod2 = pd.read_excel(\"../data/База по полезным моделям.xlsx\")"
   ]
  },
  {
   "cell_type": "code",
   "execution_count": 56,
   "id": "48f23a74",
   "metadata": {},
   "outputs": [
    {
     "data": {
      "text/html": [
       "<div>\n",
       "<style scoped>\n",
       "    .dataframe tbody tr th:only-of-type {\n",
       "        vertical-align: middle;\n",
       "    }\n",
       "\n",
       "    .dataframe tbody tr th {\n",
       "        vertical-align: top;\n",
       "    }\n",
       "\n",
       "    .dataframe thead th {\n",
       "        text-align: right;\n",
       "    }\n",
       "</style>\n",
       "<table border=\"1\" class=\"dataframe\">\n",
       "  <thead>\n",
       "    <tr style=\"text-align: right;\">\n",
       "      <th></th>\n",
       "      <th>name</th>\n",
       "    </tr>\n",
       "  </thead>\n",
       "  <tbody>\n",
       "    <tr>\n",
       "      <th>0</th>\n",
       "      <td>ФЕДЕРАЛЬНОЕ ГОСУДАРСТВЕННОЕ КАЗЕННОЕ ВОЕННОЕ О...</td>\n",
       "    </tr>\n",
       "    <tr>\n",
       "      <th>1</th>\n",
       "      <td>ОБЩЕСТВО С ОГРАНИЧЕННОЙ ОТВЕТСТВЕННОСТЬЮ \"АРТ ...</td>\n",
       "    </tr>\n",
       "    <tr>\n",
       "      <th>2</th>\n",
       "      <td>ОБЩЕСТВО С ОГРАНИЧЕННОЙ ОТВЕТСТВЕННОСТЬЮ \"КРОН...</td>\n",
       "    </tr>\n",
       "    <tr>\n",
       "      <th>3</th>\n",
       "      <td>ОБЩЕСТВО С ОГРАНИЧЕННОЙ ОТВЕТСТВЕННОСТЬЮ \"АЛКО...</td>\n",
       "    </tr>\n",
       "    <tr>\n",
       "      <th>4</th>\n",
       "      <td>ШАФЕРМАН ИЛЬЯ МИХАЙЛОВИЧ ГИТМАН ЭДУАРД МАРКОВИ...</td>\n",
       "    </tr>\n",
       "    <tr>\n",
       "      <th>...</th>\n",
       "      <td>...</td>\n",
       "    </tr>\n",
       "    <tr>\n",
       "      <th>223886</th>\n",
       "      <td>ГЛЯДКОВ СЕРГЕЙ ЕВГЕНЬЕВИЧ</td>\n",
       "    </tr>\n",
       "    <tr>\n",
       "      <th>223887</th>\n",
       "      <td>КОЛПАКОВА ОЛЬГА НИКОЛАЕВНА</td>\n",
       "    </tr>\n",
       "    <tr>\n",
       "      <th>223888</th>\n",
       "      <td>ОБЩЕСТВО С ОГРАНИЧЕННОЙ ОТВЕТСТВЕННОСТЬЮ \"СК П...</td>\n",
       "    </tr>\n",
       "    <tr>\n",
       "      <th>223889</th>\n",
       "      <td>ГОСУДАРСТВЕННОЕ ОБЩЕОБРАЗОВАТЕЛЬНОЕ УЧРЕЖДЕНИЕ...</td>\n",
       "    </tr>\n",
       "    <tr>\n",
       "      <th>223890</th>\n",
       "      <td>ГОСУДАРСТВЕННОЕ ОБРАЗОВАТЕЛЬНОЕ УЧРЕЖДЕНИЕ ВЫС...</td>\n",
       "    </tr>\n",
       "  </tbody>\n",
       "</table>\n",
       "<p>192673 rows × 1 columns</p>\n",
       "</div>"
      ],
      "text/plain": [
       "                                                     name\n",
       "0       ФЕДЕРАЛЬНОЕ ГОСУДАРСТВЕННОЕ КАЗЕННОЕ ВОЕННОЕ О...\n",
       "1       ОБЩЕСТВО С ОГРАНИЧЕННОЙ ОТВЕТСТВЕННОСТЬЮ \"АРТ ...\n",
       "2       ОБЩЕСТВО С ОГРАНИЧЕННОЙ ОТВЕТСТВЕННОСТЬЮ \"КРОН...\n",
       "3       ОБЩЕСТВО С ОГРАНИЧЕННОЙ ОТВЕТСТВЕННОСТЬЮ \"АЛКО...\n",
       "4       ШАФЕРМАН ИЛЬЯ МИХАЙЛОВИЧ ГИТМАН ЭДУАРД МАРКОВИ...\n",
       "...                                                   ...\n",
       "223886                          ГЛЯДКОВ СЕРГЕЙ ЕВГЕНЬЕВИЧ\n",
       "223887                         КОЛПАКОВА ОЛЬГА НИКОЛАЕВНА\n",
       "223888  ОБЩЕСТВО С ОГРАНИЧЕННОЙ ОТВЕТСТВЕННОСТЬЮ \"СК П...\n",
       "223889  ГОСУДАРСТВЕННОЕ ОБЩЕОБРАЗОВАТЕЛЬНОЕ УЧРЕЖДЕНИЕ...\n",
       "223890  ГОСУДАРСТВЕННОЕ ОБРАЗОВАТЕЛЬНОЕ УЧРЕЖДЕНИЕ ВЫС...\n",
       "\n",
       "[192673 rows x 1 columns]"
      ]
     },
     "execution_count": 56,
     "metadata": {},
     "output_type": "execute_result"
    }
   ],
   "source": [
    "mod2_to_merge = mod2.loc[mod2[\"patent holders\"].str.contains(\"RU\", na=False), [\"patent holders\"]]\n",
    "mod2_to_merge.columns = [\"name\"]\n",
    "mod2_to_merge[\"name\"] = mod2_to_merge[\"name\"].str.replace(\"(RU)\", \"\").str.strip().str.upper()\n",
    "mod2_to_merge"
   ]
  },
  {
   "cell_type": "code",
   "execution_count": 59,
   "id": "95d53be8",
   "metadata": {},
   "outputs": [
    {
     "data": {
      "text/plain": [
       "name    ШАФЕРМАН ИЛЬЯ МИХАЙЛОВИЧ ГИТМАН ЭДУАРД МАРКОВИ...\n",
       "Name: 4, dtype: object"
      ]
     },
     "execution_count": 59,
     "metadata": {},
     "output_type": "execute_result"
    }
   ],
   "source": [
    "mod2_to_merge.iloc[4]"
   ]
  },
  {
   "cell_type": "code",
   "execution_count": 57,
   "id": "96650e67",
   "metadata": {},
   "outputs": [
    {
     "data": {
      "text/plain": [
       "name    216010\n",
       "ogrn     51498\n",
       "dtype: int64"
      ]
     },
     "execution_count": 57,
     "metadata": {},
     "output_type": "execute_result"
    }
   ],
   "source": [
    "mod2_to_merge.merge(\n",
    "    tm_to_merge,\n",
    "    how=\"left\",\n",
    "    on=\"name\"\n",
    ").notna().sum()"
   ]
  },
  {
   "cell_type": "code",
   "execution_count": 69,
   "id": "fa39c8a0",
   "metadata": {},
   "outputs": [
    {
     "data": {
      "text/html": [
       "<div>\n",
       "<style scoped>\n",
       "    .dataframe tbody tr th:only-of-type {\n",
       "        vertical-align: middle;\n",
       "    }\n",
       "\n",
       "    .dataframe tbody tr th {\n",
       "        vertical-align: top;\n",
       "    }\n",
       "\n",
       "    .dataframe thead th {\n",
       "        text-align: right;\n",
       "    }\n",
       "</style>\n",
       "<table border=\"1\" class=\"dataframe\">\n",
       "  <thead>\n",
       "    <tr style=\"text-align: right;\">\n",
       "      <th></th>\n",
       "      <th>addr</th>\n",
       "    </tr>\n",
       "  </thead>\n",
       "  <tbody>\n",
       "    <tr>\n",
       "      <th>0</th>\n",
       "      <td>625001, Г. ТЮМЕНЬ, УЛ. Л. ТОЛСТОГО, 1, ТЮМЕНСК...</td>\n",
       "    </tr>\n",
       "    <tr>\n",
       "      <th>1</th>\n",
       "      <td>115372, МОСКВА, А/Я 4, И.А. ЧИКИНУ</td>\n",
       "    </tr>\n",
       "    <tr>\n",
       "      <th>2</th>\n",
       "      <td>109456, МОСКВА, РЯЗАНСКИЙ ПР-КТ, 75, КОРП.4, 1...</td>\n",
       "    </tr>\n",
       "    <tr>\n",
       "      <th>3</th>\n",
       "      <td>199053, САНКТ-ПЕТЕРБУРГ, А/Я 690, ООО \"АЛКОРУС...</td>\n",
       "    </tr>\n",
       "    <tr>\n",
       "      <th>4</th>\n",
       "      <td>123104, МОСКВА, УЛ. МАЛАЯ БРОННАЯ, 16, КВ.42.,...</td>\n",
       "    </tr>\n",
       "    <tr>\n",
       "      <th>...</th>\n",
       "      <td>...</td>\n",
       "    </tr>\n",
       "    <tr>\n",
       "      <th>223856</th>\n",
       "      <td>350072, Г.КРАСНОДАР, УЛ. МОСКОВСКАЯ, 2, ГОУ ВП...</td>\n",
       "    </tr>\n",
       "    <tr>\n",
       "      <th>223866</th>\n",
       "      <td>654066, КЕМЕРОВСКАЯ ОБЛ., Г. НОВОКУЗНЕЦК, УЛ. ...</td>\n",
       "    </tr>\n",
       "    <tr>\n",
       "      <th>223873</th>\n",
       "      <td>625013, Г.ТЮМЕНЬ, УЛ. ЭНЕРГЕТИКОВ, 53, КОРП.1,...</td>\n",
       "    </tr>\n",
       "    <tr>\n",
       "      <th>223877</th>\n",
       "      <td>357112, СТАВРОПОЛЬСКИЙ КРАЙ, Г. НЕВИННОМЫССК, ...</td>\n",
       "    </tr>\n",
       "    <tr>\n",
       "      <th>223885</th>\n",
       "      <td>603005, Г.НИЖНИЙ НОВГОРОД, УЛ. АЛЕКСЕЕВСКАЯ, 1...</td>\n",
       "    </tr>\n",
       "  </tbody>\n",
       "</table>\n",
       "<p>67464 rows × 1 columns</p>\n",
       "</div>"
      ],
      "text/plain": [
       "                                                     addr\n",
       "0       625001, Г. ТЮМЕНЬ, УЛ. Л. ТОЛСТОГО, 1, ТЮМЕНСК...\n",
       "1                      115372, МОСКВА, А/Я 4, И.А. ЧИКИНУ\n",
       "2       109456, МОСКВА, РЯЗАНСКИЙ ПР-КТ, 75, КОРП.4, 1...\n",
       "3       199053, САНКТ-ПЕТЕРБУРГ, А/Я 690, ООО \"АЛКОРУС...\n",
       "4       123104, МОСКВА, УЛ. МАЛАЯ БРОННАЯ, 16, КВ.42.,...\n",
       "...                                                   ...\n",
       "223856  350072, Г.КРАСНОДАР, УЛ. МОСКОВСКАЯ, 2, ГОУ ВП...\n",
       "223866  654066, КЕМЕРОВСКАЯ ОБЛ., Г. НОВОКУЗНЕЦК, УЛ. ...\n",
       "223873  625013, Г.ТЮМЕНЬ, УЛ. ЭНЕРГЕТИКОВ, 53, КОРП.1,...\n",
       "223877  357112, СТАВРОПОЛЬСКИЙ КРАЙ, Г. НЕВИННОМЫССК, ...\n",
       "223885  603005, Г.НИЖНИЙ НОВГОРОД, УЛ. АЛЕКСЕЕВСКАЯ, 1...\n",
       "\n",
       "[67464 rows x 1 columns]"
      ]
     },
     "execution_count": 69,
     "metadata": {},
     "output_type": "execute_result"
    }
   ],
   "source": [
    "mod2_to_merge2 = mod2.loc[mod2[\"patent holders\"].str.contains(\"RU\", na=False), [\"correspondence address\"]]\n",
    "mod2_to_merge2.columns = [\"addr\"]\n",
    "mod2_to_merge2[\"addr\"] = mod2_to_merge2[\"addr\"].str.strip().str.upper()\n",
    "mod2_to_merge2.dropna(inplace=True)\n",
    "mod2_to_merge2.drop_duplicates(subset=[\"addr\"], inplace=True)\n",
    "mod2_to_merge2"
   ]
  },
  {
   "cell_type": "code",
   "execution_count": 76,
   "id": "095f7905",
   "metadata": {},
   "outputs": [
    {
     "data": {
      "text/html": [
       "<div>\n",
       "<style scoped>\n",
       "    .dataframe tbody tr th:only-of-type {\n",
       "        vertical-align: middle;\n",
       "    }\n",
       "\n",
       "    .dataframe tbody tr th {\n",
       "        vertical-align: top;\n",
       "    }\n",
       "\n",
       "    .dataframe thead th {\n",
       "        text-align: right;\n",
       "    }\n",
       "</style>\n",
       "<table border=\"1\" class=\"dataframe\">\n",
       "  <thead>\n",
       "    <tr style=\"text-align: right;\">\n",
       "      <th></th>\n",
       "      <th>addr</th>\n",
       "      <th>ogrn</th>\n",
       "    </tr>\n",
       "  </thead>\n",
       "  <tbody>\n",
       "    <tr>\n",
       "      <th>56</th>\n",
       "      <td>АО \"КОРДИНАТ\", В ДЕПАРТАМЕНТ ПО ПРАВОВЫМ И КОР...</td>\n",
       "      <td>1027600842972</td>\n",
       "    </tr>\n",
       "    <tr>\n",
       "      <th>105</th>\n",
       "      <td>УЛ. ЛИПАТОВА, 37, Г. КАЗАНЬ, РЕСПУБЛИКА ТАТАРС...</td>\n",
       "      <td>1021603617188</td>\n",
       "    </tr>\n",
       "    <tr>\n",
       "      <th>187</th>\n",
       "      <td>ООО \"ЮРИДИЧЕСКАЯ ФИРМА ГОРОДИССКИЙ И ПАРТНЕРЫ\"...</td>\n",
       "      <td>1117746594371</td>\n",
       "    </tr>\n",
       "    <tr>\n",
       "      <th>199</th>\n",
       "      <td>ДЛЯ ООО МЭЛЗ ФЭУ\", ПР-Д 4922, Д.4, СТР.4, Г.ЗЕ...</td>\n",
       "      <td>1087746873356</td>\n",
       "    </tr>\n",
       "    <tr>\n",
       "      <th>214</th>\n",
       "      <td>ОАО \"ЗАВОД АВТОНОМНЫХ ИСТОЧНИКОВ ТОКА\", УЛ.ОРД...</td>\n",
       "      <td>1026402485163</td>\n",
       "    </tr>\n",
       "    <tr>\n",
       "      <th>...</th>\n",
       "      <td>...</td>\n",
       "      <td>...</td>\n",
       "    </tr>\n",
       "    <tr>\n",
       "      <th>958110</th>\n",
       "      <td>121351, МОСКВА, УЛ. ЕКАТЕРИНЫ БУДАНОВОЙ, 5, ЭТ...</td>\n",
       "      <td>1177746606509.0</td>\n",
       "    </tr>\n",
       "    <tr>\n",
       "      <th>958114</th>\n",
       "      <td>153002, ИВАНОВСКАЯ ОБЛАСТЬ, Г. ИВАНОВО, УЛ. ДЕ...</td>\n",
       "      <td>322370200017840.0</td>\n",
       "    </tr>\n",
       "    <tr>\n",
       "      <th>958117</th>\n",
       "      <td>173014, НОВГОРОДСКАЯ ОБЛАСТЬ, Г. ВЕЛИКИЙ НОВГО...</td>\n",
       "      <td>307532134500080.0</td>\n",
       "    </tr>\n",
       "    <tr>\n",
       "      <th>958119</th>\n",
       "      <td>М.В.ЛАБЗИНУ, ИНТЕЛЛЕКТ, А/Я 62, МОСКВА, 119019</td>\n",
       "      <td>1197746214160.0</td>\n",
       "    </tr>\n",
       "    <tr>\n",
       "      <th>958120</th>\n",
       "      <td>625007, ТЮМЕНСКАЯ ОБЛАСТЬ, Г. ТЮМЕНЬ, УЛ. ШИРО...</td>\n",
       "      <td>322723200032082.0</td>\n",
       "    </tr>\n",
       "  </tbody>\n",
       "</table>\n",
       "<p>90116 rows × 2 columns</p>\n",
       "</div>"
      ],
      "text/plain": [
       "                                                     addr               ogrn\n",
       "56      АО \"КОРДИНАТ\", В ДЕПАРТАМЕНТ ПО ПРАВОВЫМ И КОР...      1027600842972\n",
       "105     УЛ. ЛИПАТОВА, 37, Г. КАЗАНЬ, РЕСПУБЛИКА ТАТАРС...      1021603617188\n",
       "187     ООО \"ЮРИДИЧЕСКАЯ ФИРМА ГОРОДИССКИЙ И ПАРТНЕРЫ\"...      1117746594371\n",
       "199     ДЛЯ ООО МЭЛЗ ФЭУ\", ПР-Д 4922, Д.4, СТР.4, Г.ЗЕ...      1087746873356\n",
       "214     ОАО \"ЗАВОД АВТОНОМНЫХ ИСТОЧНИКОВ ТОКА\", УЛ.ОРД...      1026402485163\n",
       "...                                                   ...                ...\n",
       "958110  121351, МОСКВА, УЛ. ЕКАТЕРИНЫ БУДАНОВОЙ, 5, ЭТ...    1177746606509.0\n",
       "958114  153002, ИВАНОВСКАЯ ОБЛАСТЬ, Г. ИВАНОВО, УЛ. ДЕ...  322370200017840.0\n",
       "958117  173014, НОВГОРОДСКАЯ ОБЛАСТЬ, Г. ВЕЛИКИЙ НОВГО...  307532134500080.0\n",
       "958119     М.В.ЛАБЗИНУ, ИНТЕЛЛЕКТ, А/Я 62, МОСКВА, 119019    1197746214160.0\n",
       "958120  625007, ТЮМЕНСКАЯ ОБЛАСТЬ, Г. ТЮМЕНЬ, УЛ. ШИРО...  322723200032082.0\n",
       "\n",
       "[90116 rows x 2 columns]"
      ]
     },
     "execution_count": 76,
     "metadata": {},
     "output_type": "execute_result"
    }
   ],
   "source": [
    "tm_to_merge2 = tm.loc[\n",
    "    tm[\"right holder country code\"] == \"RU\", [\"correspondence address\", \"right holder ogrn\"]\n",
    "]\n",
    "tm_to_merge2.columns=[\"addr\", \"ogrn\"]\n",
    "tm_to_merge2[\"addr\"] = tm_to_merge2[\"addr\"].str.strip().str.upper()\n",
    "tm_to_merge2.dropna(subset=[\"addr\", \"ogrn\"], inplace=True)\n",
    "tm_to_merge2.drop_duplicates(subset=[\"addr\"], inplace=True)\n",
    "tm_to_merge2.drop_duplicates(subset=[\"ogrn\"], inplace=True)\n",
    "tm_to_merge2"
   ]
  },
  {
   "cell_type": "code",
   "execution_count": 77,
   "id": "cd9643e3",
   "metadata": {},
   "outputs": [
    {
     "data": {
      "text/plain": [
       "addr    67464\n",
       "ogrn     1291\n",
       "dtype: int64"
      ]
     },
     "execution_count": 77,
     "metadata": {},
     "output_type": "execute_result"
    }
   ],
   "source": [
    "mod2_to_merge2.merge(\n",
    "    tm_to_merge2,\n",
    "    how=\"left\",\n",
    "    on=\"addr\"\n",
    ").notna().sum()"
   ]
  },
  {
   "cell_type": "code",
   "execution_count": null,
   "id": "c8ff3d49",
   "metadata": {},
   "outputs": [],
   "source": []
  },
  {
   "cell_type": "code",
   "execution_count": null,
   "id": "ffab6839",
   "metadata": {},
   "outputs": [],
   "source": []
  },
  {
   "cell_type": "code",
   "execution_count": null,
   "id": "71f72c54",
   "metadata": {},
   "outputs": [],
   "source": []
  },
  {
   "cell_type": "code",
   "execution_count": null,
   "id": "276eded0",
   "metadata": {},
   "outputs": [],
   "source": []
  },
  {
   "cell_type": "code",
   "execution_count": null,
   "id": "20bc61b0",
   "metadata": {},
   "outputs": [],
   "source": []
  }
 ],
 "metadata": {
  "kernelspec": {
   "display_name": "Python 3 (ipykernel)",
   "language": "python",
   "name": "python3"
  },
  "language_info": {
   "codemirror_mode": {
    "name": "ipython",
    "version": 3
   },
   "file_extension": ".py",
   "mimetype": "text/x-python",
   "name": "python",
   "nbconvert_exporter": "python",
   "pygments_lexer": "ipython3",
   "version": "3.10.6"
  }
 },
 "nbformat": 4,
 "nbformat_minor": 5
}
