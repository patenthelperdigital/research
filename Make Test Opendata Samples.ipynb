{
 "cells": [
  {
   "cell_type": "code",
   "execution_count": 1,
   "id": "3b4c922d",
   "metadata": {},
   "outputs": [],
   "source": [
    "import pandas as pd"
   ]
  },
  {
   "cell_type": "code",
   "execution_count": 2,
   "id": "73ab7a70",
   "metadata": {},
   "outputs": [
    {
     "name": "stderr",
     "output_type": "stream",
     "text": [
      "/tmp/ipykernel_14368/3754028183.py:2: DtypeWarning: Columns (0,2,9,12,17,18,21,22,23,24,25,27,29,40,42) have mixed types. Specify dtype option on import or set low_memory=False.\n",
      "  df = pd.read_csv(f\"../data/opendata/{fn}.csv\")\n",
      "/tmp/ipykernel_14368/3754028183.py:2: DtypeWarning: Columns (0,12,15,21,23,27,29,35) have mixed types. Specify dtype option on import or set low_memory=False.\n",
      "  df = pd.read_csv(f\"../data/opendata/{fn}.csv\")\n",
      "/tmp/ipykernel_14368/3754028183.py:2: DtypeWarning: Columns (0,5,7,12,17,18,21,24) have mixed types. Specify dtype option on import or set low_memory=False.\n",
      "  df = pd.read_csv(f\"../data/opendata/{fn}.csv\")\n"
     ]
    }
   ],
   "source": [
    "for fn in (\"inventions\", \"models\", \"designs\"):\n",
    "    df = pd.read_csv(f\"../data/opendata/{fn}.csv\")\n",
    "    df.sample(n = 1000).to_csv(f\"../data/opendata/samples/{fn}_sample.csv\")"
   ]
  },
  {
   "cell_type": "code",
   "execution_count": null,
   "id": "4a9ce209",
   "metadata": {},
   "outputs": [],
   "source": []
  }
 ],
 "metadata": {
  "kernelspec": {
   "display_name": "Python 3 (ipykernel)",
   "language": "python",
   "name": "python3"
  },
  "language_info": {
   "codemirror_mode": {
    "name": "ipython",
    "version": 3
   },
   "file_extension": ".py",
   "mimetype": "text/x-python",
   "name": "python",
   "nbconvert_exporter": "python",
   "pygments_lexer": "ipython3",
   "version": "3.10.6"
  }
 },
 "nbformat": 4,
 "nbformat_minor": 5
}
